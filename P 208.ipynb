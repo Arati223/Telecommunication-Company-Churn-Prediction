{
 "cells": [
  {
   "cell_type": "markdown",
   "id": "86b4915a",
   "metadata": {},
   "source": [
    "# Problem Statement"
   ]
  },
  {
   "cell_type": "markdown",
   "id": "64811d55",
   "metadata": {},
   "source": [
    "Despite this intense competition, the telecommunications industry experiences more than 10% churn rate every year. Customer retention has now become even more important than customer acquisition, since acquiring a new customer costs 5-10 times more than retaining an existing one. Building Classification Model to find probability of customer churn with the help of given customer features and help telecom companies to reduce their churn rate for business profit."
   ]
  },
  {
   "cell_type": "code",
   "execution_count": 1,
   "id": "aff4e1b8",
   "metadata": {
    "ExecuteTime": {
     "end_time": "2023-03-28T13:36:17.310123Z",
     "start_time": "2023-03-28T13:36:12.299749Z"
    }
   },
   "outputs": [],
   "source": [
    "#import libraries\n",
    "import pandas as pd\n",
    "import numpy as np\n",
    "import matplotlib.pyplot as plt\n",
    "%matplotlib inline\n",
    "import seaborn as sns\n",
    "from sklearn.feature_selection import SelectKBest,chi2, RFE\n",
    "from sklearn.linear_model import LogisticRegression\n",
    "from sklearn.tree import DecisionTreeClassifier\n",
    "import warnings\n",
    "warnings.filterwarnings('ignore')"
   ]
  },
  {
   "cell_type": "code",
   "execution_count": 2,
   "id": "0ad9c3b2",
   "metadata": {
    "ExecuteTime": {
     "end_time": "2023-03-28T13:36:17.389252Z",
     "start_time": "2023-03-28T13:36:17.332886Z"
    }
   },
   "outputs": [],
   "source": [
    "#Read Data\n",
    "data = pd.read_csv(\"Churn.csv\")"
   ]
  },
  {
   "cell_type": "markdown",
   "id": "1b6ded29",
   "metadata": {},
   "source": [
    "# EDA"
   ]
  },
  {
   "cell_type": "markdown",
   "id": "4fd5d97a",
   "metadata": {},
   "source": [
    "- Dropping the columns unnamed:0, state, area code\n",
    "- column name change (. to _) because it shows error during deployment\n",
    "- checking and dropping duplicates\n",
    "- dtype change for column day.charge and eve.mins to to_numeric using (error=coerce)\n",
    "- checking null values and percentage of null values\n",
    "- Dropping the null values"
   ]
  },
  {
   "cell_type": "code",
   "execution_count": 3,
   "id": "2f38a86e",
   "metadata": {
    "ExecuteTime": {
     "end_time": "2023-03-28T13:36:17.421213Z",
     "start_time": "2023-03-28T13:36:17.391486Z"
    }
   },
   "outputs": [
    {
     "name": "stdout",
     "output_type": "stream",
     "text": [
      "<class 'pandas.core.frame.DataFrame'>\n",
      "RangeIndex: 5000 entries, 0 to 4999\n",
      "Data columns (total 21 columns):\n",
      " #   Column          Non-Null Count  Dtype  \n",
      "---  ------          --------------  -----  \n",
      " 0   Unnamed: 0      5000 non-null   int64  \n",
      " 1   state           5000 non-null   object \n",
      " 2   area.code       5000 non-null   object \n",
      " 3   account.length  5000 non-null   int64  \n",
      " 4   voice.plan      5000 non-null   object \n",
      " 5   voice.messages  5000 non-null   int64  \n",
      " 6   intl.plan       5000 non-null   object \n",
      " 7   intl.mins       5000 non-null   float64\n",
      " 8   intl.calls      5000 non-null   int64  \n",
      " 9   intl.charge     5000 non-null   float64\n",
      " 10  day.mins        5000 non-null   float64\n",
      " 11  day.calls       5000 non-null   int64  \n",
      " 12  day.charge      5000 non-null   object \n",
      " 13  eve.mins        5000 non-null   object \n",
      " 14  eve.calls       5000 non-null   int64  \n",
      " 15  eve.charge      5000 non-null   float64\n",
      " 16  night.mins      5000 non-null   float64\n",
      " 17  night.calls     5000 non-null   int64  \n",
      " 18  night.charge    5000 non-null   float64\n",
      " 19  customer.calls  5000 non-null   int64  \n",
      " 20  churn           5000 non-null   object \n",
      "dtypes: float64(6), int64(8), object(7)\n",
      "memory usage: 820.4+ KB\n"
     ]
    }
   ],
   "source": [
    "# Check datatypes\n",
    "data.info()"
   ]
  },
  {
   "cell_type": "code",
   "execution_count": 4,
   "id": "77d1c2c0",
   "metadata": {
    "ExecuteTime": {
     "end_time": "2023-03-28T13:36:17.437020Z",
     "start_time": "2023-03-28T13:36:17.427143Z"
    }
   },
   "outputs": [],
   "source": [
    "# Drop Unnamed Column\n",
    "data= data.drop(columns=['Unnamed: 0','state','area.code'])"
   ]
  },
  {
   "cell_type": "code",
   "execution_count": 5,
   "id": "b563416f",
   "metadata": {
    "ExecuteTime": {
     "end_time": "2023-03-28T13:36:17.517009Z",
     "start_time": "2023-03-28T13:36:17.439900Z"
    },
    "scrolled": true
   },
   "outputs": [
    {
     "data": {
      "text/html": [
       "<div>\n",
       "<style scoped>\n",
       "    .dataframe tbody tr th:only-of-type {\n",
       "        vertical-align: middle;\n",
       "    }\n",
       "\n",
       "    .dataframe tbody tr th {\n",
       "        vertical-align: top;\n",
       "    }\n",
       "\n",
       "    .dataframe thead th {\n",
       "        text-align: right;\n",
       "    }\n",
       "</style>\n",
       "<table border=\"1\" class=\"dataframe\">\n",
       "  <thead>\n",
       "    <tr style=\"text-align: right;\">\n",
       "      <th></th>\n",
       "      <th>account.length</th>\n",
       "      <th>voice.plan</th>\n",
       "      <th>voice.messages</th>\n",
       "      <th>intl.plan</th>\n",
       "      <th>intl.mins</th>\n",
       "      <th>intl.calls</th>\n",
       "      <th>intl.charge</th>\n",
       "      <th>day.mins</th>\n",
       "      <th>day.calls</th>\n",
       "      <th>day.charge</th>\n",
       "      <th>eve.mins</th>\n",
       "      <th>eve.calls</th>\n",
       "      <th>eve.charge</th>\n",
       "      <th>night.mins</th>\n",
       "      <th>night.calls</th>\n",
       "      <th>night.charge</th>\n",
       "      <th>customer.calls</th>\n",
       "      <th>churn</th>\n",
       "    </tr>\n",
       "  </thead>\n",
       "  <tbody>\n",
       "    <tr>\n",
       "      <th>0</th>\n",
       "      <td>128</td>\n",
       "      <td>yes</td>\n",
       "      <td>25</td>\n",
       "      <td>no</td>\n",
       "      <td>10.0</td>\n",
       "      <td>3</td>\n",
       "      <td>2.70</td>\n",
       "      <td>265.1</td>\n",
       "      <td>110</td>\n",
       "      <td>45.07</td>\n",
       "      <td>197.4</td>\n",
       "      <td>99</td>\n",
       "      <td>16.78</td>\n",
       "      <td>244.7</td>\n",
       "      <td>91</td>\n",
       "      <td>11.01</td>\n",
       "      <td>1</td>\n",
       "      <td>no</td>\n",
       "    </tr>\n",
       "    <tr>\n",
       "      <th>1</th>\n",
       "      <td>107</td>\n",
       "      <td>yes</td>\n",
       "      <td>26</td>\n",
       "      <td>no</td>\n",
       "      <td>13.7</td>\n",
       "      <td>3</td>\n",
       "      <td>3.70</td>\n",
       "      <td>161.6</td>\n",
       "      <td>123</td>\n",
       "      <td>27.47</td>\n",
       "      <td>195.5</td>\n",
       "      <td>103</td>\n",
       "      <td>16.62</td>\n",
       "      <td>254.4</td>\n",
       "      <td>103</td>\n",
       "      <td>11.45</td>\n",
       "      <td>1</td>\n",
       "      <td>no</td>\n",
       "    </tr>\n",
       "    <tr>\n",
       "      <th>2</th>\n",
       "      <td>137</td>\n",
       "      <td>no</td>\n",
       "      <td>0</td>\n",
       "      <td>no</td>\n",
       "      <td>12.2</td>\n",
       "      <td>5</td>\n",
       "      <td>3.29</td>\n",
       "      <td>243.4</td>\n",
       "      <td>114</td>\n",
       "      <td>41.38</td>\n",
       "      <td>121.2</td>\n",
       "      <td>110</td>\n",
       "      <td>10.30</td>\n",
       "      <td>162.6</td>\n",
       "      <td>104</td>\n",
       "      <td>7.32</td>\n",
       "      <td>0</td>\n",
       "      <td>no</td>\n",
       "    </tr>\n",
       "    <tr>\n",
       "      <th>3</th>\n",
       "      <td>84</td>\n",
       "      <td>no</td>\n",
       "      <td>0</td>\n",
       "      <td>yes</td>\n",
       "      <td>6.6</td>\n",
       "      <td>7</td>\n",
       "      <td>1.78</td>\n",
       "      <td>299.4</td>\n",
       "      <td>71</td>\n",
       "      <td>50.9</td>\n",
       "      <td>61.9</td>\n",
       "      <td>88</td>\n",
       "      <td>5.26</td>\n",
       "      <td>196.9</td>\n",
       "      <td>89</td>\n",
       "      <td>8.86</td>\n",
       "      <td>2</td>\n",
       "      <td>no</td>\n",
       "    </tr>\n",
       "    <tr>\n",
       "      <th>4</th>\n",
       "      <td>75</td>\n",
       "      <td>no</td>\n",
       "      <td>0</td>\n",
       "      <td>yes</td>\n",
       "      <td>10.1</td>\n",
       "      <td>3</td>\n",
       "      <td>2.73</td>\n",
       "      <td>166.7</td>\n",
       "      <td>113</td>\n",
       "      <td>28.34</td>\n",
       "      <td>148.3</td>\n",
       "      <td>122</td>\n",
       "      <td>12.61</td>\n",
       "      <td>186.9</td>\n",
       "      <td>121</td>\n",
       "      <td>8.41</td>\n",
       "      <td>3</td>\n",
       "      <td>no</td>\n",
       "    </tr>\n",
       "    <tr>\n",
       "      <th>...</th>\n",
       "      <td>...</td>\n",
       "      <td>...</td>\n",
       "      <td>...</td>\n",
       "      <td>...</td>\n",
       "      <td>...</td>\n",
       "      <td>...</td>\n",
       "      <td>...</td>\n",
       "      <td>...</td>\n",
       "      <td>...</td>\n",
       "      <td>...</td>\n",
       "      <td>...</td>\n",
       "      <td>...</td>\n",
       "      <td>...</td>\n",
       "      <td>...</td>\n",
       "      <td>...</td>\n",
       "      <td>...</td>\n",
       "      <td>...</td>\n",
       "      <td>...</td>\n",
       "    </tr>\n",
       "    <tr>\n",
       "      <th>4995</th>\n",
       "      <td>50</td>\n",
       "      <td>yes</td>\n",
       "      <td>40</td>\n",
       "      <td>no</td>\n",
       "      <td>9.9</td>\n",
       "      <td>5</td>\n",
       "      <td>2.67</td>\n",
       "      <td>235.7</td>\n",
       "      <td>127</td>\n",
       "      <td>40.07</td>\n",
       "      <td>223</td>\n",
       "      <td>126</td>\n",
       "      <td>18.96</td>\n",
       "      <td>297.5</td>\n",
       "      <td>116</td>\n",
       "      <td>13.39</td>\n",
       "      <td>2</td>\n",
       "      <td>no</td>\n",
       "    </tr>\n",
       "    <tr>\n",
       "      <th>4996</th>\n",
       "      <td>152</td>\n",
       "      <td>no</td>\n",
       "      <td>0</td>\n",
       "      <td>no</td>\n",
       "      <td>14.7</td>\n",
       "      <td>2</td>\n",
       "      <td>3.97</td>\n",
       "      <td>184.2</td>\n",
       "      <td>90</td>\n",
       "      <td>31.31</td>\n",
       "      <td>256.8</td>\n",
       "      <td>73</td>\n",
       "      <td>21.83</td>\n",
       "      <td>213.6</td>\n",
       "      <td>113</td>\n",
       "      <td>9.61</td>\n",
       "      <td>3</td>\n",
       "      <td>yes</td>\n",
       "    </tr>\n",
       "    <tr>\n",
       "      <th>4997</th>\n",
       "      <td>61</td>\n",
       "      <td>no</td>\n",
       "      <td>0</td>\n",
       "      <td>no</td>\n",
       "      <td>13.6</td>\n",
       "      <td>4</td>\n",
       "      <td>3.67</td>\n",
       "      <td>140.6</td>\n",
       "      <td>89</td>\n",
       "      <td>23.9</td>\n",
       "      <td>172.8</td>\n",
       "      <td>128</td>\n",
       "      <td>14.69</td>\n",
       "      <td>212.4</td>\n",
       "      <td>97</td>\n",
       "      <td>9.56</td>\n",
       "      <td>1</td>\n",
       "      <td>no</td>\n",
       "    </tr>\n",
       "    <tr>\n",
       "      <th>4998</th>\n",
       "      <td>109</td>\n",
       "      <td>no</td>\n",
       "      <td>0</td>\n",
       "      <td>no</td>\n",
       "      <td>8.5</td>\n",
       "      <td>6</td>\n",
       "      <td>2.30</td>\n",
       "      <td>188.8</td>\n",
       "      <td>67</td>\n",
       "      <td>32.1</td>\n",
       "      <td>171.7</td>\n",
       "      <td>92</td>\n",
       "      <td>14.59</td>\n",
       "      <td>224.4</td>\n",
       "      <td>89</td>\n",
       "      <td>10.10</td>\n",
       "      <td>0</td>\n",
       "      <td>no</td>\n",
       "    </tr>\n",
       "    <tr>\n",
       "      <th>4999</th>\n",
       "      <td>86</td>\n",
       "      <td>yes</td>\n",
       "      <td>34</td>\n",
       "      <td>no</td>\n",
       "      <td>9.3</td>\n",
       "      <td>16</td>\n",
       "      <td>2.51</td>\n",
       "      <td>129.4</td>\n",
       "      <td>102</td>\n",
       "      <td>22</td>\n",
       "      <td>267.1</td>\n",
       "      <td>104</td>\n",
       "      <td>22.70</td>\n",
       "      <td>154.8</td>\n",
       "      <td>100</td>\n",
       "      <td>6.97</td>\n",
       "      <td>0</td>\n",
       "      <td>no</td>\n",
       "    </tr>\n",
       "  </tbody>\n",
       "</table>\n",
       "<p>5000 rows × 18 columns</p>\n",
       "</div>"
      ],
      "text/plain": [
       "      account.length voice.plan  voice.messages intl.plan  intl.mins  \\\n",
       "0                128        yes              25        no       10.0   \n",
       "1                107        yes              26        no       13.7   \n",
       "2                137         no               0        no       12.2   \n",
       "3                 84         no               0       yes        6.6   \n",
       "4                 75         no               0       yes       10.1   \n",
       "...              ...        ...             ...       ...        ...   \n",
       "4995              50        yes              40        no        9.9   \n",
       "4996             152         no               0        no       14.7   \n",
       "4997              61         no               0        no       13.6   \n",
       "4998             109         no               0        no        8.5   \n",
       "4999              86        yes              34        no        9.3   \n",
       "\n",
       "      intl.calls  intl.charge  day.mins  day.calls day.charge eve.mins  \\\n",
       "0              3         2.70     265.1        110      45.07    197.4   \n",
       "1              3         3.70     161.6        123      27.47    195.5   \n",
       "2              5         3.29     243.4        114      41.38    121.2   \n",
       "3              7         1.78     299.4         71       50.9     61.9   \n",
       "4              3         2.73     166.7        113      28.34    148.3   \n",
       "...          ...          ...       ...        ...        ...      ...   \n",
       "4995           5         2.67     235.7        127      40.07      223   \n",
       "4996           2         3.97     184.2         90      31.31    256.8   \n",
       "4997           4         3.67     140.6         89       23.9    172.8   \n",
       "4998           6         2.30     188.8         67       32.1    171.7   \n",
       "4999          16         2.51     129.4        102         22    267.1   \n",
       "\n",
       "      eve.calls  eve.charge  night.mins  night.calls  night.charge  \\\n",
       "0            99       16.78       244.7           91         11.01   \n",
       "1           103       16.62       254.4          103         11.45   \n",
       "2           110       10.30       162.6          104          7.32   \n",
       "3            88        5.26       196.9           89          8.86   \n",
       "4           122       12.61       186.9          121          8.41   \n",
       "...         ...         ...         ...          ...           ...   \n",
       "4995        126       18.96       297.5          116         13.39   \n",
       "4996         73       21.83       213.6          113          9.61   \n",
       "4997        128       14.69       212.4           97          9.56   \n",
       "4998         92       14.59       224.4           89         10.10   \n",
       "4999        104       22.70       154.8          100          6.97   \n",
       "\n",
       "      customer.calls churn  \n",
       "0                  1    no  \n",
       "1                  1    no  \n",
       "2                  0    no  \n",
       "3                  2    no  \n",
       "4                  3    no  \n",
       "...              ...   ...  \n",
       "4995               2    no  \n",
       "4996               3   yes  \n",
       "4997               1    no  \n",
       "4998               0    no  \n",
       "4999               0    no  \n",
       "\n",
       "[5000 rows x 18 columns]"
      ]
     },
     "execution_count": 5,
     "metadata": {},
     "output_type": "execute_result"
    }
   ],
   "source": [
    "data"
   ]
  },
  {
   "cell_type": "code",
   "execution_count": 6,
   "id": "95310ce0",
   "metadata": {
    "ExecuteTime": {
     "end_time": "2023-03-28T13:36:17.532854Z",
     "start_time": "2023-03-28T13:36:17.523851Z"
    }
   },
   "outputs": [],
   "source": [
    "# Rename column names\n",
    "data.rename(columns={'account.length' : 'Account_length','voice.plan' : 'Voice_plan','voice.messages' : 'Voice_messages','intl.plan' : 'Intl_plan','intl.min' : 'Intl_min','intl.calls' : 'Intl_calls', 'intl.charge' : 'Intl_charge','intl.mins' : 'Intl_mins','day.mins' : 'Day_mins', 'day.calls' : 'Day_calls', 'day.charge' : 'Day_charge', 'eve.mins' : 'Eve_mins', 'eve.calls' : 'Eve_calls', 'eve.charge' : 'Eve_charge', 'night.mins' : 'Night_mins','night.calls' : 'Night_calls','night.charge' : 'Night_charge', 'customer.calls' : 'Customer_calls', 'churn' : 'Churn'},inplace= True)"
   ]
  },
  {
   "cell_type": "code",
   "execution_count": 7,
   "id": "1c99e15f",
   "metadata": {
    "ExecuteTime": {
     "end_time": "2023-03-28T13:36:17.580468Z",
     "start_time": "2023-03-28T13:36:17.534285Z"
    }
   },
   "outputs": [],
   "source": [
    "# Convert Datatypes\n",
    "data['Day_charge'] = pd.to_numeric(data['Day_charge'],errors='coerce')"
   ]
  },
  {
   "cell_type": "code",
   "execution_count": 8,
   "id": "eeb1ba88",
   "metadata": {
    "ExecuteTime": {
     "end_time": "2023-03-28T13:36:17.596506Z",
     "start_time": "2023-03-28T13:36:17.587237Z"
    }
   },
   "outputs": [],
   "source": [
    "data['Eve_mins'] = pd.to_numeric(data['Eve_mins'],errors='coerce')"
   ]
  },
  {
   "cell_type": "code",
   "execution_count": 9,
   "id": "65592ad3",
   "metadata": {
    "ExecuteTime": {
     "end_time": "2023-03-28T13:36:17.627791Z",
     "start_time": "2023-03-28T13:36:17.599308Z"
    }
   },
   "outputs": [
    {
     "name": "stdout",
     "output_type": "stream",
     "text": [
      "<class 'pandas.core.frame.DataFrame'>\n",
      "RangeIndex: 5000 entries, 0 to 4999\n",
      "Data columns (total 18 columns):\n",
      " #   Column          Non-Null Count  Dtype  \n",
      "---  ------          --------------  -----  \n",
      " 0   Account_length  5000 non-null   int64  \n",
      " 1   Voice_plan      5000 non-null   object \n",
      " 2   Voice_messages  5000 non-null   int64  \n",
      " 3   Intl_plan       5000 non-null   object \n",
      " 4   Intl_mins       5000 non-null   float64\n",
      " 5   Intl_calls      5000 non-null   int64  \n",
      " 6   Intl_charge     5000 non-null   float64\n",
      " 7   Day_mins        5000 non-null   float64\n",
      " 8   Day_calls       5000 non-null   int64  \n",
      " 9   Day_charge      4993 non-null   float64\n",
      " 10  Eve_mins        4976 non-null   float64\n",
      " 11  Eve_calls       5000 non-null   int64  \n",
      " 12  Eve_charge      5000 non-null   float64\n",
      " 13  Night_mins      5000 non-null   float64\n",
      " 14  Night_calls     5000 non-null   int64  \n",
      " 15  Night_charge    5000 non-null   float64\n",
      " 16  Customer_calls  5000 non-null   int64  \n",
      " 17  Churn           5000 non-null   object \n",
      "dtypes: float64(8), int64(7), object(3)\n",
      "memory usage: 703.2+ KB\n"
     ]
    }
   ],
   "source": [
    "data.info()"
   ]
  },
  {
   "cell_type": "code",
   "execution_count": 10,
   "id": "88ce0d32",
   "metadata": {
    "ExecuteTime": {
     "end_time": "2023-03-28T13:36:17.659628Z",
     "start_time": "2023-03-28T13:36:17.642776Z"
    }
   },
   "outputs": [],
   "source": [
    "# drop null values\n",
    "data.dropna(inplace=True)\n",
    "# there having null values which is less than 5% so we drop it."
   ]
  },
  {
   "cell_type": "code",
   "execution_count": 11,
   "id": "be9dc408",
   "metadata": {
    "ExecuteTime": {
     "end_time": "2023-03-28T13:36:17.707535Z",
     "start_time": "2023-03-28T13:36:17.664654Z"
    }
   },
   "outputs": [
    {
     "data": {
      "text/plain": [
       "Account_length    0\n",
       "Voice_plan        0\n",
       "Voice_messages    0\n",
       "Intl_plan         0\n",
       "Intl_mins         0\n",
       "Intl_calls        0\n",
       "Intl_charge       0\n",
       "Day_mins          0\n",
       "Day_calls         0\n",
       "Day_charge        0\n",
       "Eve_mins          0\n",
       "Eve_calls         0\n",
       "Eve_charge        0\n",
       "Night_mins        0\n",
       "Night_calls       0\n",
       "Night_charge      0\n",
       "Customer_calls    0\n",
       "Churn             0\n",
       "dtype: int64"
      ]
     },
     "execution_count": 11,
     "metadata": {},
     "output_type": "execute_result"
    }
   ],
   "source": [
    "#checking missing values\n",
    "data.isna().sum()"
   ]
  },
  {
   "cell_type": "code",
   "execution_count": 12,
   "id": "00d0a48a",
   "metadata": {
    "ExecuteTime": {
     "end_time": "2023-03-28T13:36:17.771460Z",
     "start_time": "2023-03-28T13:36:17.709235Z"
    }
   },
   "outputs": [
    {
     "data": {
      "text/html": [
       "<div>\n",
       "<style scoped>\n",
       "    .dataframe tbody tr th:only-of-type {\n",
       "        vertical-align: middle;\n",
       "    }\n",
       "\n",
       "    .dataframe tbody tr th {\n",
       "        vertical-align: top;\n",
       "    }\n",
       "\n",
       "    .dataframe thead th {\n",
       "        text-align: right;\n",
       "    }\n",
       "</style>\n",
       "<table border=\"1\" class=\"dataframe\">\n",
       "  <thead>\n",
       "    <tr style=\"text-align: right;\">\n",
       "      <th></th>\n",
       "      <th>Account_length</th>\n",
       "      <th>Voice_plan</th>\n",
       "      <th>Voice_messages</th>\n",
       "      <th>Intl_plan</th>\n",
       "      <th>Intl_mins</th>\n",
       "      <th>Intl_calls</th>\n",
       "      <th>Intl_charge</th>\n",
       "      <th>Day_mins</th>\n",
       "      <th>Day_calls</th>\n",
       "      <th>Day_charge</th>\n",
       "      <th>Eve_mins</th>\n",
       "      <th>Eve_calls</th>\n",
       "      <th>Eve_charge</th>\n",
       "      <th>Night_mins</th>\n",
       "      <th>Night_calls</th>\n",
       "      <th>Night_charge</th>\n",
       "      <th>Customer_calls</th>\n",
       "      <th>Churn</th>\n",
       "    </tr>\n",
       "  </thead>\n",
       "  <tbody>\n",
       "    <tr>\n",
       "      <th>0</th>\n",
       "      <td>128</td>\n",
       "      <td>yes</td>\n",
       "      <td>25</td>\n",
       "      <td>no</td>\n",
       "      <td>10.0</td>\n",
       "      <td>3</td>\n",
       "      <td>2.70</td>\n",
       "      <td>265.1</td>\n",
       "      <td>110</td>\n",
       "      <td>45.07</td>\n",
       "      <td>197.4</td>\n",
       "      <td>99</td>\n",
       "      <td>16.78</td>\n",
       "      <td>244.7</td>\n",
       "      <td>91</td>\n",
       "      <td>11.01</td>\n",
       "      <td>1</td>\n",
       "      <td>no</td>\n",
       "    </tr>\n",
       "    <tr>\n",
       "      <th>1</th>\n",
       "      <td>107</td>\n",
       "      <td>yes</td>\n",
       "      <td>26</td>\n",
       "      <td>no</td>\n",
       "      <td>13.7</td>\n",
       "      <td>3</td>\n",
       "      <td>3.70</td>\n",
       "      <td>161.6</td>\n",
       "      <td>123</td>\n",
       "      <td>27.47</td>\n",
       "      <td>195.5</td>\n",
       "      <td>103</td>\n",
       "      <td>16.62</td>\n",
       "      <td>254.4</td>\n",
       "      <td>103</td>\n",
       "      <td>11.45</td>\n",
       "      <td>1</td>\n",
       "      <td>no</td>\n",
       "    </tr>\n",
       "    <tr>\n",
       "      <th>2</th>\n",
       "      <td>137</td>\n",
       "      <td>no</td>\n",
       "      <td>0</td>\n",
       "      <td>no</td>\n",
       "      <td>12.2</td>\n",
       "      <td>5</td>\n",
       "      <td>3.29</td>\n",
       "      <td>243.4</td>\n",
       "      <td>114</td>\n",
       "      <td>41.38</td>\n",
       "      <td>121.2</td>\n",
       "      <td>110</td>\n",
       "      <td>10.30</td>\n",
       "      <td>162.6</td>\n",
       "      <td>104</td>\n",
       "      <td>7.32</td>\n",
       "      <td>0</td>\n",
       "      <td>no</td>\n",
       "    </tr>\n",
       "    <tr>\n",
       "      <th>3</th>\n",
       "      <td>84</td>\n",
       "      <td>no</td>\n",
       "      <td>0</td>\n",
       "      <td>yes</td>\n",
       "      <td>6.6</td>\n",
       "      <td>7</td>\n",
       "      <td>1.78</td>\n",
       "      <td>299.4</td>\n",
       "      <td>71</td>\n",
       "      <td>50.90</td>\n",
       "      <td>61.9</td>\n",
       "      <td>88</td>\n",
       "      <td>5.26</td>\n",
       "      <td>196.9</td>\n",
       "      <td>89</td>\n",
       "      <td>8.86</td>\n",
       "      <td>2</td>\n",
       "      <td>no</td>\n",
       "    </tr>\n",
       "    <tr>\n",
       "      <th>4</th>\n",
       "      <td>75</td>\n",
       "      <td>no</td>\n",
       "      <td>0</td>\n",
       "      <td>yes</td>\n",
       "      <td>10.1</td>\n",
       "      <td>3</td>\n",
       "      <td>2.73</td>\n",
       "      <td>166.7</td>\n",
       "      <td>113</td>\n",
       "      <td>28.34</td>\n",
       "      <td>148.3</td>\n",
       "      <td>122</td>\n",
       "      <td>12.61</td>\n",
       "      <td>186.9</td>\n",
       "      <td>121</td>\n",
       "      <td>8.41</td>\n",
       "      <td>3</td>\n",
       "      <td>no</td>\n",
       "    </tr>\n",
       "    <tr>\n",
       "      <th>...</th>\n",
       "      <td>...</td>\n",
       "      <td>...</td>\n",
       "      <td>...</td>\n",
       "      <td>...</td>\n",
       "      <td>...</td>\n",
       "      <td>...</td>\n",
       "      <td>...</td>\n",
       "      <td>...</td>\n",
       "      <td>...</td>\n",
       "      <td>...</td>\n",
       "      <td>...</td>\n",
       "      <td>...</td>\n",
       "      <td>...</td>\n",
       "      <td>...</td>\n",
       "      <td>...</td>\n",
       "      <td>...</td>\n",
       "      <td>...</td>\n",
       "      <td>...</td>\n",
       "    </tr>\n",
       "    <tr>\n",
       "      <th>4995</th>\n",
       "      <td>50</td>\n",
       "      <td>yes</td>\n",
       "      <td>40</td>\n",
       "      <td>no</td>\n",
       "      <td>9.9</td>\n",
       "      <td>5</td>\n",
       "      <td>2.67</td>\n",
       "      <td>235.7</td>\n",
       "      <td>127</td>\n",
       "      <td>40.07</td>\n",
       "      <td>223.0</td>\n",
       "      <td>126</td>\n",
       "      <td>18.96</td>\n",
       "      <td>297.5</td>\n",
       "      <td>116</td>\n",
       "      <td>13.39</td>\n",
       "      <td>2</td>\n",
       "      <td>no</td>\n",
       "    </tr>\n",
       "    <tr>\n",
       "      <th>4996</th>\n",
       "      <td>152</td>\n",
       "      <td>no</td>\n",
       "      <td>0</td>\n",
       "      <td>no</td>\n",
       "      <td>14.7</td>\n",
       "      <td>2</td>\n",
       "      <td>3.97</td>\n",
       "      <td>184.2</td>\n",
       "      <td>90</td>\n",
       "      <td>31.31</td>\n",
       "      <td>256.8</td>\n",
       "      <td>73</td>\n",
       "      <td>21.83</td>\n",
       "      <td>213.6</td>\n",
       "      <td>113</td>\n",
       "      <td>9.61</td>\n",
       "      <td>3</td>\n",
       "      <td>yes</td>\n",
       "    </tr>\n",
       "    <tr>\n",
       "      <th>4997</th>\n",
       "      <td>61</td>\n",
       "      <td>no</td>\n",
       "      <td>0</td>\n",
       "      <td>no</td>\n",
       "      <td>13.6</td>\n",
       "      <td>4</td>\n",
       "      <td>3.67</td>\n",
       "      <td>140.6</td>\n",
       "      <td>89</td>\n",
       "      <td>23.90</td>\n",
       "      <td>172.8</td>\n",
       "      <td>128</td>\n",
       "      <td>14.69</td>\n",
       "      <td>212.4</td>\n",
       "      <td>97</td>\n",
       "      <td>9.56</td>\n",
       "      <td>1</td>\n",
       "      <td>no</td>\n",
       "    </tr>\n",
       "    <tr>\n",
       "      <th>4998</th>\n",
       "      <td>109</td>\n",
       "      <td>no</td>\n",
       "      <td>0</td>\n",
       "      <td>no</td>\n",
       "      <td>8.5</td>\n",
       "      <td>6</td>\n",
       "      <td>2.30</td>\n",
       "      <td>188.8</td>\n",
       "      <td>67</td>\n",
       "      <td>32.10</td>\n",
       "      <td>171.7</td>\n",
       "      <td>92</td>\n",
       "      <td>14.59</td>\n",
       "      <td>224.4</td>\n",
       "      <td>89</td>\n",
       "      <td>10.10</td>\n",
       "      <td>0</td>\n",
       "      <td>no</td>\n",
       "    </tr>\n",
       "    <tr>\n",
       "      <th>4999</th>\n",
       "      <td>86</td>\n",
       "      <td>yes</td>\n",
       "      <td>34</td>\n",
       "      <td>no</td>\n",
       "      <td>9.3</td>\n",
       "      <td>16</td>\n",
       "      <td>2.51</td>\n",
       "      <td>129.4</td>\n",
       "      <td>102</td>\n",
       "      <td>22.00</td>\n",
       "      <td>267.1</td>\n",
       "      <td>104</td>\n",
       "      <td>22.70</td>\n",
       "      <td>154.8</td>\n",
       "      <td>100</td>\n",
       "      <td>6.97</td>\n",
       "      <td>0</td>\n",
       "      <td>no</td>\n",
       "    </tr>\n",
       "  </tbody>\n",
       "</table>\n",
       "<p>4969 rows × 18 columns</p>\n",
       "</div>"
      ],
      "text/plain": [
       "      Account_length Voice_plan  Voice_messages Intl_plan  Intl_mins  \\\n",
       "0                128        yes              25        no       10.0   \n",
       "1                107        yes              26        no       13.7   \n",
       "2                137         no               0        no       12.2   \n",
       "3                 84         no               0       yes        6.6   \n",
       "4                 75         no               0       yes       10.1   \n",
       "...              ...        ...             ...       ...        ...   \n",
       "4995              50        yes              40        no        9.9   \n",
       "4996             152         no               0        no       14.7   \n",
       "4997              61         no               0        no       13.6   \n",
       "4998             109         no               0        no        8.5   \n",
       "4999              86        yes              34        no        9.3   \n",
       "\n",
       "      Intl_calls  Intl_charge  Day_mins  Day_calls  Day_charge  Eve_mins  \\\n",
       "0              3         2.70     265.1        110       45.07     197.4   \n",
       "1              3         3.70     161.6        123       27.47     195.5   \n",
       "2              5         3.29     243.4        114       41.38     121.2   \n",
       "3              7         1.78     299.4         71       50.90      61.9   \n",
       "4              3         2.73     166.7        113       28.34     148.3   \n",
       "...          ...          ...       ...        ...         ...       ...   \n",
       "4995           5         2.67     235.7        127       40.07     223.0   \n",
       "4996           2         3.97     184.2         90       31.31     256.8   \n",
       "4997           4         3.67     140.6         89       23.90     172.8   \n",
       "4998           6         2.30     188.8         67       32.10     171.7   \n",
       "4999          16         2.51     129.4        102       22.00     267.1   \n",
       "\n",
       "      Eve_calls  Eve_charge  Night_mins  Night_calls  Night_charge  \\\n",
       "0            99       16.78       244.7           91         11.01   \n",
       "1           103       16.62       254.4          103         11.45   \n",
       "2           110       10.30       162.6          104          7.32   \n",
       "3            88        5.26       196.9           89          8.86   \n",
       "4           122       12.61       186.9          121          8.41   \n",
       "...         ...         ...         ...          ...           ...   \n",
       "4995        126       18.96       297.5          116         13.39   \n",
       "4996         73       21.83       213.6          113          9.61   \n",
       "4997        128       14.69       212.4           97          9.56   \n",
       "4998         92       14.59       224.4           89         10.10   \n",
       "4999        104       22.70       154.8          100          6.97   \n",
       "\n",
       "      Customer_calls Churn  \n",
       "0                  1    no  \n",
       "1                  1    no  \n",
       "2                  0    no  \n",
       "3                  2    no  \n",
       "4                  3    no  \n",
       "...              ...   ...  \n",
       "4995               2    no  \n",
       "4996               3   yes  \n",
       "4997               1    no  \n",
       "4998               0    no  \n",
       "4999               0    no  \n",
       "\n",
       "[4969 rows x 18 columns]"
      ]
     },
     "execution_count": 12,
     "metadata": {},
     "output_type": "execute_result"
    }
   ],
   "source": [
    "data"
   ]
  },
  {
   "cell_type": "code",
   "execution_count": 13,
   "id": "08498f1d",
   "metadata": {
    "ExecuteTime": {
     "end_time": "2023-03-28T13:36:17.787542Z",
     "start_time": "2023-03-28T13:36:17.771460Z"
    }
   },
   "outputs": [],
   "source": [
    "# convert target column (yes/no) into binary value\n",
    "data['Churn'] = data['Churn'].map({'no':0, 'yes':1})"
   ]
  },
  {
   "cell_type": "code",
   "execution_count": 14,
   "id": "1956d466",
   "metadata": {
    "ExecuteTime": {
     "end_time": "2023-03-28T13:36:17.804995Z",
     "start_time": "2023-03-28T13:36:17.789350Z"
    }
   },
   "outputs": [],
   "source": [
    "# splitting data\n",
    "x = data.iloc[:,:-1]\n",
    "y = data.iloc[:,-1]"
   ]
  },
  {
   "cell_type": "code",
   "execution_count": 15,
   "id": "6ed88cf6",
   "metadata": {
    "ExecuteTime": {
     "end_time": "2023-03-28T13:36:17.834331Z",
     "start_time": "2023-03-28T13:36:17.808679Z"
    }
   },
   "outputs": [
    {
     "data": {
      "text/plain": [
       "Index(['Voice_plan', 'Intl_plan'], dtype='object')"
      ]
     },
     "execution_count": 15,
     "metadata": {},
     "output_type": "execute_result"
    }
   ],
   "source": [
    "#store object datatypes into different variable to convert it into binary value \n",
    "cat_cols = x.select_dtypes(object).columns\n",
    "cat_cols"
   ]
  },
  {
   "cell_type": "code",
   "execution_count": 16,
   "id": "1e610157",
   "metadata": {
    "ExecuteTime": {
     "end_time": "2023-03-28T13:36:17.850291Z",
     "start_time": "2023-03-28T13:36:17.840061Z"
    }
   },
   "outputs": [],
   "source": [
    "#libraries for conversion data into binary \n",
    "from sklearn.preprocessing import LabelEncoder\n",
    "from sklearn.preprocessing import OrdinalEncoder\n"
   ]
  },
  {
   "cell_type": "code",
   "execution_count": 17,
   "id": "8cc05a91",
   "metadata": {
    "ExecuteTime": {
     "end_time": "2023-03-28T13:36:17.865919Z",
     "start_time": "2023-03-28T13:36:17.850291Z"
    }
   },
   "outputs": [],
   "source": [
    "#store variable\n",
    "le= LabelEncoder()\n",
    "Oe = OrdinalEncoder()"
   ]
  },
  {
   "cell_type": "code",
   "execution_count": 18,
   "id": "9224dd19",
   "metadata": {
    "ExecuteTime": {
     "end_time": "2023-03-28T13:36:17.928557Z",
     "start_time": "2023-03-28T13:36:17.869786Z"
    }
   },
   "outputs": [
    {
     "data": {
      "text/html": [
       "<div>\n",
       "<style scoped>\n",
       "    .dataframe tbody tr th:only-of-type {\n",
       "        vertical-align: middle;\n",
       "    }\n",
       "\n",
       "    .dataframe tbody tr th {\n",
       "        vertical-align: top;\n",
       "    }\n",
       "\n",
       "    .dataframe thead th {\n",
       "        text-align: right;\n",
       "    }\n",
       "</style>\n",
       "<table border=\"1\" class=\"dataframe\">\n",
       "  <thead>\n",
       "    <tr style=\"text-align: right;\">\n",
       "      <th></th>\n",
       "      <th>Account_length</th>\n",
       "      <th>Voice_plan</th>\n",
       "      <th>Voice_messages</th>\n",
       "      <th>Intl_plan</th>\n",
       "      <th>Intl_mins</th>\n",
       "      <th>Intl_calls</th>\n",
       "      <th>Intl_charge</th>\n",
       "      <th>Day_mins</th>\n",
       "      <th>Day_calls</th>\n",
       "      <th>Day_charge</th>\n",
       "      <th>Eve_mins</th>\n",
       "      <th>Eve_calls</th>\n",
       "      <th>Eve_charge</th>\n",
       "      <th>Night_mins</th>\n",
       "      <th>Night_calls</th>\n",
       "      <th>Night_charge</th>\n",
       "      <th>Customer_calls</th>\n",
       "    </tr>\n",
       "  </thead>\n",
       "  <tbody>\n",
       "    <tr>\n",
       "      <th>0</th>\n",
       "      <td>128</td>\n",
       "      <td>1.0</td>\n",
       "      <td>25</td>\n",
       "      <td>0.0</td>\n",
       "      <td>10.0</td>\n",
       "      <td>3</td>\n",
       "      <td>2.70</td>\n",
       "      <td>265.1</td>\n",
       "      <td>110</td>\n",
       "      <td>45.07</td>\n",
       "      <td>197.4</td>\n",
       "      <td>99</td>\n",
       "      <td>16.78</td>\n",
       "      <td>244.7</td>\n",
       "      <td>91</td>\n",
       "      <td>11.01</td>\n",
       "      <td>1</td>\n",
       "    </tr>\n",
       "    <tr>\n",
       "      <th>1</th>\n",
       "      <td>107</td>\n",
       "      <td>1.0</td>\n",
       "      <td>26</td>\n",
       "      <td>0.0</td>\n",
       "      <td>13.7</td>\n",
       "      <td>3</td>\n",
       "      <td>3.70</td>\n",
       "      <td>161.6</td>\n",
       "      <td>123</td>\n",
       "      <td>27.47</td>\n",
       "      <td>195.5</td>\n",
       "      <td>103</td>\n",
       "      <td>16.62</td>\n",
       "      <td>254.4</td>\n",
       "      <td>103</td>\n",
       "      <td>11.45</td>\n",
       "      <td>1</td>\n",
       "    </tr>\n",
       "    <tr>\n",
       "      <th>2</th>\n",
       "      <td>137</td>\n",
       "      <td>0.0</td>\n",
       "      <td>0</td>\n",
       "      <td>0.0</td>\n",
       "      <td>12.2</td>\n",
       "      <td>5</td>\n",
       "      <td>3.29</td>\n",
       "      <td>243.4</td>\n",
       "      <td>114</td>\n",
       "      <td>41.38</td>\n",
       "      <td>121.2</td>\n",
       "      <td>110</td>\n",
       "      <td>10.30</td>\n",
       "      <td>162.6</td>\n",
       "      <td>104</td>\n",
       "      <td>7.32</td>\n",
       "      <td>0</td>\n",
       "    </tr>\n",
       "    <tr>\n",
       "      <th>3</th>\n",
       "      <td>84</td>\n",
       "      <td>0.0</td>\n",
       "      <td>0</td>\n",
       "      <td>1.0</td>\n",
       "      <td>6.6</td>\n",
       "      <td>7</td>\n",
       "      <td>1.78</td>\n",
       "      <td>299.4</td>\n",
       "      <td>71</td>\n",
       "      <td>50.90</td>\n",
       "      <td>61.9</td>\n",
       "      <td>88</td>\n",
       "      <td>5.26</td>\n",
       "      <td>196.9</td>\n",
       "      <td>89</td>\n",
       "      <td>8.86</td>\n",
       "      <td>2</td>\n",
       "    </tr>\n",
       "    <tr>\n",
       "      <th>4</th>\n",
       "      <td>75</td>\n",
       "      <td>0.0</td>\n",
       "      <td>0</td>\n",
       "      <td>1.0</td>\n",
       "      <td>10.1</td>\n",
       "      <td>3</td>\n",
       "      <td>2.73</td>\n",
       "      <td>166.7</td>\n",
       "      <td>113</td>\n",
       "      <td>28.34</td>\n",
       "      <td>148.3</td>\n",
       "      <td>122</td>\n",
       "      <td>12.61</td>\n",
       "      <td>186.9</td>\n",
       "      <td>121</td>\n",
       "      <td>8.41</td>\n",
       "      <td>3</td>\n",
       "    </tr>\n",
       "    <tr>\n",
       "      <th>...</th>\n",
       "      <td>...</td>\n",
       "      <td>...</td>\n",
       "      <td>...</td>\n",
       "      <td>...</td>\n",
       "      <td>...</td>\n",
       "      <td>...</td>\n",
       "      <td>...</td>\n",
       "      <td>...</td>\n",
       "      <td>...</td>\n",
       "      <td>...</td>\n",
       "      <td>...</td>\n",
       "      <td>...</td>\n",
       "      <td>...</td>\n",
       "      <td>...</td>\n",
       "      <td>...</td>\n",
       "      <td>...</td>\n",
       "      <td>...</td>\n",
       "    </tr>\n",
       "    <tr>\n",
       "      <th>4995</th>\n",
       "      <td>50</td>\n",
       "      <td>1.0</td>\n",
       "      <td>40</td>\n",
       "      <td>0.0</td>\n",
       "      <td>9.9</td>\n",
       "      <td>5</td>\n",
       "      <td>2.67</td>\n",
       "      <td>235.7</td>\n",
       "      <td>127</td>\n",
       "      <td>40.07</td>\n",
       "      <td>223.0</td>\n",
       "      <td>126</td>\n",
       "      <td>18.96</td>\n",
       "      <td>297.5</td>\n",
       "      <td>116</td>\n",
       "      <td>13.39</td>\n",
       "      <td>2</td>\n",
       "    </tr>\n",
       "    <tr>\n",
       "      <th>4996</th>\n",
       "      <td>152</td>\n",
       "      <td>0.0</td>\n",
       "      <td>0</td>\n",
       "      <td>0.0</td>\n",
       "      <td>14.7</td>\n",
       "      <td>2</td>\n",
       "      <td>3.97</td>\n",
       "      <td>184.2</td>\n",
       "      <td>90</td>\n",
       "      <td>31.31</td>\n",
       "      <td>256.8</td>\n",
       "      <td>73</td>\n",
       "      <td>21.83</td>\n",
       "      <td>213.6</td>\n",
       "      <td>113</td>\n",
       "      <td>9.61</td>\n",
       "      <td>3</td>\n",
       "    </tr>\n",
       "    <tr>\n",
       "      <th>4997</th>\n",
       "      <td>61</td>\n",
       "      <td>0.0</td>\n",
       "      <td>0</td>\n",
       "      <td>0.0</td>\n",
       "      <td>13.6</td>\n",
       "      <td>4</td>\n",
       "      <td>3.67</td>\n",
       "      <td>140.6</td>\n",
       "      <td>89</td>\n",
       "      <td>23.90</td>\n",
       "      <td>172.8</td>\n",
       "      <td>128</td>\n",
       "      <td>14.69</td>\n",
       "      <td>212.4</td>\n",
       "      <td>97</td>\n",
       "      <td>9.56</td>\n",
       "      <td>1</td>\n",
       "    </tr>\n",
       "    <tr>\n",
       "      <th>4998</th>\n",
       "      <td>109</td>\n",
       "      <td>0.0</td>\n",
       "      <td>0</td>\n",
       "      <td>0.0</td>\n",
       "      <td>8.5</td>\n",
       "      <td>6</td>\n",
       "      <td>2.30</td>\n",
       "      <td>188.8</td>\n",
       "      <td>67</td>\n",
       "      <td>32.10</td>\n",
       "      <td>171.7</td>\n",
       "      <td>92</td>\n",
       "      <td>14.59</td>\n",
       "      <td>224.4</td>\n",
       "      <td>89</td>\n",
       "      <td>10.10</td>\n",
       "      <td>0</td>\n",
       "    </tr>\n",
       "    <tr>\n",
       "      <th>4999</th>\n",
       "      <td>86</td>\n",
       "      <td>1.0</td>\n",
       "      <td>34</td>\n",
       "      <td>0.0</td>\n",
       "      <td>9.3</td>\n",
       "      <td>16</td>\n",
       "      <td>2.51</td>\n",
       "      <td>129.4</td>\n",
       "      <td>102</td>\n",
       "      <td>22.00</td>\n",
       "      <td>267.1</td>\n",
       "      <td>104</td>\n",
       "      <td>22.70</td>\n",
       "      <td>154.8</td>\n",
       "      <td>100</td>\n",
       "      <td>6.97</td>\n",
       "      <td>0</td>\n",
       "    </tr>\n",
       "  </tbody>\n",
       "</table>\n",
       "<p>4969 rows × 17 columns</p>\n",
       "</div>"
      ],
      "text/plain": [
       "      Account_length  Voice_plan  Voice_messages  Intl_plan  Intl_mins  \\\n",
       "0                128         1.0              25        0.0       10.0   \n",
       "1                107         1.0              26        0.0       13.7   \n",
       "2                137         0.0               0        0.0       12.2   \n",
       "3                 84         0.0               0        1.0        6.6   \n",
       "4                 75         0.0               0        1.0       10.1   \n",
       "...              ...         ...             ...        ...        ...   \n",
       "4995              50         1.0              40        0.0        9.9   \n",
       "4996             152         0.0               0        0.0       14.7   \n",
       "4997              61         0.0               0        0.0       13.6   \n",
       "4998             109         0.0               0        0.0        8.5   \n",
       "4999              86         1.0              34        0.0        9.3   \n",
       "\n",
       "      Intl_calls  Intl_charge  Day_mins  Day_calls  Day_charge  Eve_mins  \\\n",
       "0              3         2.70     265.1        110       45.07     197.4   \n",
       "1              3         3.70     161.6        123       27.47     195.5   \n",
       "2              5         3.29     243.4        114       41.38     121.2   \n",
       "3              7         1.78     299.4         71       50.90      61.9   \n",
       "4              3         2.73     166.7        113       28.34     148.3   \n",
       "...          ...          ...       ...        ...         ...       ...   \n",
       "4995           5         2.67     235.7        127       40.07     223.0   \n",
       "4996           2         3.97     184.2         90       31.31     256.8   \n",
       "4997           4         3.67     140.6         89       23.90     172.8   \n",
       "4998           6         2.30     188.8         67       32.10     171.7   \n",
       "4999          16         2.51     129.4        102       22.00     267.1   \n",
       "\n",
       "      Eve_calls  Eve_charge  Night_mins  Night_calls  Night_charge  \\\n",
       "0            99       16.78       244.7           91         11.01   \n",
       "1           103       16.62       254.4          103         11.45   \n",
       "2           110       10.30       162.6          104          7.32   \n",
       "3            88        5.26       196.9           89          8.86   \n",
       "4           122       12.61       186.9          121          8.41   \n",
       "...         ...         ...         ...          ...           ...   \n",
       "4995        126       18.96       297.5          116         13.39   \n",
       "4996         73       21.83       213.6          113          9.61   \n",
       "4997        128       14.69       212.4           97          9.56   \n",
       "4998         92       14.59       224.4           89         10.10   \n",
       "4999        104       22.70       154.8          100          6.97   \n",
       "\n",
       "      Customer_calls  \n",
       "0                  1  \n",
       "1                  1  \n",
       "2                  0  \n",
       "3                  2  \n",
       "4                  3  \n",
       "...              ...  \n",
       "4995               2  \n",
       "4996               3  \n",
       "4997               1  \n",
       "4998               0  \n",
       "4999               0  \n",
       "\n",
       "[4969 rows x 17 columns]"
      ]
     },
     "execution_count": 18,
     "metadata": {},
     "output_type": "execute_result"
    }
   ],
   "source": [
    "x[cat_cols] = Oe.fit_transform(x[cat_cols])\n",
    "x"
   ]
  },
  {
   "cell_type": "code",
   "execution_count": 19,
   "id": "64e1c7d5",
   "metadata": {
    "ExecuteTime": {
     "end_time": "2023-03-28T13:36:17.944347Z",
     "start_time": "2023-03-28T13:36:17.932731Z"
    }
   },
   "outputs": [
    {
     "data": {
      "text/plain": [
       "array([0, 0, 0, ..., 0, 0, 0], dtype=int64)"
      ]
     },
     "execution_count": 19,
     "metadata": {},
     "output_type": "execute_result"
    }
   ],
   "source": [
    "y = le.fit_transform(y)\n",
    "y"
   ]
  },
  {
   "cell_type": "markdown",
   "id": "fccdcc08",
   "metadata": {},
   "source": [
    "# Outlier Detection"
   ]
  },
  {
   "cell_type": "code",
   "execution_count": 20,
   "id": "4c93bc4a",
   "metadata": {
    "ExecuteTime": {
     "end_time": "2023-03-28T13:36:18.053624Z",
     "start_time": "2023-03-28T13:36:17.951219Z"
    }
   },
   "outputs": [],
   "source": [
    "from sklearn.ensemble import IsolationForest"
   ]
  },
  {
   "cell_type": "code",
   "execution_count": 21,
   "id": "0c435127",
   "metadata": {
    "ExecuteTime": {
     "end_time": "2023-03-28T13:36:18.827502Z",
     "start_time": "2023-03-28T13:36:18.056801Z"
    }
   },
   "outputs": [],
   "source": [
    "iso = IsolationForest(random_state=1)\n",
    "iso.fit(x,y)\n",
    "outliers = iso.predict(x)"
   ]
  },
  {
   "cell_type": "code",
   "execution_count": 22,
   "id": "341585d5",
   "metadata": {
    "ExecuteTime": {
     "end_time": "2023-03-28T13:36:18.907915Z",
     "start_time": "2023-03-28T13:36:18.830933Z"
    },
    "scrolled": true
   },
   "outputs": [
    {
     "data": {
      "text/html": [
       "<div>\n",
       "<style scoped>\n",
       "    .dataframe tbody tr th:only-of-type {\n",
       "        vertical-align: middle;\n",
       "    }\n",
       "\n",
       "    .dataframe tbody tr th {\n",
       "        vertical-align: top;\n",
       "    }\n",
       "\n",
       "    .dataframe thead th {\n",
       "        text-align: right;\n",
       "    }\n",
       "</style>\n",
       "<table border=\"1\" class=\"dataframe\">\n",
       "  <thead>\n",
       "    <tr style=\"text-align: right;\">\n",
       "      <th></th>\n",
       "      <th>Account_length</th>\n",
       "      <th>Voice_plan</th>\n",
       "      <th>Voice_messages</th>\n",
       "      <th>Intl_plan</th>\n",
       "      <th>Intl_mins</th>\n",
       "      <th>Intl_calls</th>\n",
       "      <th>Intl_charge</th>\n",
       "      <th>Day_mins</th>\n",
       "      <th>Day_calls</th>\n",
       "      <th>Day_charge</th>\n",
       "      <th>Eve_mins</th>\n",
       "      <th>Eve_calls</th>\n",
       "      <th>Eve_charge</th>\n",
       "      <th>Night_mins</th>\n",
       "      <th>Night_calls</th>\n",
       "      <th>Night_charge</th>\n",
       "      <th>Customer_calls</th>\n",
       "      <th>Outliers</th>\n",
       "    </tr>\n",
       "  </thead>\n",
       "  <tbody>\n",
       "    <tr>\n",
       "      <th>0</th>\n",
       "      <td>128</td>\n",
       "      <td>1.0</td>\n",
       "      <td>25</td>\n",
       "      <td>0.0</td>\n",
       "      <td>10.0</td>\n",
       "      <td>3</td>\n",
       "      <td>2.70</td>\n",
       "      <td>265.1</td>\n",
       "      <td>110</td>\n",
       "      <td>45.07</td>\n",
       "      <td>197.4</td>\n",
       "      <td>99</td>\n",
       "      <td>16.78</td>\n",
       "      <td>244.7</td>\n",
       "      <td>91</td>\n",
       "      <td>11.01</td>\n",
       "      <td>1</td>\n",
       "      <td>1</td>\n",
       "    </tr>\n",
       "    <tr>\n",
       "      <th>1</th>\n",
       "      <td>107</td>\n",
       "      <td>1.0</td>\n",
       "      <td>26</td>\n",
       "      <td>0.0</td>\n",
       "      <td>13.7</td>\n",
       "      <td>3</td>\n",
       "      <td>3.70</td>\n",
       "      <td>161.6</td>\n",
       "      <td>123</td>\n",
       "      <td>27.47</td>\n",
       "      <td>195.5</td>\n",
       "      <td>103</td>\n",
       "      <td>16.62</td>\n",
       "      <td>254.4</td>\n",
       "      <td>103</td>\n",
       "      <td>11.45</td>\n",
       "      <td>1</td>\n",
       "      <td>1</td>\n",
       "    </tr>\n",
       "    <tr>\n",
       "      <th>2</th>\n",
       "      <td>137</td>\n",
       "      <td>0.0</td>\n",
       "      <td>0</td>\n",
       "      <td>0.0</td>\n",
       "      <td>12.2</td>\n",
       "      <td>5</td>\n",
       "      <td>3.29</td>\n",
       "      <td>243.4</td>\n",
       "      <td>114</td>\n",
       "      <td>41.38</td>\n",
       "      <td>121.2</td>\n",
       "      <td>110</td>\n",
       "      <td>10.30</td>\n",
       "      <td>162.6</td>\n",
       "      <td>104</td>\n",
       "      <td>7.32</td>\n",
       "      <td>0</td>\n",
       "      <td>1</td>\n",
       "    </tr>\n",
       "    <tr>\n",
       "      <th>3</th>\n",
       "      <td>84</td>\n",
       "      <td>0.0</td>\n",
       "      <td>0</td>\n",
       "      <td>1.0</td>\n",
       "      <td>6.6</td>\n",
       "      <td>7</td>\n",
       "      <td>1.78</td>\n",
       "      <td>299.4</td>\n",
       "      <td>71</td>\n",
       "      <td>50.90</td>\n",
       "      <td>61.9</td>\n",
       "      <td>88</td>\n",
       "      <td>5.26</td>\n",
       "      <td>196.9</td>\n",
       "      <td>89</td>\n",
       "      <td>8.86</td>\n",
       "      <td>2</td>\n",
       "      <td>-1</td>\n",
       "    </tr>\n",
       "    <tr>\n",
       "      <th>4</th>\n",
       "      <td>75</td>\n",
       "      <td>0.0</td>\n",
       "      <td>0</td>\n",
       "      <td>1.0</td>\n",
       "      <td>10.1</td>\n",
       "      <td>3</td>\n",
       "      <td>2.73</td>\n",
       "      <td>166.7</td>\n",
       "      <td>113</td>\n",
       "      <td>28.34</td>\n",
       "      <td>148.3</td>\n",
       "      <td>122</td>\n",
       "      <td>12.61</td>\n",
       "      <td>186.9</td>\n",
       "      <td>121</td>\n",
       "      <td>8.41</td>\n",
       "      <td>3</td>\n",
       "      <td>1</td>\n",
       "    </tr>\n",
       "    <tr>\n",
       "      <th>...</th>\n",
       "      <td>...</td>\n",
       "      <td>...</td>\n",
       "      <td>...</td>\n",
       "      <td>...</td>\n",
       "      <td>...</td>\n",
       "      <td>...</td>\n",
       "      <td>...</td>\n",
       "      <td>...</td>\n",
       "      <td>...</td>\n",
       "      <td>...</td>\n",
       "      <td>...</td>\n",
       "      <td>...</td>\n",
       "      <td>...</td>\n",
       "      <td>...</td>\n",
       "      <td>...</td>\n",
       "      <td>...</td>\n",
       "      <td>...</td>\n",
       "      <td>...</td>\n",
       "    </tr>\n",
       "    <tr>\n",
       "      <th>4995</th>\n",
       "      <td>50</td>\n",
       "      <td>1.0</td>\n",
       "      <td>40</td>\n",
       "      <td>0.0</td>\n",
       "      <td>9.9</td>\n",
       "      <td>5</td>\n",
       "      <td>2.67</td>\n",
       "      <td>235.7</td>\n",
       "      <td>127</td>\n",
       "      <td>40.07</td>\n",
       "      <td>223.0</td>\n",
       "      <td>126</td>\n",
       "      <td>18.96</td>\n",
       "      <td>297.5</td>\n",
       "      <td>116</td>\n",
       "      <td>13.39</td>\n",
       "      <td>2</td>\n",
       "      <td>1</td>\n",
       "    </tr>\n",
       "    <tr>\n",
       "      <th>4996</th>\n",
       "      <td>152</td>\n",
       "      <td>0.0</td>\n",
       "      <td>0</td>\n",
       "      <td>0.0</td>\n",
       "      <td>14.7</td>\n",
       "      <td>2</td>\n",
       "      <td>3.97</td>\n",
       "      <td>184.2</td>\n",
       "      <td>90</td>\n",
       "      <td>31.31</td>\n",
       "      <td>256.8</td>\n",
       "      <td>73</td>\n",
       "      <td>21.83</td>\n",
       "      <td>213.6</td>\n",
       "      <td>113</td>\n",
       "      <td>9.61</td>\n",
       "      <td>3</td>\n",
       "      <td>1</td>\n",
       "    </tr>\n",
       "    <tr>\n",
       "      <th>4997</th>\n",
       "      <td>61</td>\n",
       "      <td>0.0</td>\n",
       "      <td>0</td>\n",
       "      <td>0.0</td>\n",
       "      <td>13.6</td>\n",
       "      <td>4</td>\n",
       "      <td>3.67</td>\n",
       "      <td>140.6</td>\n",
       "      <td>89</td>\n",
       "      <td>23.90</td>\n",
       "      <td>172.8</td>\n",
       "      <td>128</td>\n",
       "      <td>14.69</td>\n",
       "      <td>212.4</td>\n",
       "      <td>97</td>\n",
       "      <td>9.56</td>\n",
       "      <td>1</td>\n",
       "      <td>1</td>\n",
       "    </tr>\n",
       "    <tr>\n",
       "      <th>4998</th>\n",
       "      <td>109</td>\n",
       "      <td>0.0</td>\n",
       "      <td>0</td>\n",
       "      <td>0.0</td>\n",
       "      <td>8.5</td>\n",
       "      <td>6</td>\n",
       "      <td>2.30</td>\n",
       "      <td>188.8</td>\n",
       "      <td>67</td>\n",
       "      <td>32.10</td>\n",
       "      <td>171.7</td>\n",
       "      <td>92</td>\n",
       "      <td>14.59</td>\n",
       "      <td>224.4</td>\n",
       "      <td>89</td>\n",
       "      <td>10.10</td>\n",
       "      <td>0</td>\n",
       "      <td>1</td>\n",
       "    </tr>\n",
       "    <tr>\n",
       "      <th>4999</th>\n",
       "      <td>86</td>\n",
       "      <td>1.0</td>\n",
       "      <td>34</td>\n",
       "      <td>0.0</td>\n",
       "      <td>9.3</td>\n",
       "      <td>16</td>\n",
       "      <td>2.51</td>\n",
       "      <td>129.4</td>\n",
       "      <td>102</td>\n",
       "      <td>22.00</td>\n",
       "      <td>267.1</td>\n",
       "      <td>104</td>\n",
       "      <td>22.70</td>\n",
       "      <td>154.8</td>\n",
       "      <td>100</td>\n",
       "      <td>6.97</td>\n",
       "      <td>0</td>\n",
       "      <td>-1</td>\n",
       "    </tr>\n",
       "  </tbody>\n",
       "</table>\n",
       "<p>4969 rows × 18 columns</p>\n",
       "</div>"
      ],
      "text/plain": [
       "      Account_length  Voice_plan  Voice_messages  Intl_plan  Intl_mins  \\\n",
       "0                128         1.0              25        0.0       10.0   \n",
       "1                107         1.0              26        0.0       13.7   \n",
       "2                137         0.0               0        0.0       12.2   \n",
       "3                 84         0.0               0        1.0        6.6   \n",
       "4                 75         0.0               0        1.0       10.1   \n",
       "...              ...         ...             ...        ...        ...   \n",
       "4995              50         1.0              40        0.0        9.9   \n",
       "4996             152         0.0               0        0.0       14.7   \n",
       "4997              61         0.0               0        0.0       13.6   \n",
       "4998             109         0.0               0        0.0        8.5   \n",
       "4999              86         1.0              34        0.0        9.3   \n",
       "\n",
       "      Intl_calls  Intl_charge  Day_mins  Day_calls  Day_charge  Eve_mins  \\\n",
       "0              3         2.70     265.1        110       45.07     197.4   \n",
       "1              3         3.70     161.6        123       27.47     195.5   \n",
       "2              5         3.29     243.4        114       41.38     121.2   \n",
       "3              7         1.78     299.4         71       50.90      61.9   \n",
       "4              3         2.73     166.7        113       28.34     148.3   \n",
       "...          ...          ...       ...        ...         ...       ...   \n",
       "4995           5         2.67     235.7        127       40.07     223.0   \n",
       "4996           2         3.97     184.2         90       31.31     256.8   \n",
       "4997           4         3.67     140.6         89       23.90     172.8   \n",
       "4998           6         2.30     188.8         67       32.10     171.7   \n",
       "4999          16         2.51     129.4        102       22.00     267.1   \n",
       "\n",
       "      Eve_calls  Eve_charge  Night_mins  Night_calls  Night_charge  \\\n",
       "0            99       16.78       244.7           91         11.01   \n",
       "1           103       16.62       254.4          103         11.45   \n",
       "2           110       10.30       162.6          104          7.32   \n",
       "3            88        5.26       196.9           89          8.86   \n",
       "4           122       12.61       186.9          121          8.41   \n",
       "...         ...         ...         ...          ...           ...   \n",
       "4995        126       18.96       297.5          116         13.39   \n",
       "4996         73       21.83       213.6          113          9.61   \n",
       "4997        128       14.69       212.4           97          9.56   \n",
       "4998         92       14.59       224.4           89         10.10   \n",
       "4999        104       22.70       154.8          100          6.97   \n",
       "\n",
       "      Customer_calls  Outliers  \n",
       "0                  1         1  \n",
       "1                  1         1  \n",
       "2                  0         1  \n",
       "3                  2        -1  \n",
       "4                  3         1  \n",
       "...              ...       ...  \n",
       "4995               2         1  \n",
       "4996               3         1  \n",
       "4997               1         1  \n",
       "4998               0         1  \n",
       "4999               0        -1  \n",
       "\n",
       "[4969 rows x 18 columns]"
      ]
     },
     "execution_count": 22,
     "metadata": {},
     "output_type": "execute_result"
    }
   ],
   "source": [
    "x['Outliers'] = outliers\n",
    "x"
   ]
  },
  {
   "cell_type": "code",
   "execution_count": 23,
   "id": "11a086e9",
   "metadata": {
    "ExecuteTime": {
     "end_time": "2023-03-28T13:36:18.954793Z",
     "start_time": "2023-03-28T13:36:18.908417Z"
    }
   },
   "outputs": [
    {
     "data": {
      "text/html": [
       "<div>\n",
       "<style scoped>\n",
       "    .dataframe tbody tr th:only-of-type {\n",
       "        vertical-align: middle;\n",
       "    }\n",
       "\n",
       "    .dataframe tbody tr th {\n",
       "        vertical-align: top;\n",
       "    }\n",
       "\n",
       "    .dataframe thead th {\n",
       "        text-align: right;\n",
       "    }\n",
       "</style>\n",
       "<table border=\"1\" class=\"dataframe\">\n",
       "  <thead>\n",
       "    <tr style=\"text-align: right;\">\n",
       "      <th></th>\n",
       "      <th>Account_length</th>\n",
       "      <th>Voice_plan</th>\n",
       "      <th>Voice_messages</th>\n",
       "      <th>Intl_plan</th>\n",
       "      <th>Intl_mins</th>\n",
       "      <th>Intl_calls</th>\n",
       "      <th>Intl_charge</th>\n",
       "      <th>Day_mins</th>\n",
       "      <th>Day_calls</th>\n",
       "      <th>Day_charge</th>\n",
       "      <th>Eve_mins</th>\n",
       "      <th>Eve_calls</th>\n",
       "      <th>Eve_charge</th>\n",
       "      <th>Night_mins</th>\n",
       "      <th>Night_calls</th>\n",
       "      <th>Night_charge</th>\n",
       "      <th>Customer_calls</th>\n",
       "      <th>Outliers</th>\n",
       "    </tr>\n",
       "  </thead>\n",
       "  <tbody>\n",
       "    <tr>\n",
       "      <th>3</th>\n",
       "      <td>84</td>\n",
       "      <td>0.0</td>\n",
       "      <td>0</td>\n",
       "      <td>1.0</td>\n",
       "      <td>6.6</td>\n",
       "      <td>7</td>\n",
       "      <td>1.78</td>\n",
       "      <td>299.4</td>\n",
       "      <td>71</td>\n",
       "      <td>50.90</td>\n",
       "      <td>61.9</td>\n",
       "      <td>88</td>\n",
       "      <td>5.26</td>\n",
       "      <td>196.9</td>\n",
       "      <td>89</td>\n",
       "      <td>8.86</td>\n",
       "      <td>2</td>\n",
       "      <td>-1</td>\n",
       "    </tr>\n",
       "    <tr>\n",
       "      <th>7</th>\n",
       "      <td>147</td>\n",
       "      <td>0.0</td>\n",
       "      <td>0</td>\n",
       "      <td>1.0</td>\n",
       "      <td>7.1</td>\n",
       "      <td>6</td>\n",
       "      <td>1.92</td>\n",
       "      <td>157.0</td>\n",
       "      <td>79</td>\n",
       "      <td>26.69</td>\n",
       "      <td>103.1</td>\n",
       "      <td>94</td>\n",
       "      <td>8.76</td>\n",
       "      <td>211.8</td>\n",
       "      <td>96</td>\n",
       "      <td>9.53</td>\n",
       "      <td>0</td>\n",
       "      <td>-1</td>\n",
       "    </tr>\n",
       "    <tr>\n",
       "      <th>9</th>\n",
       "      <td>141</td>\n",
       "      <td>1.0</td>\n",
       "      <td>37</td>\n",
       "      <td>1.0</td>\n",
       "      <td>11.2</td>\n",
       "      <td>5</td>\n",
       "      <td>3.02</td>\n",
       "      <td>258.6</td>\n",
       "      <td>84</td>\n",
       "      <td>43.96</td>\n",
       "      <td>222.0</td>\n",
       "      <td>111</td>\n",
       "      <td>18.87</td>\n",
       "      <td>326.4</td>\n",
       "      <td>97</td>\n",
       "      <td>14.69</td>\n",
       "      <td>0</td>\n",
       "      <td>-1</td>\n",
       "    </tr>\n",
       "    <tr>\n",
       "      <th>15</th>\n",
       "      <td>161</td>\n",
       "      <td>0.0</td>\n",
       "      <td>0</td>\n",
       "      <td>0.0</td>\n",
       "      <td>5.4</td>\n",
       "      <td>9</td>\n",
       "      <td>1.46</td>\n",
       "      <td>332.9</td>\n",
       "      <td>67</td>\n",
       "      <td>56.59</td>\n",
       "      <td>317.8</td>\n",
       "      <td>97</td>\n",
       "      <td>27.01</td>\n",
       "      <td>160.6</td>\n",
       "      <td>128</td>\n",
       "      <td>7.23</td>\n",
       "      <td>4</td>\n",
       "      <td>-1</td>\n",
       "    </tr>\n",
       "    <tr>\n",
       "      <th>16</th>\n",
       "      <td>85</td>\n",
       "      <td>1.0</td>\n",
       "      <td>27</td>\n",
       "      <td>0.0</td>\n",
       "      <td>13.8</td>\n",
       "      <td>4</td>\n",
       "      <td>3.73</td>\n",
       "      <td>196.4</td>\n",
       "      <td>139</td>\n",
       "      <td>33.39</td>\n",
       "      <td>280.9</td>\n",
       "      <td>90</td>\n",
       "      <td>23.88</td>\n",
       "      <td>89.3</td>\n",
       "      <td>75</td>\n",
       "      <td>4.02</td>\n",
       "      <td>1</td>\n",
       "      <td>-1</td>\n",
       "    </tr>\n",
       "    <tr>\n",
       "      <th>...</th>\n",
       "      <td>...</td>\n",
       "      <td>...</td>\n",
       "      <td>...</td>\n",
       "      <td>...</td>\n",
       "      <td>...</td>\n",
       "      <td>...</td>\n",
       "      <td>...</td>\n",
       "      <td>...</td>\n",
       "      <td>...</td>\n",
       "      <td>...</td>\n",
       "      <td>...</td>\n",
       "      <td>...</td>\n",
       "      <td>...</td>\n",
       "      <td>...</td>\n",
       "      <td>...</td>\n",
       "      <td>...</td>\n",
       "      <td>...</td>\n",
       "      <td>...</td>\n",
       "    </tr>\n",
       "    <tr>\n",
       "      <th>4959</th>\n",
       "      <td>137</td>\n",
       "      <td>0.0</td>\n",
       "      <td>0</td>\n",
       "      <td>1.0</td>\n",
       "      <td>10.6</td>\n",
       "      <td>2</td>\n",
       "      <td>2.86</td>\n",
       "      <td>312.4</td>\n",
       "      <td>110</td>\n",
       "      <td>53.11</td>\n",
       "      <td>231.1</td>\n",
       "      <td>73</td>\n",
       "      <td>19.64</td>\n",
       "      <td>120.1</td>\n",
       "      <td>78</td>\n",
       "      <td>5.40</td>\n",
       "      <td>1</td>\n",
       "      <td>-1</td>\n",
       "    </tr>\n",
       "    <tr>\n",
       "      <th>4963</th>\n",
       "      <td>47</td>\n",
       "      <td>1.0</td>\n",
       "      <td>31</td>\n",
       "      <td>1.0</td>\n",
       "      <td>9.7</td>\n",
       "      <td>4</td>\n",
       "      <td>2.62</td>\n",
       "      <td>140.6</td>\n",
       "      <td>114</td>\n",
       "      <td>23.90</td>\n",
       "      <td>264.6</td>\n",
       "      <td>44</td>\n",
       "      <td>22.49</td>\n",
       "      <td>238.7</td>\n",
       "      <td>121</td>\n",
       "      <td>10.74</td>\n",
       "      <td>2</td>\n",
       "      <td>-1</td>\n",
       "    </tr>\n",
       "    <tr>\n",
       "      <th>4971</th>\n",
       "      <td>128</td>\n",
       "      <td>1.0</td>\n",
       "      <td>28</td>\n",
       "      <td>0.0</td>\n",
       "      <td>17.7</td>\n",
       "      <td>4</td>\n",
       "      <td>4.78</td>\n",
       "      <td>115.4</td>\n",
       "      <td>96</td>\n",
       "      <td>19.62</td>\n",
       "      <td>185.4</td>\n",
       "      <td>94</td>\n",
       "      <td>15.76</td>\n",
       "      <td>209.3</td>\n",
       "      <td>69</td>\n",
       "      <td>9.42</td>\n",
       "      <td>0</td>\n",
       "      <td>-1</td>\n",
       "    </tr>\n",
       "    <tr>\n",
       "      <th>4987</th>\n",
       "      <td>127</td>\n",
       "      <td>1.0</td>\n",
       "      <td>27</td>\n",
       "      <td>0.0</td>\n",
       "      <td>8.0</td>\n",
       "      <td>4</td>\n",
       "      <td>2.16</td>\n",
       "      <td>157.6</td>\n",
       "      <td>107</td>\n",
       "      <td>26.79</td>\n",
       "      <td>280.6</td>\n",
       "      <td>49</td>\n",
       "      <td>23.85</td>\n",
       "      <td>75.1</td>\n",
       "      <td>77</td>\n",
       "      <td>3.38</td>\n",
       "      <td>1</td>\n",
       "      <td>-1</td>\n",
       "    </tr>\n",
       "    <tr>\n",
       "      <th>4999</th>\n",
       "      <td>86</td>\n",
       "      <td>1.0</td>\n",
       "      <td>34</td>\n",
       "      <td>0.0</td>\n",
       "      <td>9.3</td>\n",
       "      <td>16</td>\n",
       "      <td>2.51</td>\n",
       "      <td>129.4</td>\n",
       "      <td>102</td>\n",
       "      <td>22.00</td>\n",
       "      <td>267.1</td>\n",
       "      <td>104</td>\n",
       "      <td>22.70</td>\n",
       "      <td>154.8</td>\n",
       "      <td>100</td>\n",
       "      <td>6.97</td>\n",
       "      <td>0</td>\n",
       "      <td>-1</td>\n",
       "    </tr>\n",
       "  </tbody>\n",
       "</table>\n",
       "<p>571 rows × 18 columns</p>\n",
       "</div>"
      ],
      "text/plain": [
       "      Account_length  Voice_plan  Voice_messages  Intl_plan  Intl_mins  \\\n",
       "3                 84         0.0               0        1.0        6.6   \n",
       "7                147         0.0               0        1.0        7.1   \n",
       "9                141         1.0              37        1.0       11.2   \n",
       "15               161         0.0               0        0.0        5.4   \n",
       "16                85         1.0              27        0.0       13.8   \n",
       "...              ...         ...             ...        ...        ...   \n",
       "4959             137         0.0               0        1.0       10.6   \n",
       "4963              47         1.0              31        1.0        9.7   \n",
       "4971             128         1.0              28        0.0       17.7   \n",
       "4987             127         1.0              27        0.0        8.0   \n",
       "4999              86         1.0              34        0.0        9.3   \n",
       "\n",
       "      Intl_calls  Intl_charge  Day_mins  Day_calls  Day_charge  Eve_mins  \\\n",
       "3              7         1.78     299.4         71       50.90      61.9   \n",
       "7              6         1.92     157.0         79       26.69     103.1   \n",
       "9              5         3.02     258.6         84       43.96     222.0   \n",
       "15             9         1.46     332.9         67       56.59     317.8   \n",
       "16             4         3.73     196.4        139       33.39     280.9   \n",
       "...          ...          ...       ...        ...         ...       ...   \n",
       "4959           2         2.86     312.4        110       53.11     231.1   \n",
       "4963           4         2.62     140.6        114       23.90     264.6   \n",
       "4971           4         4.78     115.4         96       19.62     185.4   \n",
       "4987           4         2.16     157.6        107       26.79     280.6   \n",
       "4999          16         2.51     129.4        102       22.00     267.1   \n",
       "\n",
       "      Eve_calls  Eve_charge  Night_mins  Night_calls  Night_charge  \\\n",
       "3            88        5.26       196.9           89          8.86   \n",
       "7            94        8.76       211.8           96          9.53   \n",
       "9           111       18.87       326.4           97         14.69   \n",
       "15           97       27.01       160.6          128          7.23   \n",
       "16           90       23.88        89.3           75          4.02   \n",
       "...         ...         ...         ...          ...           ...   \n",
       "4959         73       19.64       120.1           78          5.40   \n",
       "4963         44       22.49       238.7          121         10.74   \n",
       "4971         94       15.76       209.3           69          9.42   \n",
       "4987         49       23.85        75.1           77          3.38   \n",
       "4999        104       22.70       154.8          100          6.97   \n",
       "\n",
       "      Customer_calls  Outliers  \n",
       "3                  2        -1  \n",
       "7                  0        -1  \n",
       "9                  0        -1  \n",
       "15                 4        -1  \n",
       "16                 1        -1  \n",
       "...              ...       ...  \n",
       "4959               1        -1  \n",
       "4963               2        -1  \n",
       "4971               0        -1  \n",
       "4987               1        -1  \n",
       "4999               0        -1  \n",
       "\n",
       "[571 rows x 18 columns]"
      ]
     },
     "execution_count": 23,
     "metadata": {},
     "output_type": "execute_result"
    }
   ],
   "source": [
    "x[x['Outliers']==-1]"
   ]
  },
  {
   "cell_type": "code",
   "execution_count": 24,
   "id": "e38cea5f",
   "metadata": {
    "ExecuteTime": {
     "end_time": "2023-03-28T13:36:19.842154Z",
     "start_time": "2023-03-28T13:36:18.955431Z"
    }
   },
   "outputs": [
    {
     "data": {
      "text/plain": [
       "<AxesSubplot:>"
      ]
     },
     "execution_count": 24,
     "metadata": {},
     "output_type": "execute_result"
    },
    {
     "data": {
      "image/png": "[encoded data removed]",
      "text/plain": [
       "<Figure size 640x480 with 1 Axes>"
      ]
     },
     "metadata": {},
     "output_type": "display_data"
    }
   ],
   "source": [
    "sns.boxplot(data=x)"
   ]
  },
  {
   "cell_type": "markdown",
   "id": "56466792",
   "metadata": {},
   "source": [
    "- We have detected 571 outliers in the dataset, which is more than 10% of length od dataset.\n",
    "- So we have to use capping"
   ]
  },
  {
   "cell_type": "markdown",
   "id": "6b236c65",
   "metadata": {},
   "source": [
    "Capping outlier using IQR"
   ]
  },
  {
   "cell_type": "code",
   "execution_count": 25,
   "id": "f2f3a745",
   "metadata": {
    "ExecuteTime": {
     "end_time": "2023-03-28T13:36:19.857939Z",
     "start_time": "2023-03-28T13:36:19.845363Z"
    }
   },
   "outputs": [],
   "source": [
    "x.drop(columns=['Outliers'],inplace=True)"
   ]
  },
  {
   "cell_type": "code",
   "execution_count": 26,
   "id": "4e0ca849",
   "metadata": {
    "ExecuteTime": {
     "end_time": "2023-03-28T13:36:19.906185Z",
     "start_time": "2023-03-28T13:36:19.890075Z"
    }
   },
   "outputs": [],
   "source": [
    "def outlier_replace_iqr(data,column):\n",
    "    Q1 = data[column].quantile(0.25)\n",
    "    Q3 = data[column].quantile(0.75)\n",
    "    #print(Q1,Q3)\n",
    "    IQR = Q3-Q1\n",
    "    Lower = Q1-(1.5*IQR)\n",
    "    Upper = Q3+(1.5*IQR)\n",
    "    data[column] = np.where(data[column]>Upper, Upper, np.where(data[column]<Lower, Lower, data[column]))"
   ]
  },
  {
   "cell_type": "code",
   "execution_count": 27,
   "id": "6173035f",
   "metadata": {
    "ExecuteTime": {
     "end_time": "2023-03-28T13:36:19.921890Z",
     "start_time": "2023-03-28T13:36:19.909185Z"
    }
   },
   "outputs": [
    {
     "data": {
      "text/plain": [
       "Index(['Account_length', 'Voice_plan', 'Voice_messages', 'Intl_plan',\n",
       "       'Intl_mins', 'Intl_calls', 'Intl_charge', 'Day_mins', 'Day_calls',\n",
       "       'Day_charge', 'Eve_mins', 'Eve_calls', 'Eve_charge', 'Night_mins',\n",
       "       'Night_calls', 'Night_charge', 'Customer_calls'],\n",
       "      dtype='object')"
      ]
     },
     "execution_count": 27,
     "metadata": {},
     "output_type": "execute_result"
    }
   ],
   "source": [
    "x.columns"
   ]
  },
  {
   "cell_type": "code",
   "execution_count": 28,
   "id": "bce06905",
   "metadata": {
    "ExecuteTime": {
     "end_time": "2023-03-28T13:36:20.016979Z",
     "start_time": "2023-03-28T13:36:19.931690Z"
    }
   },
   "outputs": [],
   "source": [
    "outlier_replace_iqr(x,'Account_length' )\n",
    "#outlier_replace_iqr(x,'Voice_messages')\n",
    "outlier_replace_iqr(x, 'Intl_mins')\n",
    "outlier_replace_iqr(x, 'Intl_calls')\n",
    "outlier_replace_iqr(x, 'Intl_charge')\n",
    "outlier_replace_iqr(x, 'Day_mins')\n",
    "outlier_replace_iqr(x, 'Day_calls')\n",
    "outlier_replace_iqr(x, 'Day_charge')\n",
    "outlier_replace_iqr(x, 'Eve_mins')\n",
    "outlier_replace_iqr(x, 'Eve_calls')\n",
    "outlier_replace_iqr(x, 'Eve_charge')\n",
    "outlier_replace_iqr(x, 'Night_mins')\n",
    "outlier_replace_iqr(x, 'Night_calls')\n",
    "outlier_replace_iqr(x, 'Night_charge')\n",
    "outlier_replace_iqr(x, 'Customer_calls')"
   ]
  },
  {
   "cell_type": "code",
   "execution_count": 29,
   "id": "1972f2a3",
   "metadata": {
    "ExecuteTime": {
     "end_time": "2023-03-28T13:36:20.694750Z",
     "start_time": "2023-03-28T13:36:20.019622Z"
    },
    "scrolled": true
   },
   "outputs": [
    {
     "data": {
      "text/plain": [
       "<AxesSubplot:>"
      ]
     },
     "execution_count": 29,
     "metadata": {},
     "output_type": "execute_result"
    },
    {
     "data": {
      "image/png": "[encoded data removed]",
      "text/plain": [
       "<Figure size 640x480 with 1 Axes>"
      ]
     },
     "metadata": {},
     "output_type": "display_data"
    }
   ],
   "source": [
    "sns.boxplot(data=x)"
   ]
  },
  {
   "cell_type": "markdown",
   "id": "84a637bb",
   "metadata": {},
   "source": [
    "above Boxplot shows there is no outlier"
   ]
  },
  {
   "cell_type": "markdown",
   "id": "9f04f5b4",
   "metadata": {},
   "source": [
    "# Feature Selection"
   ]
  },
  {
   "cell_type": "markdown",
   "id": "f47d4255",
   "metadata": {},
   "source": [
    "# 1-Chi Square "
   ]
  },
  {
   "cell_type": "code",
   "execution_count": 30,
   "id": "2b798bad",
   "metadata": {
    "ExecuteTime": {
     "end_time": "2023-03-28T13:36:20.725397Z",
     "start_time": "2023-03-28T13:36:20.698241Z"
    }
   },
   "outputs": [],
   "source": [
    "test = SelectKBest(score_func=chi2, k=4)\n",
    "chi = test.fit(x,y)"
   ]
  },
  {
   "cell_type": "code",
   "execution_count": 31,
   "id": "69e9ed10",
   "metadata": {
    "ExecuteTime": {
     "end_time": "2023-03-28T13:36:20.741448Z",
     "start_time": "2023-03-28T13:36:20.728731Z"
    }
   },
   "outputs": [
    {
     "data": {
      "text/plain": [
       "array([3.50453508e+01, 4.57368976e+01, 1.14251282e+03, 3.05958303e+02,\n",
       "       1.30223100e+01, 1.58594587e+01, 3.50756112e+00, 3.41072410e+03,\n",
       "       5.28130502e+00, 5.79705012e+02, 4.88050795e+02, 8.13904256e-01,\n",
       "       4.14882748e+01, 1.30530887e+02, 8.66669099e-01, 5.87302366e+00,\n",
       "       1.03966897e+02])"
      ]
     },
     "execution_count": 31,
     "metadata": {},
     "output_type": "execute_result"
    }
   ],
   "source": [
    "chi.scores_"
   ]
  },
  {
   "cell_type": "code",
   "execution_count": 32,
   "id": "9781f8a6",
   "metadata": {
    "ExecuteTime": {
     "end_time": "2023-03-28T13:36:20.757428Z",
     "start_time": "2023-03-28T13:36:20.745523Z"
    }
   },
   "outputs": [
    {
     "data": {
      "text/plain": [
       "Index(['Account_length', 'Voice_plan', 'Voice_messages', 'Intl_plan',\n",
       "       'Intl_mins', 'Intl_calls', 'Intl_charge', 'Day_mins', 'Day_calls',\n",
       "       'Day_charge', 'Eve_mins', 'Eve_calls', 'Eve_charge', 'Night_mins',\n",
       "       'Night_calls', 'Night_charge', 'Customer_calls'],\n",
       "      dtype='object')"
      ]
     },
     "execution_count": 32,
     "metadata": {},
     "output_type": "execute_result"
    }
   ],
   "source": [
    "x.columns"
   ]
  },
  {
   "cell_type": "code",
   "execution_count": 33,
   "id": "8e62ee3a",
   "metadata": {
    "ExecuteTime": {
     "end_time": "2023-03-28T13:36:20.773419Z",
     "start_time": "2023-03-28T13:36:20.760749Z"
    }
   },
   "outputs": [],
   "source": [
    "chidf = pd.DataFrame(chi.scores_).T\n",
    "chidf.columns = x.columns"
   ]
  },
  {
   "cell_type": "code",
   "execution_count": 34,
   "id": "969ac483",
   "metadata": {
    "ExecuteTime": {
     "end_time": "2023-03-28T13:36:20.836009Z",
     "start_time": "2023-03-28T13:36:20.787628Z"
    }
   },
   "outputs": [
    {
     "data": {
      "text/html": [
       "<div>\n",
       "<style scoped>\n",
       "    .dataframe tbody tr th:only-of-type {\n",
       "        vertical-align: middle;\n",
       "    }\n",
       "\n",
       "    .dataframe tbody tr th {\n",
       "        vertical-align: top;\n",
       "    }\n",
       "\n",
       "    .dataframe thead th {\n",
       "        text-align: right;\n",
       "    }\n",
       "</style>\n",
       "<table border=\"1\" class=\"dataframe\">\n",
       "  <thead>\n",
       "    <tr style=\"text-align: right;\">\n",
       "      <th></th>\n",
       "      <th>Account_length</th>\n",
       "      <th>Voice_plan</th>\n",
       "      <th>Voice_messages</th>\n",
       "      <th>Intl_plan</th>\n",
       "      <th>Intl_mins</th>\n",
       "      <th>Intl_calls</th>\n",
       "      <th>Intl_charge</th>\n",
       "      <th>Day_mins</th>\n",
       "      <th>Day_calls</th>\n",
       "      <th>Day_charge</th>\n",
       "      <th>Eve_mins</th>\n",
       "      <th>Eve_calls</th>\n",
       "      <th>Eve_charge</th>\n",
       "      <th>Night_mins</th>\n",
       "      <th>Night_calls</th>\n",
       "      <th>Night_charge</th>\n",
       "      <th>Customer_calls</th>\n",
       "    </tr>\n",
       "  </thead>\n",
       "  <tbody>\n",
       "    <tr>\n",
       "      <th>0</th>\n",
       "      <td>35.045351</td>\n",
       "      <td>45.736898</td>\n",
       "      <td>1142.512819</td>\n",
       "      <td>305.958303</td>\n",
       "      <td>13.02231</td>\n",
       "      <td>15.859459</td>\n",
       "      <td>3.507561</td>\n",
       "      <td>3410.724102</td>\n",
       "      <td>5.281305</td>\n",
       "      <td>579.705012</td>\n",
       "      <td>488.050795</td>\n",
       "      <td>0.813904</td>\n",
       "      <td>41.488275</td>\n",
       "      <td>130.530887</td>\n",
       "      <td>0.866669</td>\n",
       "      <td>5.873024</td>\n",
       "      <td>103.966897</td>\n",
       "    </tr>\n",
       "  </tbody>\n",
       "</table>\n",
       "</div>"
      ],
      "text/plain": [
       "   Account_length  Voice_plan  Voice_messages   Intl_plan  Intl_mins  \\\n",
       "0       35.045351   45.736898     1142.512819  305.958303   13.02231   \n",
       "\n",
       "   Intl_calls  Intl_charge     Day_mins  Day_calls  Day_charge    Eve_mins  \\\n",
       "0   15.859459     3.507561  3410.724102   5.281305  579.705012  488.050795   \n",
       "\n",
       "   Eve_calls  Eve_charge  Night_mins  Night_calls  Night_charge  \\\n",
       "0   0.813904   41.488275  130.530887     0.866669      5.873024   \n",
       "\n",
       "   Customer_calls  \n",
       "0      103.966897  "
      ]
     },
     "execution_count": 34,
     "metadata": {},
     "output_type": "execute_result"
    }
   ],
   "source": [
    "chidf"
   ]
  },
  {
   "cell_type": "markdown",
   "id": "28c8fc05",
   "metadata": {},
   "source": [
    "# 2. RFE"
   ]
  },
  {
   "cell_type": "code",
   "execution_count": 35,
   "id": "9a4437ba",
   "metadata": {
    "ExecuteTime": {
     "end_time": "2023-03-28T13:36:21.770132Z",
     "start_time": "2023-03-28T13:36:20.836009Z"
    }
   },
   "outputs": [
    {
     "data": {
      "text/plain": [
       "RFE(estimator=LogisticRegression(), n_features_to_select=5)"
      ]
     },
     "execution_count": 35,
     "metadata": {},
     "output_type": "execute_result"
    }
   ],
   "source": [
    "lg = LogisticRegression()\n",
    "\n",
    "rfe = RFE(lg, n_features_to_select=5)\n",
    "\n",
    "rfe.fit(x,y)"
   ]
  },
  {
   "cell_type": "code",
   "execution_count": 36,
   "id": "5a612ef4",
   "metadata": {
    "ExecuteTime": {
     "end_time": "2023-03-28T13:36:21.786822Z",
     "start_time": "2023-03-28T13:36:21.773161Z"
    }
   },
   "outputs": [
    {
     "data": {
      "text/plain": [
       "array([ 9,  1,  2,  1,  1,  1, 11,  6,  5,  8,  7,  4, 10, 12,  3, 13,  1])"
      ]
     },
     "execution_count": 36,
     "metadata": {},
     "output_type": "execute_result"
    }
   ],
   "source": [
    "rfe.ranking_"
   ]
  },
  {
   "cell_type": "code",
   "execution_count": 37,
   "id": "e116d298",
   "metadata": {
    "ExecuteTime": {
     "end_time": "2023-03-28T13:36:21.817161Z",
     "start_time": "2023-03-28T13:36:21.794334Z"
    }
   },
   "outputs": [
    {
     "data": {
      "text/plain": [
       "array([False,  True, False,  True,  True,  True, False, False, False,\n",
       "       False, False, False, False, False, False, False,  True])"
      ]
     },
     "execution_count": 37,
     "metadata": {},
     "output_type": "execute_result"
    }
   ],
   "source": [
    "rfe.support_"
   ]
  },
  {
   "cell_type": "code",
   "execution_count": 38,
   "id": "beba895d",
   "metadata": {
    "ExecuteTime": {
     "end_time": "2023-03-28T13:36:21.849230Z",
     "start_time": "2023-03-28T13:36:21.824929Z"
    },
    "scrolled": true
   },
   "outputs": [
    {
     "data": {
      "text/html": [
       "<div>\n",
       "<style scoped>\n",
       "    .dataframe tbody tr th:only-of-type {\n",
       "        vertical-align: middle;\n",
       "    }\n",
       "\n",
       "    .dataframe tbody tr th {\n",
       "        vertical-align: top;\n",
       "    }\n",
       "\n",
       "    .dataframe thead th {\n",
       "        text-align: right;\n",
       "    }\n",
       "</style>\n",
       "<table border=\"1\" class=\"dataframe\">\n",
       "  <thead>\n",
       "    <tr style=\"text-align: right;\">\n",
       "      <th></th>\n",
       "      <th>Account_length</th>\n",
       "      <th>Voice_plan</th>\n",
       "      <th>Voice_messages</th>\n",
       "      <th>Intl_plan</th>\n",
       "      <th>Intl_mins</th>\n",
       "      <th>Intl_calls</th>\n",
       "      <th>Intl_charge</th>\n",
       "      <th>Day_mins</th>\n",
       "      <th>Day_calls</th>\n",
       "      <th>Day_charge</th>\n",
       "      <th>Eve_mins</th>\n",
       "      <th>Eve_calls</th>\n",
       "      <th>Eve_charge</th>\n",
       "      <th>Night_mins</th>\n",
       "      <th>Night_calls</th>\n",
       "      <th>Night_charge</th>\n",
       "      <th>Customer_calls</th>\n",
       "    </tr>\n",
       "  </thead>\n",
       "  <tbody>\n",
       "    <tr>\n",
       "      <th>0</th>\n",
       "      <td>9</td>\n",
       "      <td>1</td>\n",
       "      <td>2</td>\n",
       "      <td>1</td>\n",
       "      <td>1</td>\n",
       "      <td>1</td>\n",
       "      <td>11</td>\n",
       "      <td>6</td>\n",
       "      <td>5</td>\n",
       "      <td>8</td>\n",
       "      <td>7</td>\n",
       "      <td>4</td>\n",
       "      <td>10</td>\n",
       "      <td>12</td>\n",
       "      <td>3</td>\n",
       "      <td>13</td>\n",
       "      <td>1</td>\n",
       "    </tr>\n",
       "  </tbody>\n",
       "</table>\n",
       "</div>"
      ],
      "text/plain": [
       "   Account_length  Voice_plan  Voice_messages  Intl_plan  Intl_mins  \\\n",
       "0               9           1               2          1          1   \n",
       "\n",
       "   Intl_calls  Intl_charge  Day_mins  Day_calls  Day_charge  Eve_mins  \\\n",
       "0           1           11         6          5           8         7   \n",
       "\n",
       "   Eve_calls  Eve_charge  Night_mins  Night_calls  Night_charge  \\\n",
       "0          4          10          12            3            13   \n",
       "\n",
       "   Customer_calls  \n",
       "0               1  "
      ]
     },
     "execution_count": 38,
     "metadata": {},
     "output_type": "execute_result"
    }
   ],
   "source": [
    "rfe_df = pd.DataFrame(rfe.ranking_).T\n",
    "rfe_df.columns = x.columns\n",
    "rfe_df"
   ]
  },
  {
   "cell_type": "code",
   "execution_count": 39,
   "id": "96f4aa33",
   "metadata": {
    "ExecuteTime": {
     "end_time": "2023-03-28T13:36:21.880880Z",
     "start_time": "2023-03-28T13:36:21.849230Z"
    }
   },
   "outputs": [
    {
     "name": "stdout",
     "output_type": "stream",
     "text": [
      "<class 'pandas.core.frame.DataFrame'>\n",
      "RangeIndex: 1 entries, 0 to 0\n",
      "Data columns (total 17 columns):\n",
      " #   Column          Non-Null Count  Dtype\n",
      "---  ------          --------------  -----\n",
      " 0   Account_length  1 non-null      int32\n",
      " 1   Voice_plan      1 non-null      int32\n",
      " 2   Voice_messages  1 non-null      int32\n",
      " 3   Intl_plan       1 non-null      int32\n",
      " 4   Intl_mins       1 non-null      int32\n",
      " 5   Intl_calls      1 non-null      int32\n",
      " 6   Intl_charge     1 non-null      int32\n",
      " 7   Day_mins        1 non-null      int32\n",
      " 8   Day_calls       1 non-null      int32\n",
      " 9   Day_charge      1 non-null      int32\n",
      " 10  Eve_mins        1 non-null      int32\n",
      " 11  Eve_calls       1 non-null      int32\n",
      " 12  Eve_charge      1 non-null      int32\n",
      " 13  Night_mins      1 non-null      int32\n",
      " 14  Night_calls     1 non-null      int32\n",
      " 15  Night_charge    1 non-null      int32\n",
      " 16  Customer_calls  1 non-null      int32\n",
      "dtypes: int32(17)\n",
      "memory usage: 196.0 bytes\n"
     ]
    }
   ],
   "source": [
    "rfe_df.info()"
   ]
  },
  {
   "cell_type": "markdown",
   "id": "ea50f61b",
   "metadata": {},
   "source": [
    "# 3. Tree Based "
   ]
  },
  {
   "cell_type": "code",
   "execution_count": 40,
   "id": "3cd63d99",
   "metadata": {
    "ExecuteTime": {
     "end_time": "2023-03-28T13:36:21.896508Z",
     "start_time": "2023-03-28T13:36:21.880880Z"
    }
   },
   "outputs": [],
   "source": [
    "dt = DecisionTreeClassifier(criterion='entropy')"
   ]
  },
  {
   "cell_type": "code",
   "execution_count": 41,
   "id": "30b7ed69",
   "metadata": {
    "ExecuteTime": {
     "end_time": "2023-03-28T13:36:21.990967Z",
     "start_time": "2023-03-28T13:36:21.896508Z"
    }
   },
   "outputs": [
    {
     "data": {
      "text/plain": [
       "DecisionTreeClassifier(criterion='entropy')"
      ]
     },
     "execution_count": 41,
     "metadata": {},
     "output_type": "execute_result"
    }
   ],
   "source": [
    "dt.fit(x,y)"
   ]
  },
  {
   "cell_type": "code",
   "execution_count": 42,
   "id": "94e6a6bb",
   "metadata": {
    "ExecuteTime": {
     "end_time": "2023-03-28T13:36:22.038460Z",
     "start_time": "2023-03-28T13:36:21.993663Z"
    }
   },
   "outputs": [
    {
     "data": {
      "text/html": [
       "<div>\n",
       "<style scoped>\n",
       "    .dataframe tbody tr th:only-of-type {\n",
       "        vertical-align: middle;\n",
       "    }\n",
       "\n",
       "    .dataframe tbody tr th {\n",
       "        vertical-align: top;\n",
       "    }\n",
       "\n",
       "    .dataframe thead th {\n",
       "        text-align: right;\n",
       "    }\n",
       "</style>\n",
       "<table border=\"1\" class=\"dataframe\">\n",
       "  <thead>\n",
       "    <tr style=\"text-align: right;\">\n",
       "      <th></th>\n",
       "      <th>Account_length</th>\n",
       "      <th>Voice_plan</th>\n",
       "      <th>Voice_messages</th>\n",
       "      <th>Intl_plan</th>\n",
       "      <th>Intl_mins</th>\n",
       "      <th>Intl_calls</th>\n",
       "      <th>Intl_charge</th>\n",
       "      <th>Day_mins</th>\n",
       "      <th>Day_calls</th>\n",
       "      <th>Day_charge</th>\n",
       "      <th>Eve_mins</th>\n",
       "      <th>Eve_calls</th>\n",
       "      <th>Eve_charge</th>\n",
       "      <th>Night_mins</th>\n",
       "      <th>Night_calls</th>\n",
       "      <th>Night_charge</th>\n",
       "      <th>Customer_calls</th>\n",
       "    </tr>\n",
       "  </thead>\n",
       "  <tbody>\n",
       "    <tr>\n",
       "      <th>0</th>\n",
       "      <td>0.028226</td>\n",
       "      <td>0.034866</td>\n",
       "      <td>0.019563</td>\n",
       "      <td>0.092159</td>\n",
       "      <td>0.086831</td>\n",
       "      <td>0.064805</td>\n",
       "      <td>0.010186</td>\n",
       "      <td>0.088371</td>\n",
       "      <td>0.033244</td>\n",
       "      <td>0.152666</td>\n",
       "      <td>0.076006</td>\n",
       "      <td>0.019189</td>\n",
       "      <td>0.07059</td>\n",
       "      <td>0.032201</td>\n",
       "      <td>0.038276</td>\n",
       "      <td>0.044162</td>\n",
       "      <td>0.108659</td>\n",
       "    </tr>\n",
       "  </tbody>\n",
       "</table>\n",
       "</div>"
      ],
      "text/plain": [
       "   Account_length  Voice_plan  Voice_messages  Intl_plan  Intl_mins  \\\n",
       "0        0.028226    0.034866        0.019563   0.092159   0.086831   \n",
       "\n",
       "   Intl_calls  Intl_charge  Day_mins  Day_calls  Day_charge  Eve_mins  \\\n",
       "0    0.064805     0.010186  0.088371   0.033244    0.152666  0.076006   \n",
       "\n",
       "   Eve_calls  Eve_charge  Night_mins  Night_calls  Night_charge  \\\n",
       "0   0.019189     0.07059    0.032201     0.038276      0.044162   \n",
       "\n",
       "   Customer_calls  \n",
       "0        0.108659  "
      ]
     },
     "execution_count": 42,
     "metadata": {},
     "output_type": "execute_result"
    }
   ],
   "source": [
    "dt_df = pd.DataFrame(dt.feature_importances_).T\n",
    "dt_df.columns = x.columns\n",
    "dt_df"
   ]
  },
  {
   "cell_type": "code",
   "execution_count": 43,
   "id": "e0b0ab27",
   "metadata": {
    "ExecuteTime": {
     "end_time": "2023-03-28T13:36:22.070541Z",
     "start_time": "2023-03-28T13:36:22.041442Z"
    },
    "scrolled": true
   },
   "outputs": [
    {
     "name": "stdout",
     "output_type": "stream",
     "text": [
      "<class 'pandas.core.frame.DataFrame'>\n",
      "RangeIndex: 1 entries, 0 to 0\n",
      "Data columns (total 17 columns):\n",
      " #   Column          Non-Null Count  Dtype  \n",
      "---  ------          --------------  -----  \n",
      " 0   Account_length  1 non-null      float64\n",
      " 1   Voice_plan      1 non-null      float64\n",
      " 2   Voice_messages  1 non-null      float64\n",
      " 3   Intl_plan       1 non-null      float64\n",
      " 4   Intl_mins       1 non-null      float64\n",
      " 5   Intl_calls      1 non-null      float64\n",
      " 6   Intl_charge     1 non-null      float64\n",
      " 7   Day_mins        1 non-null      float64\n",
      " 8   Day_calls       1 non-null      float64\n",
      " 9   Day_charge      1 non-null      float64\n",
      " 10  Eve_mins        1 non-null      float64\n",
      " 11  Eve_calls       1 non-null      float64\n",
      " 12  Eve_charge      1 non-null      float64\n",
      " 13  Night_mins      1 non-null      float64\n",
      " 14  Night_calls     1 non-null      float64\n",
      " 15  Night_charge    1 non-null      float64\n",
      " 16  Customer_calls  1 non-null      float64\n",
      "dtypes: float64(17)\n",
      "memory usage: 264.0 bytes\n"
     ]
    }
   ],
   "source": [
    "dt_df.info()"
   ]
  },
  {
   "cell_type": "markdown",
   "id": "746e79dc",
   "metadata": {},
   "source": [
    "- Chi2\n",
    "-  voice_message,intl_plan,day_mins,day_charge,eve_mins,night_mins,customer_calls\n",
    "\n",
    "- RFE\n",
    "- voice_messages,voice_plan,intl_plan,intl_calls,day_mins,customer_calls\n",
    "\n",
    "- Tree\n",
    "- customer_calls,day_mins,intl_plan,intl_charge,day_charge\n",
    "\n",
    "- Common Features\n",
    "- intl_plan, day_mins, customer_calls,voice_message, day_charge,"
   ]
  },
  {
   "cell_type": "code",
   "execution_count": 44,
   "id": "d04c3740",
   "metadata": {
    "ExecuteTime": {
     "end_time": "2023-03-28T13:36:22.086185Z",
     "start_time": "2023-03-28T13:36:22.074043Z"
    }
   },
   "outputs": [],
   "source": [
    "# data after feature selection\n",
    "data1 = x[['Intl_plan','Day_mins','Customer_calls','Voice_messages','Day_charge']]"
   ]
  },
  {
   "cell_type": "code",
   "execution_count": 45,
   "id": "8805bb58",
   "metadata": {
    "ExecuteTime": {
     "end_time": "2023-03-28T13:36:22.149631Z",
     "start_time": "2023-03-28T13:36:22.109140Z"
    },
    "scrolled": true
   },
   "outputs": [
    {
     "data": {
      "text/html": [
       "<div>\n",
       "<style scoped>\n",
       "    .dataframe tbody tr th:only-of-type {\n",
       "        vertical-align: middle;\n",
       "    }\n",
       "\n",
       "    .dataframe tbody tr th {\n",
       "        vertical-align: top;\n",
       "    }\n",
       "\n",
       "    .dataframe thead th {\n",
       "        text-align: right;\n",
       "    }\n",
       "</style>\n",
       "<table border=\"1\" class=\"dataframe\">\n",
       "  <thead>\n",
       "    <tr style=\"text-align: right;\">\n",
       "      <th></th>\n",
       "      <th>Intl_plan</th>\n",
       "      <th>Day_mins</th>\n",
       "      <th>Customer_calls</th>\n",
       "      <th>Voice_messages</th>\n",
       "      <th>Day_charge</th>\n",
       "    </tr>\n",
       "  </thead>\n",
       "  <tbody>\n",
       "    <tr>\n",
       "      <th>0</th>\n",
       "      <td>0.0</td>\n",
       "      <td>265.1</td>\n",
       "      <td>1.0</td>\n",
       "      <td>25</td>\n",
       "      <td>45.07</td>\n",
       "    </tr>\n",
       "    <tr>\n",
       "      <th>1</th>\n",
       "      <td>0.0</td>\n",
       "      <td>161.6</td>\n",
       "      <td>1.0</td>\n",
       "      <td>26</td>\n",
       "      <td>27.47</td>\n",
       "    </tr>\n",
       "    <tr>\n",
       "      <th>2</th>\n",
       "      <td>0.0</td>\n",
       "      <td>243.4</td>\n",
       "      <td>0.0</td>\n",
       "      <td>0</td>\n",
       "      <td>41.38</td>\n",
       "    </tr>\n",
       "    <tr>\n",
       "      <th>3</th>\n",
       "      <td>1.0</td>\n",
       "      <td>299.4</td>\n",
       "      <td>2.0</td>\n",
       "      <td>0</td>\n",
       "      <td>50.90</td>\n",
       "    </tr>\n",
       "    <tr>\n",
       "      <th>4</th>\n",
       "      <td>1.0</td>\n",
       "      <td>166.7</td>\n",
       "      <td>3.0</td>\n",
       "      <td>0</td>\n",
       "      <td>28.34</td>\n",
       "    </tr>\n",
       "    <tr>\n",
       "      <th>...</th>\n",
       "      <td>...</td>\n",
       "      <td>...</td>\n",
       "      <td>...</td>\n",
       "      <td>...</td>\n",
       "      <td>...</td>\n",
       "    </tr>\n",
       "    <tr>\n",
       "      <th>4995</th>\n",
       "      <td>0.0</td>\n",
       "      <td>235.7</td>\n",
       "      <td>2.0</td>\n",
       "      <td>40</td>\n",
       "      <td>40.07</td>\n",
       "    </tr>\n",
       "    <tr>\n",
       "      <th>4996</th>\n",
       "      <td>0.0</td>\n",
       "      <td>184.2</td>\n",
       "      <td>3.0</td>\n",
       "      <td>0</td>\n",
       "      <td>31.31</td>\n",
       "    </tr>\n",
       "    <tr>\n",
       "      <th>4997</th>\n",
       "      <td>0.0</td>\n",
       "      <td>140.6</td>\n",
       "      <td>1.0</td>\n",
       "      <td>0</td>\n",
       "      <td>23.90</td>\n",
       "    </tr>\n",
       "    <tr>\n",
       "      <th>4998</th>\n",
       "      <td>0.0</td>\n",
       "      <td>188.8</td>\n",
       "      <td>0.0</td>\n",
       "      <td>0</td>\n",
       "      <td>32.10</td>\n",
       "    </tr>\n",
       "    <tr>\n",
       "      <th>4999</th>\n",
       "      <td>0.0</td>\n",
       "      <td>129.4</td>\n",
       "      <td>0.0</td>\n",
       "      <td>34</td>\n",
       "      <td>22.00</td>\n",
       "    </tr>\n",
       "  </tbody>\n",
       "</table>\n",
       "<p>4969 rows × 5 columns</p>\n",
       "</div>"
      ],
      "text/plain": [
       "      Intl_plan  Day_mins  Customer_calls  Voice_messages  Day_charge\n",
       "0           0.0     265.1             1.0              25       45.07\n",
       "1           0.0     161.6             1.0              26       27.47\n",
       "2           0.0     243.4             0.0               0       41.38\n",
       "3           1.0     299.4             2.0               0       50.90\n",
       "4           1.0     166.7             3.0               0       28.34\n",
       "...         ...       ...             ...             ...         ...\n",
       "4995        0.0     235.7             2.0              40       40.07\n",
       "4996        0.0     184.2             3.0               0       31.31\n",
       "4997        0.0     140.6             1.0               0       23.90\n",
       "4998        0.0     188.8             0.0               0       32.10\n",
       "4999        0.0     129.4             0.0              34       22.00\n",
       "\n",
       "[4969 rows x 5 columns]"
      ]
     },
     "execution_count": 45,
     "metadata": {},
     "output_type": "execute_result"
    }
   ],
   "source": [
    "data1"
   ]
  },
  {
   "cell_type": "code",
   "execution_count": 46,
   "id": "c9c25c08",
   "metadata": {
    "ExecuteTime": {
     "end_time": "2023-03-28T13:36:22.165418Z",
     "start_time": "2023-03-28T13:36:22.149631Z"
    }
   },
   "outputs": [
    {
     "data": {
      "text/plain": [
       "array([0, 0, 0, ..., 0, 0, 0], dtype=int64)"
      ]
     },
     "execution_count": 46,
     "metadata": {},
     "output_type": "execute_result"
    }
   ],
   "source": [
    "y"
   ]
  },
  {
   "cell_type": "markdown",
   "id": "d66ea4c4",
   "metadata": {},
   "source": [
    "# PPSCORE"
   ]
  },
  {
   "cell_type": "markdown",
   "id": "2f1b8087",
   "metadata": {},
   "source": [
    "ppscore is also one of the method used for feature selection"
   ]
  },
  {
   "cell_type": "code",
   "execution_count": 47,
   "id": "28dd3273",
   "metadata": {
    "ExecuteTime": {
     "end_time": "2023-03-28T13:36:22.181281Z",
     "start_time": "2023-03-28T13:36:22.170052Z"
    }
   },
   "outputs": [],
   "source": [
    "import ppscore as ps"
   ]
  },
  {
   "cell_type": "code",
   "execution_count": 48,
   "id": "3312314f",
   "metadata": {
    "ExecuteTime": {
     "end_time": "2023-03-28T13:36:22.641979Z",
     "start_time": "2023-03-28T13:36:22.184148Z"
    }
   },
   "outputs": [
    {
     "data": {
      "text/html": [
       "<div>\n",
       "<style scoped>\n",
       "    .dataframe tbody tr th:only-of-type {\n",
       "        vertical-align: middle;\n",
       "    }\n",
       "\n",
       "    .dataframe tbody tr th {\n",
       "        vertical-align: top;\n",
       "    }\n",
       "\n",
       "    .dataframe thead th {\n",
       "        text-align: right;\n",
       "    }\n",
       "</style>\n",
       "<table border=\"1\" class=\"dataframe\">\n",
       "  <thead>\n",
       "    <tr style=\"text-align: right;\">\n",
       "      <th></th>\n",
       "      <th>x</th>\n",
       "      <th>y</th>\n",
       "      <th>ppscore</th>\n",
       "      <th>case</th>\n",
       "      <th>is_valid_score</th>\n",
       "      <th>metric</th>\n",
       "      <th>baseline_score</th>\n",
       "      <th>model_score</th>\n",
       "      <th>model</th>\n",
       "    </tr>\n",
       "  </thead>\n",
       "  <tbody>\n",
       "    <tr>\n",
       "      <th>0</th>\n",
       "      <td>Intl_plan</td>\n",
       "      <td>Intl_plan</td>\n",
       "      <td>1.000000</td>\n",
       "      <td>predict_itself</td>\n",
       "      <td>True</td>\n",
       "      <td>None</td>\n",
       "      <td>0.000000</td>\n",
       "      <td>1.000000</td>\n",
       "      <td>None</td>\n",
       "    </tr>\n",
       "    <tr>\n",
       "      <th>1</th>\n",
       "      <td>Intl_plan</td>\n",
       "      <td>Day_mins</td>\n",
       "      <td>0.000000</td>\n",
       "      <td>regression</td>\n",
       "      <td>True</td>\n",
       "      <td>mean absolute error</td>\n",
       "      <td>42.925538</td>\n",
       "      <td>42.936180</td>\n",
       "      <td>DecisionTreeRegressor()</td>\n",
       "    </tr>\n",
       "    <tr>\n",
       "      <th>2</th>\n",
       "      <td>Intl_plan</td>\n",
       "      <td>Customer_calls</td>\n",
       "      <td>0.000000</td>\n",
       "      <td>regression</td>\n",
       "      <td>True</td>\n",
       "      <td>mean absolute error</td>\n",
       "      <td>0.896357</td>\n",
       "      <td>0.956344</td>\n",
       "      <td>DecisionTreeRegressor()</td>\n",
       "    </tr>\n",
       "    <tr>\n",
       "      <th>3</th>\n",
       "      <td>Intl_plan</td>\n",
       "      <td>Voice_messages</td>\n",
       "      <td>0.000000</td>\n",
       "      <td>regression</td>\n",
       "      <td>True</td>\n",
       "      <td>mean absolute error</td>\n",
       "      <td>7.754880</td>\n",
       "      <td>11.413030</td>\n",
       "      <td>DecisionTreeRegressor()</td>\n",
       "    </tr>\n",
       "    <tr>\n",
       "      <th>4</th>\n",
       "      <td>Intl_plan</td>\n",
       "      <td>Day_charge</td>\n",
       "      <td>0.000000</td>\n",
       "      <td>regression</td>\n",
       "      <td>True</td>\n",
       "      <td>mean absolute error</td>\n",
       "      <td>7.297199</td>\n",
       "      <td>7.299010</td>\n",
       "      <td>DecisionTreeRegressor()</td>\n",
       "    </tr>\n",
       "    <tr>\n",
       "      <th>5</th>\n",
       "      <td>Day_mins</td>\n",
       "      <td>Intl_plan</td>\n",
       "      <td>0.000000</td>\n",
       "      <td>regression</td>\n",
       "      <td>True</td>\n",
       "      <td>mean absolute error</td>\n",
       "      <td>0.094586</td>\n",
       "      <td>0.174617</td>\n",
       "      <td>DecisionTreeRegressor()</td>\n",
       "    </tr>\n",
       "    <tr>\n",
       "      <th>6</th>\n",
       "      <td>Day_mins</td>\n",
       "      <td>Day_mins</td>\n",
       "      <td>1.000000</td>\n",
       "      <td>predict_itself</td>\n",
       "      <td>True</td>\n",
       "      <td>None</td>\n",
       "      <td>0.000000</td>\n",
       "      <td>1.000000</td>\n",
       "      <td>None</td>\n",
       "    </tr>\n",
       "    <tr>\n",
       "      <th>7</th>\n",
       "      <td>Day_mins</td>\n",
       "      <td>Customer_calls</td>\n",
       "      <td>0.000000</td>\n",
       "      <td>regression</td>\n",
       "      <td>True</td>\n",
       "      <td>mean absolute error</td>\n",
       "      <td>0.896357</td>\n",
       "      <td>1.114200</td>\n",
       "      <td>DecisionTreeRegressor()</td>\n",
       "    </tr>\n",
       "    <tr>\n",
       "      <th>8</th>\n",
       "      <td>Day_mins</td>\n",
       "      <td>Voice_messages</td>\n",
       "      <td>0.000000</td>\n",
       "      <td>regression</td>\n",
       "      <td>True</td>\n",
       "      <td>mean absolute error</td>\n",
       "      <td>7.754880</td>\n",
       "      <td>11.754907</td>\n",
       "      <td>DecisionTreeRegressor()</td>\n",
       "    </tr>\n",
       "    <tr>\n",
       "      <th>9</th>\n",
       "      <td>Day_mins</td>\n",
       "      <td>Day_charge</td>\n",
       "      <td>0.999350</td>\n",
       "      <td>regression</td>\n",
       "      <td>True</td>\n",
       "      <td>mean absolute error</td>\n",
       "      <td>7.297199</td>\n",
       "      <td>0.004746</td>\n",
       "      <td>DecisionTreeRegressor()</td>\n",
       "    </tr>\n",
       "    <tr>\n",
       "      <th>10</th>\n",
       "      <td>Customer_calls</td>\n",
       "      <td>Intl_plan</td>\n",
       "      <td>0.000000</td>\n",
       "      <td>regression</td>\n",
       "      <td>True</td>\n",
       "      <td>mean absolute error</td>\n",
       "      <td>0.094586</td>\n",
       "      <td>0.171216</td>\n",
       "      <td>DecisionTreeRegressor()</td>\n",
       "    </tr>\n",
       "    <tr>\n",
       "      <th>11</th>\n",
       "      <td>Customer_calls</td>\n",
       "      <td>Day_mins</td>\n",
       "      <td>0.000000</td>\n",
       "      <td>regression</td>\n",
       "      <td>True</td>\n",
       "      <td>mean absolute error</td>\n",
       "      <td>42.925538</td>\n",
       "      <td>42.963640</td>\n",
       "      <td>DecisionTreeRegressor()</td>\n",
       "    </tr>\n",
       "    <tr>\n",
       "      <th>12</th>\n",
       "      <td>Customer_calls</td>\n",
       "      <td>Customer_calls</td>\n",
       "      <td>1.000000</td>\n",
       "      <td>predict_itself</td>\n",
       "      <td>True</td>\n",
       "      <td>None</td>\n",
       "      <td>0.000000</td>\n",
       "      <td>1.000000</td>\n",
       "      <td>None</td>\n",
       "    </tr>\n",
       "    <tr>\n",
       "      <th>13</th>\n",
       "      <td>Customer_calls</td>\n",
       "      <td>Voice_messages</td>\n",
       "      <td>0.000000</td>\n",
       "      <td>regression</td>\n",
       "      <td>True</td>\n",
       "      <td>mean absolute error</td>\n",
       "      <td>7.754880</td>\n",
       "      <td>11.410834</td>\n",
       "      <td>DecisionTreeRegressor()</td>\n",
       "    </tr>\n",
       "    <tr>\n",
       "      <th>14</th>\n",
       "      <td>Customer_calls</td>\n",
       "      <td>Day_charge</td>\n",
       "      <td>0.000000</td>\n",
       "      <td>regression</td>\n",
       "      <td>True</td>\n",
       "      <td>mean absolute error</td>\n",
       "      <td>7.297199</td>\n",
       "      <td>7.303664</td>\n",
       "      <td>DecisionTreeRegressor()</td>\n",
       "    </tr>\n",
       "    <tr>\n",
       "      <th>15</th>\n",
       "      <td>Voice_messages</td>\n",
       "      <td>Intl_plan</td>\n",
       "      <td>0.000000</td>\n",
       "      <td>regression</td>\n",
       "      <td>True</td>\n",
       "      <td>mean absolute error</td>\n",
       "      <td>0.094586</td>\n",
       "      <td>0.171605</td>\n",
       "      <td>DecisionTreeRegressor()</td>\n",
       "    </tr>\n",
       "    <tr>\n",
       "      <th>16</th>\n",
       "      <td>Voice_messages</td>\n",
       "      <td>Day_mins</td>\n",
       "      <td>0.000000</td>\n",
       "      <td>regression</td>\n",
       "      <td>True</td>\n",
       "      <td>mean absolute error</td>\n",
       "      <td>42.925538</td>\n",
       "      <td>43.136361</td>\n",
       "      <td>DecisionTreeRegressor()</td>\n",
       "    </tr>\n",
       "    <tr>\n",
       "      <th>17</th>\n",
       "      <td>Voice_messages</td>\n",
       "      <td>Customer_calls</td>\n",
       "      <td>0.000000</td>\n",
       "      <td>regression</td>\n",
       "      <td>True</td>\n",
       "      <td>mean absolute error</td>\n",
       "      <td>0.896357</td>\n",
       "      <td>0.958760</td>\n",
       "      <td>DecisionTreeRegressor()</td>\n",
       "    </tr>\n",
       "    <tr>\n",
       "      <th>18</th>\n",
       "      <td>Voice_messages</td>\n",
       "      <td>Voice_messages</td>\n",
       "      <td>1.000000</td>\n",
       "      <td>predict_itself</td>\n",
       "      <td>True</td>\n",
       "      <td>None</td>\n",
       "      <td>0.000000</td>\n",
       "      <td>1.000000</td>\n",
       "      <td>None</td>\n",
       "    </tr>\n",
       "    <tr>\n",
       "      <th>19</th>\n",
       "      <td>Voice_messages</td>\n",
       "      <td>Day_charge</td>\n",
       "      <td>0.000000</td>\n",
       "      <td>regression</td>\n",
       "      <td>True</td>\n",
       "      <td>mean absolute error</td>\n",
       "      <td>7.297199</td>\n",
       "      <td>7.333029</td>\n",
       "      <td>DecisionTreeRegressor()</td>\n",
       "    </tr>\n",
       "    <tr>\n",
       "      <th>20</th>\n",
       "      <td>Day_charge</td>\n",
       "      <td>Intl_plan</td>\n",
       "      <td>0.000000</td>\n",
       "      <td>regression</td>\n",
       "      <td>True</td>\n",
       "      <td>mean absolute error</td>\n",
       "      <td>0.094586</td>\n",
       "      <td>0.174678</td>\n",
       "      <td>DecisionTreeRegressor()</td>\n",
       "    </tr>\n",
       "    <tr>\n",
       "      <th>21</th>\n",
       "      <td>Day_charge</td>\n",
       "      <td>Day_mins</td>\n",
       "      <td>0.999343</td>\n",
       "      <td>regression</td>\n",
       "      <td>True</td>\n",
       "      <td>mean absolute error</td>\n",
       "      <td>42.925538</td>\n",
       "      <td>0.028196</td>\n",
       "      <td>DecisionTreeRegressor()</td>\n",
       "    </tr>\n",
       "    <tr>\n",
       "      <th>22</th>\n",
       "      <td>Day_charge</td>\n",
       "      <td>Customer_calls</td>\n",
       "      <td>0.000000</td>\n",
       "      <td>regression</td>\n",
       "      <td>True</td>\n",
       "      <td>mean absolute error</td>\n",
       "      <td>0.896357</td>\n",
       "      <td>1.115074</td>\n",
       "      <td>DecisionTreeRegressor()</td>\n",
       "    </tr>\n",
       "    <tr>\n",
       "      <th>23</th>\n",
       "      <td>Day_charge</td>\n",
       "      <td>Voice_messages</td>\n",
       "      <td>0.000000</td>\n",
       "      <td>regression</td>\n",
       "      <td>True</td>\n",
       "      <td>mean absolute error</td>\n",
       "      <td>7.754880</td>\n",
       "      <td>11.703662</td>\n",
       "      <td>DecisionTreeRegressor()</td>\n",
       "    </tr>\n",
       "    <tr>\n",
       "      <th>24</th>\n",
       "      <td>Day_charge</td>\n",
       "      <td>Day_charge</td>\n",
       "      <td>1.000000</td>\n",
       "      <td>predict_itself</td>\n",
       "      <td>True</td>\n",
       "      <td>None</td>\n",
       "      <td>0.000000</td>\n",
       "      <td>1.000000</td>\n",
       "      <td>None</td>\n",
       "    </tr>\n",
       "  </tbody>\n",
       "</table>\n",
       "</div>"
      ],
      "text/plain": [
       "                 x               y   ppscore            case  is_valid_score  \\\n",
       "0        Intl_plan       Intl_plan  1.000000  predict_itself            True   \n",
       "1        Intl_plan        Day_mins  0.000000      regression            True   \n",
       "2        Intl_plan  Customer_calls  0.000000      regression            True   \n",
       "3        Intl_plan  Voice_messages  0.000000      regression            True   \n",
       "4        Intl_plan      Day_charge  0.000000      regression            True   \n",
       "5         Day_mins       Intl_plan  0.000000      regression            True   \n",
       "6         Day_mins        Day_mins  1.000000  predict_itself            True   \n",
       "7         Day_mins  Customer_calls  0.000000      regression            True   \n",
       "8         Day_mins  Voice_messages  0.000000      regression            True   \n",
       "9         Day_mins      Day_charge  0.999350      regression            True   \n",
       "10  Customer_calls       Intl_plan  0.000000      regression            True   \n",
       "11  Customer_calls        Day_mins  0.000000      regression            True   \n",
       "12  Customer_calls  Customer_calls  1.000000  predict_itself            True   \n",
       "13  Customer_calls  Voice_messages  0.000000      regression            True   \n",
       "14  Customer_calls      Day_charge  0.000000      regression            True   \n",
       "15  Voice_messages       Intl_plan  0.000000      regression            True   \n",
       "16  Voice_messages        Day_mins  0.000000      regression            True   \n",
       "17  Voice_messages  Customer_calls  0.000000      regression            True   \n",
       "18  Voice_messages  Voice_messages  1.000000  predict_itself            True   \n",
       "19  Voice_messages      Day_charge  0.000000      regression            True   \n",
       "20      Day_charge       Intl_plan  0.000000      regression            True   \n",
       "21      Day_charge        Day_mins  0.999343      regression            True   \n",
       "22      Day_charge  Customer_calls  0.000000      regression            True   \n",
       "23      Day_charge  Voice_messages  0.000000      regression            True   \n",
       "24      Day_charge      Day_charge  1.000000  predict_itself            True   \n",
       "\n",
       "                 metric  baseline_score  model_score                    model  \n",
       "0                  None        0.000000     1.000000                     None  \n",
       "1   mean absolute error       42.925538    42.936180  DecisionTreeRegressor()  \n",
       "2   mean absolute error        0.896357     0.956344  DecisionTreeRegressor()  \n",
       "3   mean absolute error        7.754880    11.413030  DecisionTreeRegressor()  \n",
       "4   mean absolute error        7.297199     7.299010  DecisionTreeRegressor()  \n",
       "5   mean absolute error        0.094586     0.174617  DecisionTreeRegressor()  \n",
       "6                  None        0.000000     1.000000                     None  \n",
       "7   mean absolute error        0.896357     1.114200  DecisionTreeRegressor()  \n",
       "8   mean absolute error        7.754880    11.754907  DecisionTreeRegressor()  \n",
       "9   mean absolute error        7.297199     0.004746  DecisionTreeRegressor()  \n",
       "10  mean absolute error        0.094586     0.171216  DecisionTreeRegressor()  \n",
       "11  mean absolute error       42.925538    42.963640  DecisionTreeRegressor()  \n",
       "12                 None        0.000000     1.000000                     None  \n",
       "13  mean absolute error        7.754880    11.410834  DecisionTreeRegressor()  \n",
       "14  mean absolute error        7.297199     7.303664  DecisionTreeRegressor()  \n",
       "15  mean absolute error        0.094586     0.171605  DecisionTreeRegressor()  \n",
       "16  mean absolute error       42.925538    43.136361  DecisionTreeRegressor()  \n",
       "17  mean absolute error        0.896357     0.958760  DecisionTreeRegressor()  \n",
       "18                 None        0.000000     1.000000                     None  \n",
       "19  mean absolute error        7.297199     7.333029  DecisionTreeRegressor()  \n",
       "20  mean absolute error        0.094586     0.174678  DecisionTreeRegressor()  \n",
       "21  mean absolute error       42.925538     0.028196  DecisionTreeRegressor()  \n",
       "22  mean absolute error        0.896357     1.115074  DecisionTreeRegressor()  \n",
       "23  mean absolute error        7.754880    11.703662  DecisionTreeRegressor()  \n",
       "24                 None        0.000000     1.000000                     None  "
      ]
     },
     "execution_count": 48,
     "metadata": {},
     "output_type": "execute_result"
    }
   ],
   "source": [
    "ps.matrix(data1)"
   ]
  },
  {
   "cell_type": "markdown",
   "id": "7caaaab1",
   "metadata": {},
   "source": [
    "# Feature Scaling"
   ]
  },
  {
   "cell_type": "code",
   "execution_count": 49,
   "id": "49a7d8cc",
   "metadata": {
    "ExecuteTime": {
     "end_time": "2023-03-28T13:36:22.657940Z",
     "start_time": "2023-03-28T13:36:22.647494Z"
    }
   },
   "outputs": [],
   "source": [
    "#Feature scaling (it is use when we calculate distance )\n",
    "from sklearn.preprocessing import StandardScaler\n",
    "\n",
    "sc = StandardScaler()"
   ]
  },
  {
   "cell_type": "code",
   "execution_count": 50,
   "id": "9b804bc1",
   "metadata": {
    "ExecuteTime": {
     "end_time": "2023-03-28T13:36:22.673934Z",
     "start_time": "2023-03-28T13:36:22.657940Z"
    }
   },
   "outputs": [],
   "source": [
    "data2 = data1.copy() "
   ]
  },
  {
   "cell_type": "code",
   "execution_count": 51,
   "id": "2abe461a",
   "metadata": {
    "ExecuteTime": {
     "end_time": "2023-03-28T13:36:22.705615Z",
     "start_time": "2023-03-28T13:36:22.677513Z"
    }
   },
   "outputs": [
    {
     "data": {
      "text/plain": [
       "array([[-0.32321457,  1.58012091, -0.44042803,  1.27323117,  1.58043319],\n",
       "       [-0.32321457, -0.34924089, -0.44042803,  1.34706256, -0.34952835],\n",
       "       [-0.32321457,  1.17560737, -1.3440147 , -0.57255359,  1.17579921],\n",
       "       ...,\n",
       "       [-0.32321457, -0.7407056 , -0.44042803, -0.57255359, -0.74100351],\n",
       "       [-0.32321457,  0.15779912, -1.3440147 , -0.57255359,  0.15818312],\n",
       "       [-0.32321457, -0.94948678, -1.3440147 ,  1.93771369, -0.94935163]])"
      ]
     },
     "execution_count": 51,
     "metadata": {},
     "output_type": "execute_result"
    }
   ],
   "source": [
    "data1 = sc.fit_transform(data1)\n",
    "data1"
   ]
  },
  {
   "cell_type": "markdown",
   "id": "ba119469",
   "metadata": {},
   "source": [
    "# Model Building"
   ]
  },
  {
   "cell_type": "code",
   "execution_count": 52,
   "id": "b2f051b4",
   "metadata": {
    "ExecuteTime": {
     "end_time": "2023-03-28T13:36:22.721279Z",
     "start_time": "2023-03-28T13:36:22.708828Z"
    }
   },
   "outputs": [],
   "source": [
    "# splitting data for model building\n",
    "x = data1\n",
    "y = data['Churn']"
   ]
  },
  {
   "cell_type": "code",
   "execution_count": 53,
   "id": "3e60a927",
   "metadata": {
    "ExecuteTime": {
     "end_time": "2023-03-28T13:36:22.753180Z",
     "start_time": "2023-03-28T13:36:22.724195Z"
    }
   },
   "outputs": [],
   "source": [
    "# Libraries for model building\n",
    "from sklearn.linear_model import LogisticRegression\n",
    "from sklearn.neighbors import KNeighborsClassifier\n",
    "from sklearn.svm import SVC\n",
    "from sklearn.tree import DecisionTreeClassifier\n",
    "from sklearn.model_selection import train_test_split, KFold, cross_val_score,GridSearchCV\n",
    "from sklearn.metrics import classification_report,confusion_matrix\n",
    "from sklearn.ensemble import AdaBoostClassifier, GradientBoostingClassifier, RandomForestClassifier, IsolationForest\n",
    "from sklearn.compose import ColumnTransformer\n",
    "from sklearn.impute import SimpleImputer\n",
    "from sklearn.ensemble import ExtraTreesClassifier\n",
    "from sklearn.naive_bayes import MultinomialNB\n"
   ]
  },
  {
   "cell_type": "code",
   "execution_count": 54,
   "id": "48a7116a",
   "metadata": {
    "ExecuteTime": {
     "end_time": "2023-03-28T13:36:22.769142Z",
     "start_time": "2023-03-28T13:36:22.754277Z"
    }
   },
   "outputs": [],
   "source": [
    "xtrain,xtest,ytrain,ytest = train_test_split(x,y,test_size=0.2,random_state=1)"
   ]
  },
  {
   "cell_type": "code",
   "execution_count": 55,
   "id": "f971d7b3",
   "metadata": {
    "ExecuteTime": {
     "end_time": "2023-03-28T13:36:26.146780Z",
     "start_time": "2023-03-28T13:36:22.772941Z"
    }
   },
   "outputs": [
    {
     "name": "stdout",
     "output_type": "stream",
     "text": [
      "Model: LR Accuracy:0.8633862005240307\n",
      "Model: KNN Accuracy:0.884025290178854\n",
      "Model: SVC Accuracy:0.8953387846031162\n",
      "Model: CART Accuracy:0.8641551586648608\n"
     ]
    }
   ],
   "source": [
    "# Test options and evaluation metric\n",
    "#num_folds = 10\n",
    "seed = 7\n",
    "scoring = 'accuracy'\n",
    "\n",
    "# Check which algorithm is best Algorithms\n",
    "\n",
    "models = []\n",
    "\n",
    "models.append(('LR', LogisticRegression()))\n",
    "models.append(('KNN', KNeighborsClassifier()))\n",
    "models.append(('SVC', SVC()))\n",
    "models.append(('CART', DecisionTreeClassifier()))\n",
    "\n",
    "              \n",
    "results = []\n",
    "\n",
    "for name, model in models:\n",
    "    kfold = KFold(n_splits=10)\n",
    "    cv = cross_val_score(model, xtrain, ytrain,cv=kfold,scoring='accuracy')\n",
    "    #results.append(cv)\n",
    "    print(f'Model: {name} Accuracy:{cv.mean()}')"
   ]
  },
  {
   "cell_type": "code",
   "execution_count": 56,
   "id": "2c3b76de",
   "metadata": {
    "ExecuteTime": {
     "end_time": "2023-03-28T13:36:26.162846Z",
     "start_time": "2023-03-28T13:36:26.150918Z"
    }
   },
   "outputs": [],
   "source": [
    "from sklearn.pipeline import Pipeline"
   ]
  },
  {
   "cell_type": "markdown",
   "id": "5999894f",
   "metadata": {},
   "source": [
    "- Ensemble Technique"
   ]
  },
  {
   "cell_type": "code",
   "execution_count": 57,
   "id": "34f4fdd3",
   "metadata": {
    "ExecuteTime": {
     "end_time": "2023-03-28T13:36:43.468000Z",
     "start_time": "2023-03-28T13:36:26.166459Z"
    }
   },
   "outputs": [
    {
     "name": "stdout",
     "output_type": "stream",
     "text": [
      "AB: 0.879744 (0.015330)\n",
      "GBM: 0.902390 (0.014184)\n",
      "RF: 0.882266 (0.015325)\n",
      "ET: 0.867678 (0.013747)\n"
     ]
    }
   ],
   "source": [
    "num_folds = 10\n",
    "# ensembles\n",
    "ensembles = []\n",
    "\n",
    "ensembles.append(('AB', AdaBoostClassifier()))\n",
    "ensembles.append(('GBM', GradientBoostingClassifier()))\n",
    "ensembles.append(('RF', RandomForestClassifier()))\n",
    "ensembles.append(('ET', ExtraTreesClassifier()))\n",
    "\n",
    "results = []\n",
    "names = []\n",
    "\n",
    "for name, model in ensembles:\n",
    "    kfold = KFold(n_splits=num_folds, random_state=None)\n",
    "    cv_results = cross_val_score(model,\n",
    "                                 xtrain,\n",
    "                                 ytrain,\n",
    "                                 cv=kfold,\n",
    "                                 scoring=scoring)\n",
    "    results.append(cv_results)\n",
    "    names.append(name)\n",
    "    msg = \"%s: %f (%f)\" % (name, cv_results.mean(), cv_results.std())\n",
    "    print(msg)"
   ]
  },
  {
   "cell_type": "code",
   "execution_count": 58,
   "id": "475dde87",
   "metadata": {
    "ExecuteTime": {
     "end_time": "2023-03-28T13:36:43.483851Z",
     "start_time": "2023-03-28T13:36:43.470806Z"
    }
   },
   "outputs": [],
   "source": [
    "# using this function to build models\n",
    "def predict(model):\n",
    "    model = model.fit(xtrain,ytrain)\n",
    "    ypred = model.predict(xtest)\n",
    "    \n",
    "    print(classification_report(ytest,ypred))\n",
    "    print(model.score(xtrain,ytrain))\n",
    "    print(model.score(xtest,ytest))"
   ]
  },
  {
   "cell_type": "markdown",
   "id": "a54d9c91",
   "metadata": {},
   "source": [
    "# Gradient Boosting"
   ]
  },
  {
   "cell_type": "code",
   "execution_count": 59,
   "id": "47cd7a18",
   "metadata": {
    "ExecuteTime": {
     "end_time": "2023-03-28T13:36:44.038389Z",
     "start_time": "2023-03-28T13:36:43.489039Z"
    },
    "scrolled": true
   },
   "outputs": [
    {
     "name": "stdout",
     "output_type": "stream",
     "text": [
      "              precision    recall  f1-score   support\n",
      "\n",
      "           0       0.90      0.97      0.94       841\n",
      "           1       0.74      0.44      0.55       153\n",
      "\n",
      "    accuracy                           0.89       994\n",
      "   macro avg       0.82      0.71      0.74       994\n",
      "weighted avg       0.88      0.89      0.88       994\n",
      "\n",
      "0.9210062893081761\n",
      "0.8903420523138833\n"
     ]
    }
   ],
   "source": [
    "predict(GradientBoostingClassifier())"
   ]
  },
  {
   "cell_type": "markdown",
   "id": "c3b43a04",
   "metadata": {},
   "source": [
    "# Random Forest"
   ]
  },
  {
   "cell_type": "code",
   "execution_count": 60,
   "id": "1af438a4",
   "metadata": {
    "ExecuteTime": {
     "end_time": "2023-03-28T13:36:44.722508Z",
     "start_time": "2023-03-28T13:36:44.042241Z"
    },
    "scrolled": true
   },
   "outputs": [
    {
     "name": "stdout",
     "output_type": "stream",
     "text": [
      "              precision    recall  f1-score   support\n",
      "\n",
      "           0       0.90      0.95      0.93       841\n",
      "           1       0.61      0.44      0.51       153\n",
      "\n",
      "    accuracy                           0.87       994\n",
      "   macro avg       0.76      0.70      0.72       994\n",
      "weighted avg       0.86      0.87      0.86       994\n",
      "\n",
      "0.9894339622641509\n",
      "0.8702213279678068\n"
     ]
    }
   ],
   "source": [
    "predict(RandomForestClassifier())"
   ]
  },
  {
   "cell_type": "markdown",
   "id": "078a4866",
   "metadata": {},
   "source": [
    " - Dataset is imbalanced, we need to oversampling the dataset"
   ]
  },
  {
   "cell_type": "markdown",
   "id": "51d7ed1b",
   "metadata": {},
   "source": [
    "# OverSampling"
   ]
  },
  {
   "cell_type": "code",
   "execution_count": 61,
   "id": "55fc7d31",
   "metadata": {
    "ExecuteTime": {
     "end_time": "2023-03-28T13:36:44.738291Z",
     "start_time": "2023-03-28T13:36:44.722508Z"
    }
   },
   "outputs": [],
   "source": [
    "#pip install imblearn"
   ]
  },
  {
   "cell_type": "code",
   "execution_count": 62,
   "id": "d22818fb",
   "metadata": {
    "ExecuteTime": {
     "end_time": "2023-03-28T13:36:44.881694Z",
     "start_time": "2023-03-28T13:36:44.742040Z"
    }
   },
   "outputs": [],
   "source": [
    "from imblearn.over_sampling import RandomOverSampler"
   ]
  },
  {
   "cell_type": "code",
   "execution_count": 63,
   "id": "11a94560",
   "metadata": {
    "ExecuteTime": {
     "end_time": "2023-03-28T13:36:44.896831Z",
     "start_time": "2023-03-28T13:36:44.883757Z"
    }
   },
   "outputs": [],
   "source": [
    "ros = RandomOverSampler(random_state=1)\n",
    "\n",
    "x_re, y_re = ros.fit_resample(x,y)"
   ]
  },
  {
   "cell_type": "code",
   "execution_count": 64,
   "id": "ab7b2080",
   "metadata": {
    "ExecuteTime": {
     "end_time": "2023-03-28T13:36:44.913532Z",
     "start_time": "2023-03-28T13:36:44.901138Z"
    }
   },
   "outputs": [
    {
     "data": {
      "text/plain": [
       "((8528, 5), (8528,))"
      ]
     },
     "execution_count": 64,
     "metadata": {},
     "output_type": "execute_result"
    }
   ],
   "source": [
    "x_re.shape, y_re.shape"
   ]
  },
  {
   "cell_type": "code",
   "execution_count": 65,
   "id": "3a92abe9",
   "metadata": {
    "ExecuteTime": {
     "end_time": "2023-03-28T13:36:44.929513Z",
     "start_time": "2023-03-28T13:36:44.918443Z"
    }
   },
   "outputs": [
    {
     "data": {
      "text/plain": [
       "array([[-0.32321457,  1.58012091, -0.44042803,  1.27323117,  1.58043319],\n",
       "       [-0.32321457, -0.34924089, -0.44042803,  1.34706256, -0.34952835],\n",
       "       [-0.32321457,  1.17560737, -1.3440147 , -0.57255359,  1.17579921],\n",
       "       ...,\n",
       "       [ 3.09391991,  0.75245266, -0.44042803,  1.56855673,  0.75252355],\n",
       "       [-0.32321457, -0.10131324, -0.44042803,  1.8638823 , -0.10170375],\n",
       "       [-0.32321457, -0.68478207,  1.3667453 , -0.57255359, -0.68507849]])"
      ]
     },
     "execution_count": 65,
     "metadata": {},
     "output_type": "execute_result"
    }
   ],
   "source": [
    "x_re"
   ]
  },
  {
   "cell_type": "code",
   "execution_count": 66,
   "id": "453c62c6",
   "metadata": {
    "ExecuteTime": {
     "end_time": "2023-03-28T13:36:44.960865Z",
     "start_time": "2023-03-28T13:36:44.937236Z"
    }
   },
   "outputs": [
    {
     "data": {
      "text/plain": [
       "0       0\n",
       "1       0\n",
       "2       0\n",
       "3       0\n",
       "4       0\n",
       "       ..\n",
       "8523    1\n",
       "8524    1\n",
       "8525    1\n",
       "8526    1\n",
       "8527    1\n",
       "Name: Churn, Length: 8528, dtype: int64"
      ]
     },
     "execution_count": 66,
     "metadata": {},
     "output_type": "execute_result"
    }
   ],
   "source": [
    "y_re"
   ]
  },
  {
   "cell_type": "markdown",
   "id": "dcd711d1",
   "metadata": {},
   "source": [
    "# Final Model Building"
   ]
  },
  {
   "cell_type": "code",
   "execution_count": 67,
   "id": "42aa8251",
   "metadata": {
    "ExecuteTime": {
     "end_time": "2023-03-28T13:36:44.991965Z",
     "start_time": "2023-03-28T13:36:44.964300Z"
    }
   },
   "outputs": [],
   "source": [
    "xtrain,xtest,ytrain,ytest = train_test_split(x_re,y_re,test_size=0.2,random_state=1)"
   ]
  },
  {
   "cell_type": "code",
   "execution_count": 68,
   "id": "2dfb134d",
   "metadata": {
    "ExecuteTime": {
     "end_time": "2023-03-28T13:37:14.981667Z",
     "start_time": "2023-03-28T13:36:44.998156Z"
    }
   },
   "outputs": [
    {
     "name": "stdout",
     "output_type": "stream",
     "text": [
      "Model: LR Accuracy:0.7261810710896811\n",
      "Model: KNN Accuracy:0.8752551491393413\n",
      "Model: SVC Accuracy:0.8308405215905333\n",
      "Model: CART Accuracy:0.9412205939811853\n"
     ]
    }
   ],
   "source": [
    "# Test options and evaluation metric\n",
    "#num_folds = 10\n",
    "seed = 7\n",
    "scoring = 'accuracy'\n",
    "\n",
    "# Check which algorithm is best Algorithms\n",
    "\n",
    "models = []\n",
    "\n",
    "models.append(('LR', LogisticRegression()))\n",
    "models.append(('KNN', KNeighborsClassifier()))\n",
    "models.append(('SVC', SVC()))\n",
    "models.append(('CART', DecisionTreeClassifier()))\n",
    "\n",
    "              \n",
    "results = []\n",
    "\n",
    "for name, model in models:\n",
    "    kfold = KFold(n_splits=10)\n",
    "    cv = cross_val_score(model, xtrain, ytrain,cv=kfold,scoring='accuracy')\n",
    "    #results.append(cv)\n",
    "    print(f'Model: {name} Accuracy:{cv.mean()}')"
   ]
  },
  {
   "cell_type": "code",
   "execution_count": 69,
   "id": "2c7213c5",
   "metadata": {
    "ExecuteTime": {
     "end_time": "2023-03-28T13:37:38.243290Z",
     "start_time": "2023-03-28T13:37:14.984345Z"
    }
   },
   "outputs": [
    {
     "name": "stdout",
     "output_type": "stream",
     "text": [
      "AB: 0.820580 (0.019580)\n",
      "GBM: 0.846233 (0.015446)\n",
      "RF: 0.940488 (0.009362)\n"
     ]
    }
   ],
   "source": [
    "num_folds = 10\n",
    "# ensembles\n",
    "ensembles = []\n",
    "\n",
    "ensembles.append(('AB', AdaBoostClassifier()))\n",
    "ensembles.append(('GBM', GradientBoostingClassifier()))\n",
    "ensembles.append(('RF', RandomForestClassifier()))\n",
    "#ensembles.append(('ET', ExtraTreesClassifier()))\n",
    "\n",
    "results = []\n",
    "names = []\n",
    "\n",
    "for name, model in ensembles:\n",
    "    kfold = KFold(n_splits=num_folds, random_state=None)\n",
    "    cv_results = cross_val_score(model,\n",
    "                                 xtrain,\n",
    "                                 ytrain,\n",
    "                                 cv=kfold,\n",
    "                                 scoring=scoring)\n",
    "    results.append(cv_results)\n",
    "    names.append(name)\n",
    "    msg = \"%s: %f (%f)\" % (name, cv_results.mean(), cv_results.std())\n",
    "    print(msg)"
   ]
  },
  {
   "cell_type": "markdown",
   "id": "44d4f84e",
   "metadata": {},
   "source": [
    "Random Forest is generalized model(having highest accuracy), so use it more evaluation"
   ]
  },
  {
   "cell_type": "markdown",
   "id": "8d87473c",
   "metadata": {},
   "source": [
    "# Random Forest"
   ]
  },
  {
   "cell_type": "code",
   "execution_count": 70,
   "id": "a770f5d9",
   "metadata": {
    "ExecuteTime": {
     "end_time": "2023-03-28T13:37:38.259182Z",
     "start_time": "2023-03-28T13:37:38.244478Z"
    }
   },
   "outputs": [],
   "source": [
    "# using this function to build models\n",
    "def predict(model):\n",
    "    model = model.fit(xtrain,ytrain)\n",
    "    ypred = model.predict(xtest)\n",
    "    \n",
    "    print(classification_report(ytest,ypred))\n",
    "    print(model.score(xtrain,ytrain))\n",
    "    print(model.score(xtest,ytest))"
   ]
  },
  {
   "cell_type": "code",
   "execution_count": 71,
   "id": "bb08408c",
   "metadata": {
    "ExecuteTime": {
     "end_time": "2023-03-28T13:37:40.324438Z",
     "start_time": "2023-03-28T13:37:38.263015Z"
    }
   },
   "outputs": [
    {
     "name": "stdout",
     "output_type": "stream",
     "text": [
      "              precision    recall  f1-score   support\n",
      "\n",
      "           0       0.99      0.89      0.94       869\n",
      "           1       0.90      1.00      0.95       837\n",
      "\n",
      "    accuracy                           0.94      1706\n",
      "   macro avg       0.95      0.94      0.94      1706\n",
      "weighted avg       0.95      0.94      0.94      1706\n",
      "\n",
      "0.9912049252418645\n",
      "0.943728018757327\n"
     ]
    }
   ],
   "source": [
    "predict(RandomForestClassifier())"
   ]
  },
  {
   "cell_type": "markdown",
   "id": "2f72bdb6",
   "metadata": {},
   "source": [
    "- Having Overfitting issue. So use Hyperparameter tunning."
   ]
  },
  {
   "cell_type": "markdown",
   "id": "3f49d60e",
   "metadata": {},
   "source": [
    "# Hyperparameter Tunning"
   ]
  },
  {
   "cell_type": "code",
   "execution_count": 72,
   "id": "0aa62c3d",
   "metadata": {
    "ExecuteTime": {
     "end_time": "2023-03-28T13:37:40.340457Z",
     "start_time": "2023-03-28T13:37:40.326156Z"
    }
   },
   "outputs": [],
   "source": [
    "params = {\n",
    "    'n_estimators' : [150,200,250,300],\n",
    "    'max_depth' : [3,4,5],\n",
    "    'criterion'  : [\"gini\", \"entropy\", \"log_loss\"]\n",
    "}"
   ]
  },
  {
   "cell_type": "code",
   "execution_count": 73,
   "id": "a0b05a1b",
   "metadata": {
    "ExecuteTime": {
     "end_time": "2023-03-28T13:37:40.356539Z",
     "start_time": "2023-03-28T13:37:40.344252Z"
    }
   },
   "outputs": [],
   "source": [
    "grid = GridSearchCV(RandomForestClassifier(),param_grid = params)"
   ]
  },
  {
   "cell_type": "code",
   "execution_count": 74,
   "id": "23ae0c4b",
   "metadata": {
    "ExecuteTime": {
     "end_time": "2023-03-28T13:37:40.372271Z",
     "start_time": "2023-03-28T13:37:40.357680Z"
    }
   },
   "outputs": [],
   "source": [
    "#grid.fit(xtrain,ytrain)"
   ]
  },
  {
   "cell_type": "code",
   "execution_count": 75,
   "id": "b7ef67dc",
   "metadata": {
    "ExecuteTime": {
     "end_time": "2023-03-28T13:37:40.403770Z",
     "start_time": "2023-03-28T13:37:40.384891Z"
    }
   },
   "outputs": [],
   "source": [
    "#grid.best_params_"
   ]
  },
  {
   "cell_type": "code",
   "execution_count": 76,
   "id": "18845bbb",
   "metadata": {
    "ExecuteTime": {
     "end_time": "2023-03-28T13:37:42.199551Z",
     "start_time": "2023-03-28T13:37:40.404512Z"
    }
   },
   "outputs": [
    {
     "name": "stdout",
     "output_type": "stream",
     "text": [
      "0.8440340076223981\n",
      "0.8452520515826495\n",
      "              precision    recall  f1-score   support\n",
      "\n",
      "           0       0.83      0.88      0.85       869\n",
      "           1       0.86      0.81      0.84       837\n",
      "\n",
      "    accuracy                           0.85      1706\n",
      "   macro avg       0.85      0.84      0.84      1706\n",
      "weighted avg       0.85      0.85      0.85      1706\n",
      "\n"
     ]
    }
   ],
   "source": [
    "randomforest = RandomForestClassifier(criterion='entropy', max_depth=5, n_estimators=250)\n",
    "\n",
    "randomforest.fit(xtrain,ytrain)\n",
    "ypred  = randomforest.predict(xtest)\n",
    "print(randomforest.score(xtrain,ytrain))\n",
    "print(randomforest.score(xtest,ytest))\n",
    "print(classification_report(ytest,ypred))"
   ]
  },
  {
   "cell_type": "markdown",
   "id": "ed999398",
   "metadata": {},
   "source": [
    "# preparing single model"
   ]
  },
  {
   "cell_type": "markdown",
   "id": "62866900",
   "metadata": {},
   "source": [
    "# Boosting"
   ]
  },
  {
   "cell_type": "code",
   "execution_count": 77,
   "id": "84861a2b",
   "metadata": {
    "ExecuteTime": {
     "end_time": "2023-03-28T13:37:42.215497Z",
     "start_time": "2023-03-28T13:37:42.204466Z"
    }
   },
   "outputs": [],
   "source": [
    "x= data1\n",
    "y= data['Churn']"
   ]
  },
  {
   "cell_type": "code",
   "execution_count": 78,
   "id": "a281b19c",
   "metadata": {
    "ExecuteTime": {
     "end_time": "2023-03-28T13:37:42.247218Z",
     "start_time": "2023-03-28T13:37:42.222156Z"
    }
   },
   "outputs": [],
   "source": [
    "xtrain,xtest,ytrain,ytest = train_test_split(x,y,test_size=0.2,random_state=1)"
   ]
  },
  {
   "cell_type": "markdown",
   "id": "60ae8958",
   "metadata": {},
   "source": [
    "# Adaboost"
   ]
  },
  {
   "cell_type": "code",
   "execution_count": 79,
   "id": "1b75d0d5",
   "metadata": {
    "ExecuteTime": {
     "end_time": "2023-03-28T13:37:42.470011Z",
     "start_time": "2023-03-28T13:37:42.252786Z"
    }
   },
   "outputs": [],
   "source": [
    "adaboost = AdaBoostClassifier(n_estimators=50, learning_rate=0.2).fit(xtrain,ytrain)"
   ]
  },
  {
   "cell_type": "code",
   "execution_count": 80,
   "id": "fc51073b",
   "metadata": {
    "ExecuteTime": {
     "end_time": "2023-03-28T13:37:42.677557Z",
     "start_time": "2023-03-28T13:37:42.474630Z"
    }
   },
   "outputs": [],
   "source": [
    "model = adaboost.fit(xtrain, ytrain)"
   ]
  },
  {
   "cell_type": "code",
   "execution_count": 81,
   "id": "72d73847",
   "metadata": {
    "ExecuteTime": {
     "end_time": "2023-03-28T13:37:42.709436Z",
     "start_time": "2023-03-28T13:37:42.680166Z"
    }
   },
   "outputs": [],
   "source": [
    "ypred = model.predict(xtest)"
   ]
  },
  {
   "cell_type": "code",
   "execution_count": 82,
   "id": "7d26f56b",
   "metadata": {
    "ExecuteTime": {
     "end_time": "2023-03-28T13:37:42.741225Z",
     "start_time": "2023-03-28T13:37:42.725163Z"
    }
   },
   "outputs": [
    {
     "data": {
      "text/plain": [
       "array([0, 0, 0, 0, 0, 0, 0, 0, 0, 0, 0, 0, 0, 0, 0, 0, 0, 0, 0, 0, 0, 0,\n",
       "       0, 0, 0, 1, 0, 0, 0, 0, 0, 0, 0, 0, 0, 0, 0, 0, 0, 0, 0, 0, 0, 0,\n",
       "       0, 0, 0, 0, 0, 0, 0, 0, 0, 0, 0, 0, 0, 0, 0, 0, 0, 0, 0, 0, 0, 0,\n",
       "       0, 0, 0, 0, 0, 0, 0, 0, 0, 0, 0, 0, 0, 0, 0, 0, 0, 0, 0, 0, 0, 0,\n",
       "       0, 0, 0, 0, 0, 0, 0, 0, 0, 0, 0, 0, 0, 0, 0, 0, 0, 0, 1, 0, 0, 0,\n",
       "       0, 0, 0, 0, 0, 0, 0, 0, 1, 0, 0, 0, 0, 0, 0, 0, 0, 0, 0, 0, 0, 0,\n",
       "       0, 0, 0, 0, 0, 0, 0, 0, 1, 0, 0, 0, 0, 0, 0, 0, 0, 0, 0, 0, 0, 0,\n",
       "       1, 0, 0, 0, 0, 0, 0, 0, 1, 0, 0, 0, 0, 0, 0, 0, 0, 0, 0, 0, 0, 0,\n",
       "       0, 0, 0, 0, 0, 0, 0, 0, 0, 0, 0, 0, 0, 0, 0, 0, 0, 0, 0, 0, 0, 0,\n",
       "       0, 0, 0, 0, 0, 0, 0, 0, 0, 0, 0, 0, 0, 0, 0, 0, 0, 0, 0, 0, 0, 0,\n",
       "       0, 0, 0, 0, 0, 0, 0, 0, 0, 0, 0, 0, 0, 0, 0, 0, 0, 0, 0, 0, 0, 0,\n",
       "       0, 0, 0, 0, 0, 0, 0, 0, 0, 0, 1, 0, 0, 0, 0, 0, 0, 0, 0, 0, 0, 0,\n",
       "       0, 0, 0, 0, 0, 0, 0, 0, 0, 0, 1, 0, 0, 0, 0, 0, 0, 0, 1, 0, 0, 0,\n",
       "       0, 1, 0, 1, 0, 0, 0, 0, 0, 0, 0, 0, 0, 0, 0, 0, 0, 0, 0, 0, 0, 0,\n",
       "       0, 0, 0, 0, 0, 0, 1, 0, 0, 0, 0, 0, 0, 0, 0, 1, 0, 0, 0, 0, 0, 0,\n",
       "       0, 0, 0, 0, 1, 0, 0, 0, 0, 0, 0, 0, 0, 0, 0, 0, 0, 0, 0, 0, 0, 0,\n",
       "       0, 0, 0, 0, 0, 0, 0, 0, 0, 0, 0, 0, 0, 0, 0, 0, 0, 0, 0, 0, 0, 0,\n",
       "       0, 0, 0, 0, 0, 0, 0, 0, 0, 1, 0, 0, 0, 0, 1, 0, 0, 0, 0, 0, 0, 0,\n",
       "       0, 1, 0, 0, 0, 0, 0, 0, 0, 0, 0, 0, 0, 0, 0, 0, 0, 0, 0, 0, 0, 0,\n",
       "       0, 0, 0, 1, 0, 0, 0, 0, 0, 0, 0, 0, 0, 0, 0, 0, 0, 0, 0, 0, 0, 0,\n",
       "       1, 0, 0, 0, 0, 0, 0, 0, 0, 0, 0, 0, 0, 0, 0, 0, 0, 0, 0, 0, 0, 0,\n",
       "       0, 0, 0, 0, 0, 0, 0, 0, 0, 0, 0, 0, 0, 0, 0, 0, 0, 0, 0, 0, 0, 0,\n",
       "       0, 0, 0, 0, 0, 0, 0, 0, 1, 0, 0, 0, 0, 0, 0, 0, 0, 0, 0, 0, 0, 0,\n",
       "       0, 0, 0, 0, 0, 1, 0, 0, 0, 0, 0, 0, 0, 0, 0, 0, 0, 0, 0, 0, 0, 0,\n",
       "       0, 0, 0, 0, 0, 0, 0, 0, 0, 0, 0, 0, 0, 0, 0, 0, 0, 0, 0, 0, 0, 0,\n",
       "       0, 0, 0, 0, 0, 0, 0, 0, 0, 0, 0, 0, 0, 0, 0, 0, 0, 0, 0, 0, 0, 0,\n",
       "       0, 0, 0, 0, 0, 0, 1, 0, 0, 0, 0, 0, 0, 0, 0, 0, 0, 0, 0, 0, 0, 0,\n",
       "       0, 0, 0, 0, 0, 0, 0, 0, 0, 0, 1, 0, 0, 0, 0, 0, 1, 0, 0, 0, 1, 0,\n",
       "       0, 0, 0, 0, 0, 0, 0, 0, 0, 0, 0, 0, 0, 0, 0, 1, 0, 0, 0, 0, 0, 0,\n",
       "       0, 0, 0, 0, 0, 0, 0, 0, 0, 0, 0, 0, 0, 0, 0, 0, 0, 0, 0, 0, 0, 0,\n",
       "       0, 0, 0, 0, 0, 0, 0, 0, 0, 0, 0, 0, 0, 0, 0, 0, 0, 0, 0, 0, 0, 0,\n",
       "       0, 0, 1, 0, 0, 0, 0, 0, 0, 0, 0, 0, 0, 0, 0, 0, 0, 0, 0, 0, 0, 0,\n",
       "       0, 0, 1, 0, 0, 0, 0, 0, 0, 0, 0, 0, 0, 0, 0, 0, 0, 0, 0, 0, 0, 0,\n",
       "       0, 0, 0, 0, 0, 0, 0, 0, 0, 0, 0, 0, 0, 0, 0, 0, 0, 0, 0, 0, 0, 0,\n",
       "       1, 0, 0, 0, 0, 0, 0, 0, 0, 0, 0, 0, 0, 0, 0, 0, 0, 0, 0, 0, 0, 0,\n",
       "       0, 0, 0, 0, 0, 0, 0, 0, 0, 0, 0, 0, 0, 0, 0, 0, 0, 0, 0, 0, 0, 0,\n",
       "       0, 0, 0, 0, 0, 0, 0, 0, 0, 0, 0, 0, 0, 0, 0, 0, 0, 0, 0, 0, 0, 0,\n",
       "       0, 0, 0, 0, 0, 0, 0, 0, 0, 0, 0, 0, 0, 0, 0, 0, 0, 0, 0, 0, 0, 0,\n",
       "       0, 0, 0, 0, 0, 0, 0, 0, 0, 0, 0, 0, 0, 0, 0, 0, 0, 0, 0, 0, 0, 0,\n",
       "       0, 0, 0, 0, 0, 0, 0, 0, 0, 0, 0, 0, 0, 0, 0, 0, 0, 0, 0, 0, 0, 0,\n",
       "       0, 0, 0, 0, 0, 0, 0, 1, 0, 0, 0, 0, 0, 0, 0, 1, 0, 0, 0, 0, 0, 0,\n",
       "       0, 0, 0, 0, 0, 1, 0, 0, 0, 0, 0, 0, 0, 0, 0, 0, 0, 0, 0, 0, 1, 0,\n",
       "       0, 0, 0, 0, 0, 0, 0, 0, 0, 0, 0, 0, 0, 0, 0, 0, 0, 0, 0, 0, 0, 0,\n",
       "       0, 0, 0, 0, 0, 0, 0, 0, 0, 0, 0, 0, 0, 0, 0, 0, 0, 0, 0, 0, 0, 0,\n",
       "       0, 0, 0, 0, 0, 0, 0, 0, 0, 0, 0, 0, 0, 0, 0, 0, 0, 0, 0, 0, 0, 1,\n",
       "       0, 0, 0, 0], dtype=int64)"
      ]
     },
     "execution_count": 82,
     "metadata": {},
     "output_type": "execute_result"
    }
   ],
   "source": [
    "ypred"
   ]
  },
  {
   "cell_type": "code",
   "execution_count": 83,
   "id": "f3d81bfa",
   "metadata": {
    "ExecuteTime": {
     "end_time": "2023-03-28T13:37:42.773087Z",
     "start_time": "2023-03-28T13:37:42.744725Z"
    }
   },
   "outputs": [
    {
     "name": "stdout",
     "output_type": "stream",
     "text": [
      "[[823  18]\n",
      " [137  16]]\n"
     ]
    }
   ],
   "source": [
    "print(confusion_matrix(ytest, ypred))"
   ]
  },
  {
   "cell_type": "code",
   "execution_count": 84,
   "id": "c4d12204",
   "metadata": {
    "ExecuteTime": {
     "end_time": "2023-03-28T13:37:42.836507Z",
     "start_time": "2023-03-28T13:37:42.775354Z"
    }
   },
   "outputs": [
    {
     "name": "stdout",
     "output_type": "stream",
     "text": [
      "0.8681761006289308\n",
      "0.8440643863179075\n",
      "              precision    recall  f1-score   support\n",
      "\n",
      "           0       0.86      0.98      0.91       841\n",
      "           1       0.47      0.10      0.17       153\n",
      "\n",
      "    accuracy                           0.84       994\n",
      "   macro avg       0.66      0.54      0.54       994\n",
      "weighted avg       0.80      0.84      0.80       994\n",
      "\n"
     ]
    }
   ],
   "source": [
    "print(adaboost.score(xtrain,ytrain))\n",
    "print(adaboost.score(xtest,ytest))\n",
    "print(classification_report(ytest,ypred))"
   ]
  },
  {
   "cell_type": "markdown",
   "id": "3fee848e",
   "metadata": {},
   "source": [
    "here, recall accuracy is very less the reason behind it, our data is imbalanced so here we need to balance the data by using oversampling "
   ]
  },
  {
   "cell_type": "markdown",
   "id": "daab67aa",
   "metadata": {},
   "source": [
    "# oversampling"
   ]
  },
  {
   "cell_type": "code",
   "execution_count": 85,
   "id": "ccf00083",
   "metadata": {
    "ExecuteTime": {
     "end_time": "2023-03-28T13:37:42.852328Z",
     "start_time": "2023-03-28T13:37:42.838999Z"
    }
   },
   "outputs": [],
   "source": [
    "from imblearn.over_sampling import RandomOverSampler"
   ]
  },
  {
   "cell_type": "code",
   "execution_count": 86,
   "id": "7d652797",
   "metadata": {
    "ExecuteTime": {
     "end_time": "2023-03-28T13:37:42.868129Z",
     "start_time": "2023-03-28T13:37:42.859390Z"
    }
   },
   "outputs": [],
   "source": [
    "ros = RandomOverSampler(random_state=1)\n",
    "\n",
    "x_re, y_re = ros.fit_resample(x,y)"
   ]
  },
  {
   "cell_type": "code",
   "execution_count": 87,
   "id": "e96ff848",
   "metadata": {
    "ExecuteTime": {
     "end_time": "2023-03-28T13:37:42.899745Z",
     "start_time": "2023-03-28T13:37:42.871902Z"
    }
   },
   "outputs": [
    {
     "data": {
      "text/plain": [
       "((8528, 5), (8528,))"
      ]
     },
     "execution_count": 87,
     "metadata": {},
     "output_type": "execute_result"
    }
   ],
   "source": [
    "x_re.shape, y_re.shape"
   ]
  },
  {
   "cell_type": "code",
   "execution_count": 88,
   "id": "10b66848",
   "metadata": {
    "ExecuteTime": {
     "end_time": "2023-03-28T13:37:42.915763Z",
     "start_time": "2023-03-28T13:37:42.905877Z"
    }
   },
   "outputs": [
    {
     "data": {
      "text/plain": [
       "array([[-0.32321457,  1.58012091, -0.44042803,  1.27323117,  1.58043319],\n",
       "       [-0.32321457, -0.34924089, -0.44042803,  1.34706256, -0.34952835],\n",
       "       [-0.32321457,  1.17560737, -1.3440147 , -0.57255359,  1.17579921],\n",
       "       ...,\n",
       "       [ 3.09391991,  0.75245266, -0.44042803,  1.56855673,  0.75252355],\n",
       "       [-0.32321457, -0.10131324, -0.44042803,  1.8638823 , -0.10170375],\n",
       "       [-0.32321457, -0.68478207,  1.3667453 , -0.57255359, -0.68507849]])"
      ]
     },
     "execution_count": 88,
     "metadata": {},
     "output_type": "execute_result"
    }
   ],
   "source": [
    "x_re"
   ]
  },
  {
   "cell_type": "code",
   "execution_count": 89,
   "id": "4874d49e",
   "metadata": {
    "ExecuteTime": {
     "end_time": "2023-03-28T13:37:42.931494Z",
     "start_time": "2023-03-28T13:37:42.917892Z"
    }
   },
   "outputs": [
    {
     "data": {
      "text/plain": [
       "0       0\n",
       "1       0\n",
       "2       0\n",
       "3       0\n",
       "4       0\n",
       "       ..\n",
       "8523    1\n",
       "8524    1\n",
       "8525    1\n",
       "8526    1\n",
       "8527    1\n",
       "Name: Churn, Length: 8528, dtype: int64"
      ]
     },
     "execution_count": 89,
     "metadata": {},
     "output_type": "execute_result"
    }
   ],
   "source": [
    "y_re"
   ]
  },
  {
   "cell_type": "code",
   "execution_count": 90,
   "id": "3b62b599",
   "metadata": {
    "ExecuteTime": {
     "end_time": "2023-03-28T13:37:42.948650Z",
     "start_time": "2023-03-28T13:37:42.931494Z"
    }
   },
   "outputs": [],
   "source": [
    "# now data is balanced so we need to build model once again"
   ]
  },
  {
   "cell_type": "code",
   "execution_count": 91,
   "id": "ec3067b6",
   "metadata": {
    "ExecuteTime": {
     "end_time": "2023-03-28T13:37:42.979127Z",
     "start_time": "2023-03-28T13:37:42.957305Z"
    }
   },
   "outputs": [],
   "source": [
    "xtrain,xtest,ytrain,ytest = train_test_split(x_re,y_re,test_size=0.2,random_state=1)"
   ]
  },
  {
   "cell_type": "code",
   "execution_count": 92,
   "id": "f71b37d6",
   "metadata": {
    "ExecuteTime": {
     "end_time": "2023-03-28T13:37:43.583417Z",
     "start_time": "2023-03-28T13:37:42.982585Z"
    }
   },
   "outputs": [
    {
     "name": "stdout",
     "output_type": "stream",
     "text": [
      "[[741 128]\n",
      " [157 680]]\n",
      "              precision    recall  f1-score   support\n",
      "\n",
      "           0       0.83      0.85      0.84       869\n",
      "           1       0.84      0.81      0.83       837\n",
      "\n",
      "    accuracy                           0.83      1706\n",
      "   macro avg       0.83      0.83      0.83      1706\n",
      "weighted avg       0.83      0.83      0.83      1706\n",
      "\n",
      "0.8223394898856641\n",
      "0.8329425556858148\n"
     ]
    }
   ],
   "source": [
    "adaboost = AdaBoostClassifier(n_estimators=50, learning_rate=0.2).fit(xtrain,ytrain)\n",
    "model = adaboost.fit(xtrain, ytrain)\n",
    "ypred = model.predict(xtest)\n",
    "print(confusion_matrix(ytest, ypred))\n",
    "print(classification_report(ytest,ypred))\n",
    "print(adaboost.score(xtrain,ytrain))\n",
    "print(adaboost.score(xtest,ytest))"
   ]
  },
  {
   "cell_type": "code",
   "execution_count": 93,
   "id": "3477b4c2",
   "metadata": {
    "ExecuteTime": {
     "end_time": "2023-03-28T13:37:43.599452Z",
     "start_time": "2023-03-28T13:37:43.584967Z"
    }
   },
   "outputs": [],
   "source": [
    "params = {\n",
    "    'n_estimators' : [50,100,150,200],\n",
    "    'learning_rate': [1.0,2.0,3.0],\n",
    "    'random_state': [10,20,30,40]\n",
    "}"
   ]
  },
  {
   "cell_type": "code",
   "execution_count": 94,
   "id": "24b4de5c",
   "metadata": {
    "ExecuteTime": {
     "end_time": "2023-03-28T13:37:43.630794Z",
     "start_time": "2023-03-28T13:37:43.602310Z"
    }
   },
   "outputs": [],
   "source": [
    "grid = GridSearchCV(AdaBoostClassifier(),param_grid = params)"
   ]
  },
  {
   "cell_type": "code",
   "execution_count": 95,
   "id": "125fbcca",
   "metadata": {
    "ExecuteTime": {
     "end_time": "2023-03-28T13:37:43.662934Z",
     "start_time": "2023-03-28T13:37:43.644263Z"
    }
   },
   "outputs": [],
   "source": [
    "#grid.fit(xtrain,ytrain)"
   ]
  },
  {
   "cell_type": "code",
   "execution_count": 96,
   "id": "95019912",
   "metadata": {
    "ExecuteTime": {
     "end_time": "2023-03-28T13:37:43.677490Z",
     "start_time": "2023-03-28T13:37:43.667795Z"
    }
   },
   "outputs": [],
   "source": [
    "#grid.best_params_"
   ]
  },
  {
   "cell_type": "code",
   "execution_count": 97,
   "id": "eaa633d2",
   "metadata": {
    "ExecuteTime": {
     "end_time": "2023-03-28T13:37:45.743065Z",
     "start_time": "2023-03-28T13:37:43.680544Z"
    }
   },
   "outputs": [
    {
     "name": "stdout",
     "output_type": "stream",
     "text": [
      "[[752 117]\n",
      " [166 671]]\n",
      "              precision    recall  f1-score   support\n",
      "\n",
      "           0       0.82      0.87      0.84       869\n",
      "           1       0.85      0.80      0.83       837\n",
      "\n",
      "    accuracy                           0.83      1706\n",
      "   macro avg       0.84      0.83      0.83      1706\n",
      "weighted avg       0.84      0.83      0.83      1706\n",
      "\n",
      "0.8251245968924069\n",
      "0.8341148886283705\n"
     ]
    }
   ],
   "source": [
    "adaboost = AdaBoostClassifier(n_estimators=150, learning_rate=1.0,random_state=10).fit(xtrain,ytrain)\n",
    "model = adaboost.fit(xtrain, ytrain)\n",
    "ypred = model.predict(xtest)\n",
    "print(confusion_matrix(ytest, ypred))\n",
    "print(classification_report(ytest,ypred))\n",
    "print(adaboost.score(xtrain,ytrain))\n",
    "print(adaboost.score(xtest,ytest))"
   ]
  },
  {
   "cell_type": "markdown",
   "id": "73224738",
   "metadata": {},
   "source": [
    "# Gradient Boosting "
   ]
  },
  {
   "cell_type": "code",
   "execution_count": 98,
   "id": "32336bae",
   "metadata": {
    "ExecuteTime": {
     "end_time": "2023-03-28T13:37:45.758520Z",
     "start_time": "2023-03-28T13:37:45.746060Z"
    }
   },
   "outputs": [],
   "source": [
    "gradient_booster = GradientBoostingClassifier(learning_rate=0.1)"
   ]
  },
  {
   "cell_type": "code",
   "execution_count": 99,
   "id": "976ab304",
   "metadata": {
    "ExecuteTime": {
     "end_time": "2023-03-28T13:37:46.538988Z",
     "start_time": "2023-03-28T13:37:45.763931Z"
    }
   },
   "outputs": [],
   "source": [
    "model1 = gradient_booster.fit(xtrain,ytrain)"
   ]
  },
  {
   "cell_type": "code",
   "execution_count": 100,
   "id": "9421f336",
   "metadata": {
    "ExecuteTime": {
     "end_time": "2023-03-28T13:37:46.570695Z",
     "start_time": "2023-03-28T13:37:46.541219Z"
    }
   },
   "outputs": [
    {
     "data": {
      "text/plain": [
       "0.8552168815943728"
      ]
     },
     "execution_count": 100,
     "metadata": {},
     "output_type": "execute_result"
    }
   ],
   "source": [
    "gradient_booster.score(xtest,ytest)"
   ]
  },
  {
   "cell_type": "code",
   "execution_count": 101,
   "id": "429f4ba4",
   "metadata": {
    "ExecuteTime": {
     "end_time": "2023-03-28T13:37:46.586718Z",
     "start_time": "2023-03-28T13:37:46.570695Z"
    }
   },
   "outputs": [],
   "source": [
    "yred = model1.predict(xtest)"
   ]
  },
  {
   "cell_type": "code",
   "execution_count": 102,
   "id": "5796b987",
   "metadata": {
    "ExecuteTime": {
     "end_time": "2023-03-28T13:37:46.602534Z",
     "start_time": "2023-03-28T13:37:46.590794Z"
    }
   },
   "outputs": [
    {
     "data": {
      "text/plain": [
       "array([0, 0, 0, ..., 0, 0, 1], dtype=int64)"
      ]
     },
     "execution_count": 102,
     "metadata": {},
     "output_type": "execute_result"
    }
   ],
   "source": [
    "ypred"
   ]
  },
  {
   "cell_type": "code",
   "execution_count": 103,
   "id": "85026a38",
   "metadata": {
    "ExecuteTime": {
     "end_time": "2023-03-28T13:37:46.873238Z",
     "start_time": "2023-03-28T13:37:46.606464Z"
    }
   },
   "outputs": [
    {
     "name": "stdout",
     "output_type": "stream",
     "text": [
      "              precision    recall  f1-score   support\n",
      "\n",
      "           0       0.82      0.87      0.84       869\n",
      "           1       0.85      0.80      0.83       837\n",
      "\n",
      "    accuracy                           0.83      1706\n",
      "   macro avg       0.84      0.83      0.83      1706\n",
      "weighted avg       0.84      0.83      0.83      1706\n",
      "\n",
      "0.8251245968924069\n",
      "0.8341148886283705\n"
     ]
    }
   ],
   "source": [
    "print(classification_report(ytest,ypred))\n",
    "print(adaboost.score(xtrain,ytrain))\n",
    "print(adaboost.score(xtest,ytest))"
   ]
  },
  {
   "cell_type": "markdown",
   "id": "78e52d8b",
   "metadata": {},
   "source": [
    "# ExtraGradientBoosting"
   ]
  },
  {
   "cell_type": "code",
   "execution_count": 104,
   "id": "08708913",
   "metadata": {
    "ExecuteTime": {
     "end_time": "2023-03-28T13:37:54.478180Z",
     "start_time": "2023-03-28T13:37:46.879917Z"
    }
   },
   "outputs": [],
   "source": [
    "from xgboost import XGBClassifier\n",
    "xgboost = XGBClassifier(n_estimators = 1000,learning_rate = 0.05).fit(xtrain,ytrain)"
   ]
  },
  {
   "cell_type": "code",
   "execution_count": 105,
   "id": "cce186ac",
   "metadata": {
    "ExecuteTime": {
     "end_time": "2023-03-28T13:38:01.177311Z",
     "start_time": "2023-03-28T13:37:54.482004Z"
    }
   },
   "outputs": [],
   "source": [
    "model2 = xgboost.fit(xtrain,ytrain)"
   ]
  },
  {
   "cell_type": "code",
   "execution_count": 106,
   "id": "48fb8618",
   "metadata": {
    "ExecuteTime": {
     "end_time": "2023-03-28T13:38:01.223990Z",
     "start_time": "2023-03-28T13:38:01.178535Z"
    }
   },
   "outputs": [
    {
     "data": {
      "text/plain": [
       "0.9091441969519344"
      ]
     },
     "execution_count": 106,
     "metadata": {},
     "output_type": "execute_result"
    }
   ],
   "source": [
    "xgboost.score(xtest,ytest)"
   ]
  },
  {
   "cell_type": "code",
   "execution_count": 107,
   "id": "23629312",
   "metadata": {
    "ExecuteTime": {
     "end_time": "2023-03-28T13:38:01.271718Z",
     "start_time": "2023-03-28T13:38:01.226947Z"
    }
   },
   "outputs": [
    {
     "data": {
      "text/plain": [
       "array([0, 0, 0, ..., 0, 1, 1])"
      ]
     },
     "execution_count": 107,
     "metadata": {},
     "output_type": "execute_result"
    }
   ],
   "source": [
    "ypred = model2.predict(xtest)\n",
    "ypred"
   ]
  },
  {
   "cell_type": "code",
   "execution_count": 108,
   "id": "a7c4bdb7",
   "metadata": {
    "ExecuteTime": {
     "end_time": "2023-03-28T13:38:01.287407Z",
     "start_time": "2023-03-28T13:38:01.274550Z"
    }
   },
   "outputs": [
    {
     "name": "stdout",
     "output_type": "stream",
     "text": [
      "              precision    recall  f1-score   support\n",
      "\n",
      "           0       0.95      0.87      0.91       869\n",
      "           1       0.88      0.95      0.91       837\n",
      "\n",
      "    accuracy                           0.91      1706\n",
      "   macro avg       0.91      0.91      0.91      1706\n",
      "weighted avg       0.91      0.91      0.91      1706\n",
      "\n"
     ]
    }
   ],
   "source": [
    "print(classification_report(ytest,ypred))"
   ]
  },
  {
   "cell_type": "markdown",
   "id": "9c85838d",
   "metadata": {},
   "source": [
    "# Random Forest "
   ]
  },
  {
   "cell_type": "code",
   "execution_count": 109,
   "id": "4a2554f0",
   "metadata": {
    "ExecuteTime": {
     "end_time": "2023-03-28T13:38:01.319242Z",
     "start_time": "2023-03-28T13:38:01.287407Z"
    }
   },
   "outputs": [],
   "source": [
    "def predict(model):\n",
    "    model = model.fit(xtrain,ytrain)\n",
    "    ypred = model.predict(xtest)\n",
    "    \n",
    "    print(classification_report(ytest,ypred))\n",
    "    print(model.score(xtrain,ytrain))\n",
    "    print(model.score(xtest,ytest))"
   ]
  },
  {
   "cell_type": "code",
   "execution_count": 110,
   "id": "8a286700",
   "metadata": {
    "ExecuteTime": {
     "end_time": "2023-03-28T13:38:01.366951Z",
     "start_time": "2023-03-28T13:38:01.323756Z"
    }
   },
   "outputs": [
    {
     "name": "stdout",
     "output_type": "stream",
     "text": [
      "              precision    recall  f1-score   support\n",
      "\n",
      "           0       0.73      0.75      0.74       869\n",
      "           1       0.73      0.71      0.72       837\n",
      "\n",
      "    accuracy                           0.73      1706\n",
      "   macro avg       0.73      0.73      0.73      1706\n",
      "weighted avg       0.73      0.73      0.73      1706\n",
      "\n",
      "0.7276458516564057\n",
      "0.7268464243845252\n"
     ]
    }
   ],
   "source": [
    "predict(LogisticRegression())"
   ]
  },
  {
   "cell_type": "code",
   "execution_count": 111,
   "id": "d77d8746",
   "metadata": {
    "ExecuteTime": {
     "end_time": "2023-03-28T13:38:01.886702Z",
     "start_time": "2023-03-28T13:38:01.369489Z"
    }
   },
   "outputs": [
    {
     "name": "stdout",
     "output_type": "stream",
     "text": [
      "              precision    recall  f1-score   support\n",
      "\n",
      "           0       0.96      0.81      0.88       869\n",
      "           1       0.83      0.97      0.89       837\n",
      "\n",
      "    accuracy                           0.89      1706\n",
      "   macro avg       0.90      0.89      0.89      1706\n",
      "weighted avg       0.90      0.89      0.89      1706\n",
      "\n",
      "0.9201114042802697\n",
      "0.8862837045720985\n"
     ]
    }
   ],
   "source": [
    "predict(KNeighborsClassifier())"
   ]
  },
  {
   "cell_type": "code",
   "execution_count": 112,
   "id": "8c730cc1",
   "metadata": {
    "ExecuteTime": {
     "end_time": "2023-03-28T13:38:01.933651Z",
     "start_time": "2023-03-28T13:38:01.891475Z"
    }
   },
   "outputs": [
    {
     "name": "stdout",
     "output_type": "stream",
     "text": [
      "              precision    recall  f1-score   support\n",
      "\n",
      "           0       0.99      0.91      0.95       869\n",
      "           1       0.92      0.99      0.95       837\n",
      "\n",
      "    accuracy                           0.95      1706\n",
      "   macro avg       0.95      0.95      0.95      1706\n",
      "weighted avg       0.95      0.95      0.95      1706\n",
      "\n",
      "0.9912049252418645\n",
      "0.9513481828839391\n"
     ]
    }
   ],
   "source": [
    "predict(DecisionTreeClassifier())"
   ]
  },
  {
   "cell_type": "code",
   "execution_count": 113,
   "id": "9b16cbf6",
   "metadata": {
    "ExecuteTime": {
     "end_time": "2023-03-28T13:38:02.741639Z",
     "start_time": "2023-03-28T13:38:01.935590Z"
    }
   },
   "outputs": [
    {
     "name": "stdout",
     "output_type": "stream",
     "text": [
      "              precision    recall  f1-score   support\n",
      "\n",
      "           0       0.99      0.90      0.95       869\n",
      "           1       0.91      1.00      0.95       837\n",
      "\n",
      "    accuracy                           0.95      1706\n",
      "   macro avg       0.95      0.95      0.95      1706\n",
      "weighted avg       0.95      0.95      0.95      1706\n",
      "\n",
      "0.9912049252418645\n",
      "0.947831184056272\n"
     ]
    }
   ],
   "source": [
    "predict(RandomForestClassifier())"
   ]
  },
  {
   "cell_type": "code",
   "execution_count": 114,
   "id": "961c829c",
   "metadata": {
    "ExecuteTime": {
     "end_time": "2023-03-28T13:38:02.757508Z",
     "start_time": "2023-03-28T13:38:02.746504Z"
    }
   },
   "outputs": [],
   "source": [
    "params = {\n",
    "    'n_estimators' : [150,200,250,300],\n",
    "    'max_depth' : [3,4,5],\n",
    "    'criterion'  : [\"gini\", \"entropy\", \"log_loss\"]\n",
    "}"
   ]
  },
  {
   "cell_type": "code",
   "execution_count": 115,
   "id": "d633a6fc",
   "metadata": {
    "ExecuteTime": {
     "end_time": "2023-03-28T13:38:02.773607Z",
     "start_time": "2023-03-28T13:38:02.761444Z"
    }
   },
   "outputs": [],
   "source": [
    "grid = GridSearchCV(RandomForestClassifier(),param_grid = params)"
   ]
  },
  {
   "cell_type": "code",
   "execution_count": 116,
   "id": "d98897fa",
   "metadata": {
    "ExecuteTime": {
     "end_time": "2023-03-28T13:38:02.789367Z",
     "start_time": "2023-03-28T13:38:02.777441Z"
    }
   },
   "outputs": [],
   "source": [
    "#grid.fit(xtrain,ytrain)"
   ]
  },
  {
   "cell_type": "code",
   "execution_count": 117,
   "id": "b2cdb5ef",
   "metadata": {
    "ExecuteTime": {
     "end_time": "2023-03-28T13:38:02.805098Z",
     "start_time": "2023-03-28T13:38:02.793868Z"
    }
   },
   "outputs": [],
   "source": [
    "#grid.best_params_"
   ]
  },
  {
   "cell_type": "code",
   "execution_count": 118,
   "id": "b8927368",
   "metadata": {
    "ExecuteTime": {
     "end_time": "2023-03-28T13:38:04.615225Z",
     "start_time": "2023-03-28T13:38:02.809045Z"
    }
   },
   "outputs": [
    {
     "name": "stdout",
     "output_type": "stream",
     "text": [
      "0.8446203459396071\n",
      "0.8434935521688159\n",
      "              precision    recall  f1-score   support\n",
      "\n",
      "           0       0.83      0.87      0.85       869\n",
      "           1       0.86      0.81      0.84       837\n",
      "\n",
      "    accuracy                           0.84      1706\n",
      "   macro avg       0.84      0.84      0.84      1706\n",
      "weighted avg       0.84      0.84      0.84      1706\n",
      "\n"
     ]
    }
   ],
   "source": [
    "randomforest = RandomForestClassifier(criterion='gini', max_depth=5, n_estimators=300)\n",
    "\n",
    "randomforest.fit(xtrain,ytrain)\n",
    "ypred  = randomforest.predict(xtest)\n",
    "print(randomforest.score(xtrain,ytrain))\n",
    "print(randomforest.score(xtest,ytest))\n",
    "print(classification_report(ytest,ypred))"
   ]
  },
  {
   "cell_type": "code",
   "execution_count": 119,
   "id": "b2ca2c92",
   "metadata": {
    "ExecuteTime": {
     "end_time": "2023-03-28T13:38:04.631205Z",
     "start_time": "2023-03-28T13:38:04.615225Z"
    }
   },
   "outputs": [],
   "source": [
    "from sklearn.pipeline import Pipeline\n",
    "from sklearn.compose import ColumnTransformer"
   ]
  },
  {
   "cell_type": "code",
   "execution_count": 120,
   "id": "078ee8f5",
   "metadata": {
    "ExecuteTime": {
     "end_time": "2023-03-28T13:38:04.647229Z",
     "start_time": "2023-03-28T13:38:04.634672Z"
    }
   },
   "outputs": [],
   "source": [
    "data2['churn']= data['Churn']"
   ]
  },
  {
   "cell_type": "code",
   "execution_count": 121,
   "id": "d7466023",
   "metadata": {
    "ExecuteTime": {
     "end_time": "2023-03-28T13:38:04.678683Z",
     "start_time": "2023-03-28T13:38:04.657327Z"
    },
    "scrolled": true
   },
   "outputs": [
    {
     "data": {
      "text/html": [
       "<div>\n",
       "<style scoped>\n",
       "    .dataframe tbody tr th:only-of-type {\n",
       "        vertical-align: middle;\n",
       "    }\n",
       "\n",
       "    .dataframe tbody tr th {\n",
       "        vertical-align: top;\n",
       "    }\n",
       "\n",
       "    .dataframe thead th {\n",
       "        text-align: right;\n",
       "    }\n",
       "</style>\n",
       "<table border=\"1\" class=\"dataframe\">\n",
       "  <thead>\n",
       "    <tr style=\"text-align: right;\">\n",
       "      <th></th>\n",
       "      <th>Intl_plan</th>\n",
       "      <th>Day_mins</th>\n",
       "      <th>Customer_calls</th>\n",
       "      <th>Voice_messages</th>\n",
       "      <th>Day_charge</th>\n",
       "      <th>churn</th>\n",
       "    </tr>\n",
       "  </thead>\n",
       "  <tbody>\n",
       "    <tr>\n",
       "      <th>0</th>\n",
       "      <td>0.0</td>\n",
       "      <td>265.1</td>\n",
       "      <td>1.0</td>\n",
       "      <td>25</td>\n",
       "      <td>45.07</td>\n",
       "      <td>0</td>\n",
       "    </tr>\n",
       "    <tr>\n",
       "      <th>1</th>\n",
       "      <td>0.0</td>\n",
       "      <td>161.6</td>\n",
       "      <td>1.0</td>\n",
       "      <td>26</td>\n",
       "      <td>27.47</td>\n",
       "      <td>0</td>\n",
       "    </tr>\n",
       "    <tr>\n",
       "      <th>2</th>\n",
       "      <td>0.0</td>\n",
       "      <td>243.4</td>\n",
       "      <td>0.0</td>\n",
       "      <td>0</td>\n",
       "      <td>41.38</td>\n",
       "      <td>0</td>\n",
       "    </tr>\n",
       "    <tr>\n",
       "      <th>3</th>\n",
       "      <td>1.0</td>\n",
       "      <td>299.4</td>\n",
       "      <td>2.0</td>\n",
       "      <td>0</td>\n",
       "      <td>50.90</td>\n",
       "      <td>0</td>\n",
       "    </tr>\n",
       "    <tr>\n",
       "      <th>4</th>\n",
       "      <td>1.0</td>\n",
       "      <td>166.7</td>\n",
       "      <td>3.0</td>\n",
       "      <td>0</td>\n",
       "      <td>28.34</td>\n",
       "      <td>0</td>\n",
       "    </tr>\n",
       "    <tr>\n",
       "      <th>...</th>\n",
       "      <td>...</td>\n",
       "      <td>...</td>\n",
       "      <td>...</td>\n",
       "      <td>...</td>\n",
       "      <td>...</td>\n",
       "      <td>...</td>\n",
       "    </tr>\n",
       "    <tr>\n",
       "      <th>4995</th>\n",
       "      <td>0.0</td>\n",
       "      <td>235.7</td>\n",
       "      <td>2.0</td>\n",
       "      <td>40</td>\n",
       "      <td>40.07</td>\n",
       "      <td>0</td>\n",
       "    </tr>\n",
       "    <tr>\n",
       "      <th>4996</th>\n",
       "      <td>0.0</td>\n",
       "      <td>184.2</td>\n",
       "      <td>3.0</td>\n",
       "      <td>0</td>\n",
       "      <td>31.31</td>\n",
       "      <td>1</td>\n",
       "    </tr>\n",
       "    <tr>\n",
       "      <th>4997</th>\n",
       "      <td>0.0</td>\n",
       "      <td>140.6</td>\n",
       "      <td>1.0</td>\n",
       "      <td>0</td>\n",
       "      <td>23.90</td>\n",
       "      <td>0</td>\n",
       "    </tr>\n",
       "    <tr>\n",
       "      <th>4998</th>\n",
       "      <td>0.0</td>\n",
       "      <td>188.8</td>\n",
       "      <td>0.0</td>\n",
       "      <td>0</td>\n",
       "      <td>32.10</td>\n",
       "      <td>0</td>\n",
       "    </tr>\n",
       "    <tr>\n",
       "      <th>4999</th>\n",
       "      <td>0.0</td>\n",
       "      <td>129.4</td>\n",
       "      <td>0.0</td>\n",
       "      <td>34</td>\n",
       "      <td>22.00</td>\n",
       "      <td>0</td>\n",
       "    </tr>\n",
       "  </tbody>\n",
       "</table>\n",
       "<p>4969 rows × 6 columns</p>\n",
       "</div>"
      ],
      "text/plain": [
       "      Intl_plan  Day_mins  Customer_calls  Voice_messages  Day_charge  churn\n",
       "0           0.0     265.1             1.0              25       45.07      0\n",
       "1           0.0     161.6             1.0              26       27.47      0\n",
       "2           0.0     243.4             0.0               0       41.38      0\n",
       "3           1.0     299.4             2.0               0       50.90      0\n",
       "4           1.0     166.7             3.0               0       28.34      0\n",
       "...         ...       ...             ...             ...         ...    ...\n",
       "4995        0.0     235.7             2.0              40       40.07      0\n",
       "4996        0.0     184.2             3.0               0       31.31      1\n",
       "4997        0.0     140.6             1.0               0       23.90      0\n",
       "4998        0.0     188.8             0.0               0       32.10      0\n",
       "4999        0.0     129.4             0.0              34       22.00      0\n",
       "\n",
       "[4969 rows x 6 columns]"
      ]
     },
     "execution_count": 121,
     "metadata": {},
     "output_type": "execute_result"
    }
   ],
   "source": [
    "data2"
   ]
  },
  {
   "cell_type": "code",
   "execution_count": 122,
   "id": "fa54275f",
   "metadata": {
    "ExecuteTime": {
     "end_time": "2023-03-28T13:38:04.694520Z",
     "start_time": "2023-03-28T13:38:04.679516Z"
    }
   },
   "outputs": [],
   "source": [
    "data2['Intl_plan'] = data2['Intl_plan'].map({0:'no', 1:'yes'})"
   ]
  },
  {
   "cell_type": "code",
   "execution_count": 123,
   "id": "969bfbd7",
   "metadata": {
    "ExecuteTime": {
     "end_time": "2023-03-28T13:38:04.710414Z",
     "start_time": "2023-03-28T13:38:04.698329Z"
    }
   },
   "outputs": [],
   "source": [
    "x = data2.iloc[:,:-1]\n",
    "y = data2['churn']"
   ]
  },
  {
   "cell_type": "code",
   "execution_count": 124,
   "id": "7fd8087f",
   "metadata": {
    "ExecuteTime": {
     "end_time": "2023-03-28T13:38:04.758206Z",
     "start_time": "2023-03-28T13:38:04.713911Z"
    }
   },
   "outputs": [],
   "source": [
    "ros = RandomOverSampler(random_state=1)\n",
    "\n",
    "x_re, y_re = ros.fit_resample(x,y)"
   ]
  },
  {
   "cell_type": "code",
   "execution_count": 125,
   "id": "78cb3dd2",
   "metadata": {
    "ExecuteTime": {
     "end_time": "2023-03-28T13:38:04.774319Z",
     "start_time": "2023-03-28T13:38:04.760459Z"
    }
   },
   "outputs": [
    {
     "data": {
      "text/plain": [
       "(8528, 5)"
      ]
     },
     "execution_count": 125,
     "metadata": {},
     "output_type": "execute_result"
    }
   ],
   "source": [
    "x_re.shape"
   ]
  },
  {
   "cell_type": "code",
   "execution_count": 126,
   "id": "5ba710f0",
   "metadata": {
    "ExecuteTime": {
     "end_time": "2023-03-28T13:38:04.789974Z",
     "start_time": "2023-03-28T13:38:04.776373Z"
    }
   },
   "outputs": [],
   "source": [
    "xtrain,xtest, ytrain,ytest = train_test_split(x_re, y_re, test_size=0.25, random_state=1) "
   ]
  },
  {
   "cell_type": "code",
   "execution_count": 127,
   "id": "b664a1b5",
   "metadata": {
    "ExecuteTime": {
     "end_time": "2023-03-28T13:38:04.822076Z",
     "start_time": "2023-03-28T13:38:04.795281Z"
    }
   },
   "outputs": [
    {
     "data": {
      "text/plain": [
       "((2132, 5), (2132,), (6396, 5), (6396,))"
      ]
     },
     "execution_count": 127,
     "metadata": {},
     "output_type": "execute_result"
    }
   ],
   "source": [
    "xtest.shape, ytest.shape, xtrain.shape, ytrain.shape"
   ]
  },
  {
   "cell_type": "code",
   "execution_count": 128,
   "id": "83bf636a",
   "metadata": {
    "ExecuteTime": {
     "end_time": "2023-03-28T13:38:04.869076Z",
     "start_time": "2023-03-28T13:38:04.825698Z"
    }
   },
   "outputs": [
    {
     "data": {
      "text/html": [
       "<div>\n",
       "<style scoped>\n",
       "    .dataframe tbody tr th:only-of-type {\n",
       "        vertical-align: middle;\n",
       "    }\n",
       "\n",
       "    .dataframe tbody tr th {\n",
       "        vertical-align: top;\n",
       "    }\n",
       "\n",
       "    .dataframe thead th {\n",
       "        text-align: right;\n",
       "    }\n",
       "</style>\n",
       "<table border=\"1\" class=\"dataframe\">\n",
       "  <thead>\n",
       "    <tr style=\"text-align: right;\">\n",
       "      <th></th>\n",
       "      <th>Intl_plan</th>\n",
       "      <th>Day_mins</th>\n",
       "      <th>Customer_calls</th>\n",
       "      <th>Voice_messages</th>\n",
       "      <th>Day_charge</th>\n",
       "    </tr>\n",
       "  </thead>\n",
       "  <tbody>\n",
       "    <tr>\n",
       "      <th>4691</th>\n",
       "      <td>no</td>\n",
       "      <td>202.0</td>\n",
       "      <td>1.0</td>\n",
       "      <td>0</td>\n",
       "      <td>34.34</td>\n",
       "    </tr>\n",
       "    <tr>\n",
       "      <th>7074</th>\n",
       "      <td>yes</td>\n",
       "      <td>197.7</td>\n",
       "      <td>3.0</td>\n",
       "      <td>0</td>\n",
       "      <td>33.61</td>\n",
       "    </tr>\n",
       "    <tr>\n",
       "      <th>4579</th>\n",
       "      <td>no</td>\n",
       "      <td>168.4</td>\n",
       "      <td>1.0</td>\n",
       "      <td>0</td>\n",
       "      <td>28.63</td>\n",
       "    </tr>\n",
       "    <tr>\n",
       "      <th>4966</th>\n",
       "      <td>no</td>\n",
       "      <td>140.6</td>\n",
       "      <td>1.0</td>\n",
       "      <td>0</td>\n",
       "      <td>23.90</td>\n",
       "    </tr>\n",
       "    <tr>\n",
       "      <th>1095</th>\n",
       "      <td>no</td>\n",
       "      <td>155.9</td>\n",
       "      <td>3.0</td>\n",
       "      <td>0</td>\n",
       "      <td>26.50</td>\n",
       "    </tr>\n",
       "    <tr>\n",
       "      <th>...</th>\n",
       "      <td>...</td>\n",
       "      <td>...</td>\n",
       "      <td>...</td>\n",
       "      <td>...</td>\n",
       "      <td>...</td>\n",
       "    </tr>\n",
       "    <tr>\n",
       "      <th>2895</th>\n",
       "      <td>no</td>\n",
       "      <td>135.2</td>\n",
       "      <td>2.0</td>\n",
       "      <td>0</td>\n",
       "      <td>22.98</td>\n",
       "    </tr>\n",
       "    <tr>\n",
       "      <th>7813</th>\n",
       "      <td>no</td>\n",
       "      <td>276.9</td>\n",
       "      <td>1.0</td>\n",
       "      <td>0</td>\n",
       "      <td>47.07</td>\n",
       "    </tr>\n",
       "    <tr>\n",
       "      <th>905</th>\n",
       "      <td>no</td>\n",
       "      <td>135.4</td>\n",
       "      <td>1.0</td>\n",
       "      <td>0</td>\n",
       "      <td>23.02</td>\n",
       "    </tr>\n",
       "    <tr>\n",
       "      <th>5192</th>\n",
       "      <td>no</td>\n",
       "      <td>167.3</td>\n",
       "      <td>1.0</td>\n",
       "      <td>0</td>\n",
       "      <td>28.44</td>\n",
       "    </tr>\n",
       "    <tr>\n",
       "      <th>235</th>\n",
       "      <td>no</td>\n",
       "      <td>225.0</td>\n",
       "      <td>3.0</td>\n",
       "      <td>0</td>\n",
       "      <td>38.25</td>\n",
       "    </tr>\n",
       "  </tbody>\n",
       "</table>\n",
       "<p>6396 rows × 5 columns</p>\n",
       "</div>"
      ],
      "text/plain": [
       "     Intl_plan  Day_mins  Customer_calls  Voice_messages  Day_charge\n",
       "4691        no     202.0             1.0               0       34.34\n",
       "7074       yes     197.7             3.0               0       33.61\n",
       "4579        no     168.4             1.0               0       28.63\n",
       "4966        no     140.6             1.0               0       23.90\n",
       "1095        no     155.9             3.0               0       26.50\n",
       "...        ...       ...             ...             ...         ...\n",
       "2895        no     135.2             2.0               0       22.98\n",
       "7813        no     276.9             1.0               0       47.07\n",
       "905         no     135.4             1.0               0       23.02\n",
       "5192        no     167.3             1.0               0       28.44\n",
       "235         no     225.0             3.0               0       38.25\n",
       "\n",
       "[6396 rows x 5 columns]"
      ]
     },
     "execution_count": 128,
     "metadata": {},
     "output_type": "execute_result"
    }
   ],
   "source": [
    "xtrain"
   ]
  },
  {
   "cell_type": "code",
   "execution_count": 129,
   "id": "c9ec8ca2",
   "metadata": {
    "ExecuteTime": {
     "end_time": "2023-03-28T13:38:04.885189Z",
     "start_time": "2023-03-28T13:38:04.870439Z"
    }
   },
   "outputs": [],
   "source": [
    "trans = ColumnTransformer(transformers=[\n",
    "    ('tf1', OrdinalEncoder(),[0]),\n",
    "    ('tf2', StandardScaler(),[1,2,3,4])\n",
    "], remainder='passthrough')"
   ]
  },
  {
   "cell_type": "code",
   "execution_count": 130,
   "id": "f79cc4a2",
   "metadata": {
    "ExecuteTime": {
     "end_time": "2023-03-28T13:38:05.997003Z",
     "start_time": "2023-03-28T13:38:04.888004Z"
    }
   },
   "outputs": [],
   "source": [
    "rf = Pipeline(steps=[('tranformer', trans), ('random', RandomForestClassifier(criterion='gini', max_depth=5, n_estimators=300))])\n",
    "rf.fit(xtrain, ytrain)\n",
    "ypred = rf.predict(xtest)"
   ]
  },
  {
   "cell_type": "code",
   "execution_count": 131,
   "id": "804b692e",
   "metadata": {
    "ExecuteTime": {
     "end_time": "2023-03-28T13:38:06.012647Z",
     "start_time": "2023-03-28T13:38:05.999191Z"
    }
   },
   "outputs": [
    {
     "data": {
      "text/plain": [
       "(2132,)"
      ]
     },
     "execution_count": 131,
     "metadata": {},
     "output_type": "execute_result"
    }
   ],
   "source": [
    "ypred.shape"
   ]
  },
  {
   "cell_type": "code",
   "execution_count": 132,
   "id": "d6edf636",
   "metadata": {
    "ExecuteTime": {
     "end_time": "2023-03-28T13:38:06.044467Z",
     "start_time": "2023-03-28T13:38:06.016022Z"
    },
    "scrolled": true
   },
   "outputs": [
    {
     "name": "stdout",
     "output_type": "stream",
     "text": [
      "              precision    recall  f1-score   support\n",
      "\n",
      "           0       0.83      0.87      0.85      1093\n",
      "           1       0.85      0.81      0.83      1039\n",
      "\n",
      "    accuracy                           0.84      2132\n",
      "   macro avg       0.84      0.84      0.84      2132\n",
      "weighted avg       0.84      0.84      0.84      2132\n",
      "\n"
     ]
    }
   ],
   "source": [
    "print(classification_report(ytest, ypred))"
   ]
  },
  {
   "cell_type": "code",
   "execution_count": 133,
   "id": "50050887",
   "metadata": {
    "ExecuteTime": {
     "end_time": "2023-03-28T13:38:06.393645Z",
     "start_time": "2023-03-28T13:38:06.046732Z"
    }
   },
   "outputs": [
    {
     "name": "stdout",
     "output_type": "stream",
     "text": [
      "0.8453721075672295\n",
      "0.8395872420262664\n"
     ]
    }
   ],
   "source": [
    "print(rf.score(xtrain,ytrain))\n",
    "print(rf.score(xtest, ytest))"
   ]
  },
  {
   "cell_type": "code",
   "execution_count": 134,
   "id": "09ac7aae",
   "metadata": {
    "ExecuteTime": {
     "end_time": "2023-03-28T13:38:06.409535Z",
     "start_time": "2023-03-28T13:38:06.397496Z"
    }
   },
   "outputs": [],
   "source": [
    "import pickle"
   ]
  },
  {
   "cell_type": "code",
   "execution_count": 135,
   "id": "0c097731",
   "metadata": {
    "ExecuteTime": {
     "end_time": "2023-03-28T13:38:06.472549Z",
     "start_time": "2023-03-28T13:38:06.412449Z"
    }
   },
   "outputs": [],
   "source": [
    "pickle.dump(rf, open('random_forest.pkl', 'wb'))"
   ]
  },
  {
   "cell_type": "code",
   "execution_count": 136,
   "id": "f8969019",
   "metadata": {
    "ExecuteTime": {
     "end_time": "2023-03-28T13:51:11.921524Z",
     "start_time": "2023-03-28T13:51:11.898854Z"
    }
   },
   "outputs": [
    {
     "data": {
      "text/plain": [
       "Intl_plan            no\n",
       "Day_mins          34.95\n",
       "Customer_calls      0.0\n",
       "Voice_messages        0\n",
       "Day_charge         5.95\n",
       "churn                 0\n",
       "dtype: object"
      ]
     },
     "execution_count": 136,
     "metadata": {},
     "output_type": "execute_result"
    }
   ],
   "source": [
    "data2.min()"
   ]
  },
  {
   "cell_type": "code",
   "execution_count": 137,
   "id": "c0b9834e",
   "metadata": {
    "ExecuteTime": {
     "end_time": "2023-03-28T13:51:19.232084Z",
     "start_time": "2023-03-28T13:51:19.200493Z"
    }
   },
   "outputs": [
    {
     "data": {
      "text/plain": [
       "Intl_plan            yes\n",
       "Day_mins          324.95\n",
       "Customer_calls       3.5\n",
       "Voice_messages        52\n",
       "Day_charge         55.23\n",
       "churn                  1\n",
       "dtype: object"
      ]
     },
     "execution_count": 137,
     "metadata": {},
     "output_type": "execute_result"
    }
   ],
   "source": [
    "data2.max()"
   ]
  },
  {
   "cell_type": "code",
   "execution_count": null,
   "id": "3e059399",
   "metadata": {},
   "outputs": [],
   "source": []
  }
 ],
 "metadata": {
  "kernelspec": {
   "display_name": "Python 3 (ipykernel)",
   "language": "python",
   "name": "python3"
  },
  "language_info": {
   "codemirror_mode": {
    "name": "ipython",
    "version": 3
   },
   "file_extension": ".py",
   "mimetype": "text/x-python",
   "name": "python",
   "nbconvert_exporter": "python",
   "pygments_lexer": "ipython3",
   "version": "3.9.13"
  }
 },
 "nbformat": 4,
 "nbformat_minor": 5
}
